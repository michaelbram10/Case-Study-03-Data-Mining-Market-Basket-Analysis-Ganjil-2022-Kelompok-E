{
  "cells": [
    {
      "cell_type": "markdown",
      "metadata": {
        "id": "view-in-github",
        "colab_type": "text"
      },
      "source": [
        "<a href=\"https://colab.research.google.com/github/michaelbram10/Case-Study-03-Data-Mining-Market-Basket-Analysis-Ganjil-2022-Kelompok-E/blob/main/Case_Study_03_Data_Mining_Market_Basket_Analysis_Ganjil_2022_Kelompok_E.ipynb\" target=\"_parent\"><img src=\"https://colab.research.google.com/assets/colab-badge.svg\" alt=\"Open In Colab\"/></a>"
      ]
    },
    {
      "cell_type": "markdown",
      "id": "4380d15f",
      "metadata": {
        "id": "4380d15f"
      },
      "source": [
        "# Study Case 03 - Data Mining dan Business Intelligence : Market Basket Analysis Toko AlfaIndo Cabang UI Depok\n",
        "\n",
        "**Kelompok E :**\n",
        "1. Nurul Annisa                  (1906377864)\n",
        "2. Athaya Yumna Fathiyah         (1906296192)\n",
        "3. Michael Mario Bramanthyo Adhi (1906299534)\n",
        "4. Teguh Saputra                 (1906375700)\n",
        "5. Ammar Yazid                   (1906377851)        \n",
        "6. Bintang Anugrah Alam          (2006571173) \n",
        "7. Salsana Siti Hatmanti         (2006571154)"
      ]
    },
    {
      "cell_type": "markdown",
      "id": "a1d0c0a2",
      "metadata": {
        "id": "a1d0c0a2"
      },
      "source": [
        "## Kasus: \n",
        "- *AlfaIndo* adalah sebuah toko waralaba yang memiliki beberapa cabang di kota-kota besar di Indonesia seperti Jakarta, Depok, Surabaya, dan Medan.\n",
        "- Anda adalah seorang Data Analyst yang bekerja di kantor pusat AlfaIndo di Jakarta\n",
        "- Pasca masa pandemi Toko AlfaIndo cabang UI Depok mengalami penurunan laba yang signifikan.\n",
        "- Anda ditugaskan oleh pimpinan untuk membantu toko ALfaIndo cabang UI Depok untuk bangkit dari keterpurukannya."
      ]
    },
    {
      "cell_type": "markdown",
      "id": "0d0ffdd7",
      "metadata": {
        "id": "0d0ffdd7"
      },
      "source": [
        "## Petunjuk\n",
        "*Catatan:*\t\n",
        "0-\t*Warning …* Karena file berbentuk Excel anda harus menyiapkan mekanisme agar file tersebut dapat di load secara automatis ketika Jupyter Notebook and di \"Run-All\" oleh dosen (misal merubah ke csv dan upload ke GitHub). \\\n",
        "1-\tTentukan ketua kelompok, silahkan mulai fikirkan strategi pembagian kerja kelompoknya. \\\n",
        "2-\tSemua menyiapkan Akun GitHub dan aplikasi GitHub Desktop (silahkan latihan menggunakan GitHub). \\\n",
        "3-\tPelajari dengan baik semua materi sebelumnya, latihan dengan data yang ada atau yang baru. \\\n",
        "4-\tGunakan akumulasi semua pengetahuan/skill yang telah dipelajari sebelumnya untuk menjawab kasus saat ini. \\\n",
        "5-\tSaat membuat laporan pengolahan data case study nanti, bayangkan kalian sedang bekerja di sebuah perusahaan sebagai Data Analyst dan membuat laporan ke atasan (bukan dosen). Perhatikan dengan baik narasi/kalimat yang digunakan dalam mengambil kesimpulan dan membuat rekomendasi. \\\n",
        "6-\tYakinkan Code anda dapat di \"Run-All\" oleh dosen di Google colaboratory. \\\n",
        "7-\tYakinkan anda memberikan informasi/insight serta rekomendasi/strategi Non-Trivial sebanyak-banyaknya. \\\n",
        "8-\tYakinkan ada kesimpulan akhir (penutup) di bagian paling bawah \"ipynb\" anda."
      ]
    },
    {
      "cell_type": "markdown",
      "source": [
        "## Produk\n",
        "![image.png](data:image/png;base64,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)"
      ],
      "metadata": {
        "id": "iC3Ldwp8Y4_w"
      },
      "id": "iC3Ldwp8Y4_w"
    },
    {
      "cell_type": "markdown",
      "id": "a871b9d4",
      "metadata": {
        "id": "a871b9d4"
      },
      "source": [
        "## 1. Preparation"
      ]
    },
    {
      "cell_type": "markdown",
      "id": "ed7ab155",
      "metadata": {
        "id": "ed7ab155"
      },
      "source": [
        "### 1.1 Libraries and Utilities"
      ]
    },
    {
      "cell_type": "code",
      "execution_count": null,
      "id": "d4eccaa6",
      "metadata": {
        "id": "d4eccaa6"
      },
      "outputs": [],
      "source": [
        "#Data Manipulatiom\n",
        "import pandas as pd\n",
        "import numpy as np\n",
        "import sklearn\n",
        "import scipy\n",
        "\n",
        "#Visualization\n",
        "import seaborn as sns           \n",
        "import matplotlib.pyplot as plt \n",
        "%matplotlib inline \n",
        "sns.set(color_codes=True)\n",
        "\n",
        "#Modelling\n",
        "from mlxtend.frequent_patterns import apriori\n",
        "from mlxtend.frequent_patterns import association_rules"
      ]
    },
    {
      "cell_type": "markdown",
      "id": "19acf464",
      "metadata": {
        "id": "19acf464"
      },
      "source": [
        "### 1.2 Data Loading"
      ]
    },
    {
      "cell_type": "markdown",
      "id": "29f65d87",
      "metadata": {
        "id": "29f65d87"
      },
      "source": [
        "### Import Data"
      ]
    },
    {
      "cell_type": "code",
      "execution_count": null,
      "id": "5448aa7e",
      "metadata": {
        "id": "5448aa7e"
      },
      "outputs": [],
      "source": [
        "# Loading Data:\n",
        "df = pd.read_csv(r\"https://raw.githubusercontent.com/Ammardaffala/ADM-Case-02-Clustering/main/Data%20Market%20Basket%20Analysis.csv\", sep = ';', low_memory = False, encoding='utf8')"
      ]
    },
    {
      "cell_type": "code",
      "execution_count": null,
      "id": "3e3261c1",
      "metadata": {
        "id": "3e3261c1",
        "outputId": "843518c5-133a-407b-d35b-1dcdea7c038e",
        "colab": {
          "base_uri": "https://localhost:8080/",
          "height": 206
        }
      },
      "outputs": [
        {
          "output_type": "execute_result",
          "data": {
            "text/plain": [
              "   ID Transaksi         Tanggal Konsumen  ID Produk Nama Produk     Merek  \\\n",
              "0             1  01/07/22 00.00    Mr. A          1        Roti  Sri Roti   \n",
              "1             1  01/07/22 00.00    Mr. A          2   Air Minum     Aquos   \n",
              "2             1  01/07/22 00.00    Mr. A         11  Mie Instan    Indomi   \n",
              "3             1  01/07/22 00.00    Mr. A         12  Mie Instan  Mi Sedap   \n",
              "4             2  01/07/22 00.00    Mr. B          2   Air Minum     Aquos   \n",
              "\n",
              "   Jumlah  \n",
              "0       2  \n",
              "1       1  \n",
              "2       2  \n",
              "3       1  \n",
              "4       1  "
            ],
            "text/html": [
              "\n",
              "  <div id=\"df-2d3b2cb4-3876-4209-b84e-2353492ce143\">\n",
              "    <div class=\"colab-df-container\">\n",
              "      <div>\n",
              "<style scoped>\n",
              "    .dataframe tbody tr th:only-of-type {\n",
              "        vertical-align: middle;\n",
              "    }\n",
              "\n",
              "    .dataframe tbody tr th {\n",
              "        vertical-align: top;\n",
              "    }\n",
              "\n",
              "    .dataframe thead th {\n",
              "        text-align: right;\n",
              "    }\n",
              "</style>\n",
              "<table border=\"1\" class=\"dataframe\">\n",
              "  <thead>\n",
              "    <tr style=\"text-align: right;\">\n",
              "      <th></th>\n",
              "      <th>ID Transaksi</th>\n",
              "      <th>Tanggal</th>\n",
              "      <th>Konsumen</th>\n",
              "      <th>ID Produk</th>\n",
              "      <th>Nama Produk</th>\n",
              "      <th>Merek</th>\n",
              "      <th>Jumlah</th>\n",
              "    </tr>\n",
              "  </thead>\n",
              "  <tbody>\n",
              "    <tr>\n",
              "      <th>0</th>\n",
              "      <td>1</td>\n",
              "      <td>01/07/22 00.00</td>\n",
              "      <td>Mr. A</td>\n",
              "      <td>1</td>\n",
              "      <td>Roti</td>\n",
              "      <td>Sri Roti</td>\n",
              "      <td>2</td>\n",
              "    </tr>\n",
              "    <tr>\n",
              "      <th>1</th>\n",
              "      <td>1</td>\n",
              "      <td>01/07/22 00.00</td>\n",
              "      <td>Mr. A</td>\n",
              "      <td>2</td>\n",
              "      <td>Air Minum</td>\n",
              "      <td>Aquos</td>\n",
              "      <td>1</td>\n",
              "    </tr>\n",
              "    <tr>\n",
              "      <th>2</th>\n",
              "      <td>1</td>\n",
              "      <td>01/07/22 00.00</td>\n",
              "      <td>Mr. A</td>\n",
              "      <td>11</td>\n",
              "      <td>Mie Instan</td>\n",
              "      <td>Indomi</td>\n",
              "      <td>2</td>\n",
              "    </tr>\n",
              "    <tr>\n",
              "      <th>3</th>\n",
              "      <td>1</td>\n",
              "      <td>01/07/22 00.00</td>\n",
              "      <td>Mr. A</td>\n",
              "      <td>12</td>\n",
              "      <td>Mie Instan</td>\n",
              "      <td>Mi Sedap</td>\n",
              "      <td>1</td>\n",
              "    </tr>\n",
              "    <tr>\n",
              "      <th>4</th>\n",
              "      <td>2</td>\n",
              "      <td>01/07/22 00.00</td>\n",
              "      <td>Mr. B</td>\n",
              "      <td>2</td>\n",
              "      <td>Air Minum</td>\n",
              "      <td>Aquos</td>\n",
              "      <td>1</td>\n",
              "    </tr>\n",
              "  </tbody>\n",
              "</table>\n",
              "</div>\n",
              "      <button class=\"colab-df-convert\" onclick=\"convertToInteractive('df-2d3b2cb4-3876-4209-b84e-2353492ce143')\"\n",
              "              title=\"Convert this dataframe to an interactive table.\"\n",
              "              style=\"display:none;\">\n",
              "        \n",
              "  <svg xmlns=\"http://www.w3.org/2000/svg\" height=\"24px\"viewBox=\"0 0 24 24\"\n",
              "       width=\"24px\">\n",
              "    <path d=\"M0 0h24v24H0V0z\" fill=\"none\"/>\n",
              "    <path d=\"M18.56 5.44l.94 2.06.94-2.06 2.06-.94-2.06-.94-.94-2.06-.94 2.06-2.06.94zm-11 1L8.5 8.5l.94-2.06 2.06-.94-2.06-.94L8.5 2.5l-.94 2.06-2.06.94zm10 10l.94 2.06.94-2.06 2.06-.94-2.06-.94-.94-2.06-.94 2.06-2.06.94z\"/><path d=\"M17.41 7.96l-1.37-1.37c-.4-.4-.92-.59-1.43-.59-.52 0-1.04.2-1.43.59L10.3 9.45l-7.72 7.72c-.78.78-.78 2.05 0 2.83L4 21.41c.39.39.9.59 1.41.59.51 0 1.02-.2 1.41-.59l7.78-7.78 2.81-2.81c.8-.78.8-2.07 0-2.86zM5.41 20L4 18.59l7.72-7.72 1.47 1.35L5.41 20z\"/>\n",
              "  </svg>\n",
              "      </button>\n",
              "      \n",
              "  <style>\n",
              "    .colab-df-container {\n",
              "      display:flex;\n",
              "      flex-wrap:wrap;\n",
              "      gap: 12px;\n",
              "    }\n",
              "\n",
              "    .colab-df-convert {\n",
              "      background-color: #E8F0FE;\n",
              "      border: none;\n",
              "      border-radius: 50%;\n",
              "      cursor: pointer;\n",
              "      display: none;\n",
              "      fill: #1967D2;\n",
              "      height: 32px;\n",
              "      padding: 0 0 0 0;\n",
              "      width: 32px;\n",
              "    }\n",
              "\n",
              "    .colab-df-convert:hover {\n",
              "      background-color: #E2EBFA;\n",
              "      box-shadow: 0px 1px 2px rgba(60, 64, 67, 0.3), 0px 1px 3px 1px rgba(60, 64, 67, 0.15);\n",
              "      fill: #174EA6;\n",
              "    }\n",
              "\n",
              "    [theme=dark] .colab-df-convert {\n",
              "      background-color: #3B4455;\n",
              "      fill: #D2E3FC;\n",
              "    }\n",
              "\n",
              "    [theme=dark] .colab-df-convert:hover {\n",
              "      background-color: #434B5C;\n",
              "      box-shadow: 0px 1px 3px 1px rgba(0, 0, 0, 0.15);\n",
              "      filter: drop-shadow(0px 1px 2px rgba(0, 0, 0, 0.3));\n",
              "      fill: #FFFFFF;\n",
              "    }\n",
              "  </style>\n",
              "\n",
              "      <script>\n",
              "        const buttonEl =\n",
              "          document.querySelector('#df-2d3b2cb4-3876-4209-b84e-2353492ce143 button.colab-df-convert');\n",
              "        buttonEl.style.display =\n",
              "          google.colab.kernel.accessAllowed ? 'block' : 'none';\n",
              "\n",
              "        async function convertToInteractive(key) {\n",
              "          const element = document.querySelector('#df-2d3b2cb4-3876-4209-b84e-2353492ce143');\n",
              "          const dataTable =\n",
              "            await google.colab.kernel.invokeFunction('convertToInteractive',\n",
              "                                                     [key], {});\n",
              "          if (!dataTable) return;\n",
              "\n",
              "          const docLinkHtml = 'Like what you see? Visit the ' +\n",
              "            '<a target=\"_blank\" href=https://colab.research.google.com/notebooks/data_table.ipynb>data table notebook</a>'\n",
              "            + ' to learn more about interactive tables.';\n",
              "          element.innerHTML = '';\n",
              "          dataTable['output_type'] = 'display_data';\n",
              "          await google.colab.output.renderOutput(dataTable, element);\n",
              "          const docLink = document.createElement('div');\n",
              "          docLink.innerHTML = docLinkHtml;\n",
              "          element.appendChild(docLink);\n",
              "        }\n",
              "      </script>\n",
              "    </div>\n",
              "  </div>\n",
              "  "
            ]
          },
          "metadata": {},
          "execution_count": 3
        }
      ],
      "source": [
        "df.head()"
      ]
    },
    {
      "cell_type": "code",
      "execution_count": null,
      "id": "b150fed8",
      "metadata": {
        "id": "b150fed8",
        "outputId": "156716ca-8fc2-4458-fe1c-ef4147657011",
        "colab": {
          "base_uri": "https://localhost:8080/",
          "height": 206
        }
      },
      "outputs": [
        {
          "output_type": "execute_result",
          "data": {
            "text/plain": [
              "    ID Transaksi         Tanggal Konsumen  ID Produk Nama Produk     Merek  \\\n",
              "51            17  05/09/22 00.00    Mr. F          2   Air Minum     Aquos   \n",
              "52            17  05/09/22 00.00    Mr. F          4       Sabun    Lifboy   \n",
              "53            17  05/09/22 00.00    Mr. F          6       Snack     Chiki   \n",
              "54            18  02/10/22 00.00    Mr. B          1        Roti  Sri Roti   \n",
              "55            18  02/10/22 00.00    Mr. B         10   Air Minum     Sprit   \n",
              "\n",
              "    Jumlah  \n",
              "51       1  \n",
              "52       1  \n",
              "53       2  \n",
              "54       2  \n",
              "55       2  "
            ],
            "text/html": [
              "\n",
              "  <div id=\"df-4322a782-c04e-419e-b191-a9f4a24be127\">\n",
              "    <div class=\"colab-df-container\">\n",
              "      <div>\n",
              "<style scoped>\n",
              "    .dataframe tbody tr th:only-of-type {\n",
              "        vertical-align: middle;\n",
              "    }\n",
              "\n",
              "    .dataframe tbody tr th {\n",
              "        vertical-align: top;\n",
              "    }\n",
              "\n",
              "    .dataframe thead th {\n",
              "        text-align: right;\n",
              "    }\n",
              "</style>\n",
              "<table border=\"1\" class=\"dataframe\">\n",
              "  <thead>\n",
              "    <tr style=\"text-align: right;\">\n",
              "      <th></th>\n",
              "      <th>ID Transaksi</th>\n",
              "      <th>Tanggal</th>\n",
              "      <th>Konsumen</th>\n",
              "      <th>ID Produk</th>\n",
              "      <th>Nama Produk</th>\n",
              "      <th>Merek</th>\n",
              "      <th>Jumlah</th>\n",
              "    </tr>\n",
              "  </thead>\n",
              "  <tbody>\n",
              "    <tr>\n",
              "      <th>51</th>\n",
              "      <td>17</td>\n",
              "      <td>05/09/22 00.00</td>\n",
              "      <td>Mr. F</td>\n",
              "      <td>2</td>\n",
              "      <td>Air Minum</td>\n",
              "      <td>Aquos</td>\n",
              "      <td>1</td>\n",
              "    </tr>\n",
              "    <tr>\n",
              "      <th>52</th>\n",
              "      <td>17</td>\n",
              "      <td>05/09/22 00.00</td>\n",
              "      <td>Mr. F</td>\n",
              "      <td>4</td>\n",
              "      <td>Sabun</td>\n",
              "      <td>Lifboy</td>\n",
              "      <td>1</td>\n",
              "    </tr>\n",
              "    <tr>\n",
              "      <th>53</th>\n",
              "      <td>17</td>\n",
              "      <td>05/09/22 00.00</td>\n",
              "      <td>Mr. F</td>\n",
              "      <td>6</td>\n",
              "      <td>Snack</td>\n",
              "      <td>Chiki</td>\n",
              "      <td>2</td>\n",
              "    </tr>\n",
              "    <tr>\n",
              "      <th>54</th>\n",
              "      <td>18</td>\n",
              "      <td>02/10/22 00.00</td>\n",
              "      <td>Mr. B</td>\n",
              "      <td>1</td>\n",
              "      <td>Roti</td>\n",
              "      <td>Sri Roti</td>\n",
              "      <td>2</td>\n",
              "    </tr>\n",
              "    <tr>\n",
              "      <th>55</th>\n",
              "      <td>18</td>\n",
              "      <td>02/10/22 00.00</td>\n",
              "      <td>Mr. B</td>\n",
              "      <td>10</td>\n",
              "      <td>Air Minum</td>\n",
              "      <td>Sprit</td>\n",
              "      <td>2</td>\n",
              "    </tr>\n",
              "  </tbody>\n",
              "</table>\n",
              "</div>\n",
              "      <button class=\"colab-df-convert\" onclick=\"convertToInteractive('df-4322a782-c04e-419e-b191-a9f4a24be127')\"\n",
              "              title=\"Convert this dataframe to an interactive table.\"\n",
              "              style=\"display:none;\">\n",
              "        \n",
              "  <svg xmlns=\"http://www.w3.org/2000/svg\" height=\"24px\"viewBox=\"0 0 24 24\"\n",
              "       width=\"24px\">\n",
              "    <path d=\"M0 0h24v24H0V0z\" fill=\"none\"/>\n",
              "    <path d=\"M18.56 5.44l.94 2.06.94-2.06 2.06-.94-2.06-.94-.94-2.06-.94 2.06-2.06.94zm-11 1L8.5 8.5l.94-2.06 2.06-.94-2.06-.94L8.5 2.5l-.94 2.06-2.06.94zm10 10l.94 2.06.94-2.06 2.06-.94-2.06-.94-.94-2.06-.94 2.06-2.06.94z\"/><path d=\"M17.41 7.96l-1.37-1.37c-.4-.4-.92-.59-1.43-.59-.52 0-1.04.2-1.43.59L10.3 9.45l-7.72 7.72c-.78.78-.78 2.05 0 2.83L4 21.41c.39.39.9.59 1.41.59.51 0 1.02-.2 1.41-.59l7.78-7.78 2.81-2.81c.8-.78.8-2.07 0-2.86zM5.41 20L4 18.59l7.72-7.72 1.47 1.35L5.41 20z\"/>\n",
              "  </svg>\n",
              "      </button>\n",
              "      \n",
              "  <style>\n",
              "    .colab-df-container {\n",
              "      display:flex;\n",
              "      flex-wrap:wrap;\n",
              "      gap: 12px;\n",
              "    }\n",
              "\n",
              "    .colab-df-convert {\n",
              "      background-color: #E8F0FE;\n",
              "      border: none;\n",
              "      border-radius: 50%;\n",
              "      cursor: pointer;\n",
              "      display: none;\n",
              "      fill: #1967D2;\n",
              "      height: 32px;\n",
              "      padding: 0 0 0 0;\n",
              "      width: 32px;\n",
              "    }\n",
              "\n",
              "    .colab-df-convert:hover {\n",
              "      background-color: #E2EBFA;\n",
              "      box-shadow: 0px 1px 2px rgba(60, 64, 67, 0.3), 0px 1px 3px 1px rgba(60, 64, 67, 0.15);\n",
              "      fill: #174EA6;\n",
              "    }\n",
              "\n",
              "    [theme=dark] .colab-df-convert {\n",
              "      background-color: #3B4455;\n",
              "      fill: #D2E3FC;\n",
              "    }\n",
              "\n",
              "    [theme=dark] .colab-df-convert:hover {\n",
              "      background-color: #434B5C;\n",
              "      box-shadow: 0px 1px 3px 1px rgba(0, 0, 0, 0.15);\n",
              "      filter: drop-shadow(0px 1px 2px rgba(0, 0, 0, 0.3));\n",
              "      fill: #FFFFFF;\n",
              "    }\n",
              "  </style>\n",
              "\n",
              "      <script>\n",
              "        const buttonEl =\n",
              "          document.querySelector('#df-4322a782-c04e-419e-b191-a9f4a24be127 button.colab-df-convert');\n",
              "        buttonEl.style.display =\n",
              "          google.colab.kernel.accessAllowed ? 'block' : 'none';\n",
              "\n",
              "        async function convertToInteractive(key) {\n",
              "          const element = document.querySelector('#df-4322a782-c04e-419e-b191-a9f4a24be127');\n",
              "          const dataTable =\n",
              "            await google.colab.kernel.invokeFunction('convertToInteractive',\n",
              "                                                     [key], {});\n",
              "          if (!dataTable) return;\n",
              "\n",
              "          const docLinkHtml = 'Like what you see? Visit the ' +\n",
              "            '<a target=\"_blank\" href=https://colab.research.google.com/notebooks/data_table.ipynb>data table notebook</a>'\n",
              "            + ' to learn more about interactive tables.';\n",
              "          element.innerHTML = '';\n",
              "          dataTable['output_type'] = 'display_data';\n",
              "          await google.colab.output.renderOutput(dataTable, element);\n",
              "          const docLink = document.createElement('div');\n",
              "          docLink.innerHTML = docLinkHtml;\n",
              "          element.appendChild(docLink);\n",
              "        }\n",
              "      </script>\n",
              "    </div>\n",
              "  </div>\n",
              "  "
            ]
          },
          "metadata": {},
          "execution_count": 4
        }
      ],
      "source": [
        "df.tail()"
      ]
    },
    {
      "cell_type": "code",
      "execution_count": null,
      "id": "5eae8c35",
      "metadata": {
        "id": "5eae8c35",
        "outputId": "4f2d50ff-bbe9-4620-f381-6149ac85ec9e",
        "colab": {
          "base_uri": "https://localhost:8080/"
        }
      },
      "outputs": [
        {
          "output_type": "stream",
          "name": "stdout",
          "text": [
            "<class 'pandas.core.frame.DataFrame'>\n",
            "RangeIndex: 56 entries, 0 to 55\n",
            "Data columns (total 7 columns):\n",
            " #   Column        Non-Null Count  Dtype \n",
            "---  ------        --------------  ----- \n",
            " 0   ID Transaksi  56 non-null     int64 \n",
            " 1   Tanggal       56 non-null     object\n",
            " 2   Konsumen      56 non-null     object\n",
            " 3   ID Produk     56 non-null     int64 \n",
            " 4   Nama Produk   56 non-null     object\n",
            " 5   Merek         56 non-null     object\n",
            " 6   Jumlah        56 non-null     int64 \n",
            "dtypes: int64(3), object(4)\n",
            "memory usage: 3.2+ KB\n"
          ]
        }
      ],
      "source": [
        "df.info()"
      ]
    },
    {
      "cell_type": "markdown",
      "id": "0974fd61",
      "metadata": {
        "id": "0974fd61"
      },
      "source": [
        "### 1.3 Data Understanding"
      ]
    },
    {
      "cell_type": "code",
      "execution_count": null,
      "id": "6ced0327",
      "metadata": {
        "id": "6ced0327",
        "outputId": "16412139-7a03-466f-d569-f70034c34e6b",
        "colab": {
          "base_uri": "https://localhost:8080/"
        }
      },
      "outputs": [
        {
          "output_type": "execute_result",
          "data": {
            "text/plain": [
              "['ID Transaksi',\n",
              " 'Tanggal',\n",
              " 'Konsumen',\n",
              " 'ID Produk',\n",
              " 'Nama Produk',\n",
              " 'Merek',\n",
              " 'Jumlah']"
            ]
          },
          "metadata": {},
          "execution_count": 7
        }
      ],
      "source": [
        "list(df.columns)"
      ]
    },
    {
      "cell_type": "code",
      "execution_count": null,
      "id": "65617e58",
      "metadata": {
        "scrolled": true,
        "id": "65617e58",
        "outputId": "14655f64-286e-4f65-8365-a854dbc133b9",
        "colab": {
          "base_uri": "https://localhost:8080/"
        }
      },
      "outputs": [
        {
          "output_type": "execute_result",
          "data": {
            "text/plain": [
              "ID Transaksi     int64\n",
              "Tanggal         object\n",
              "Konsumen        object\n",
              "ID Produk        int64\n",
              "Nama Produk     object\n",
              "Merek           object\n",
              "Jumlah           int64\n",
              "dtype: object"
            ]
          },
          "metadata": {},
          "execution_count": 8
        }
      ],
      "source": [
        "df.dtypes"
      ]
    },
    {
      "cell_type": "code",
      "execution_count": null,
      "id": "f7b66f2b",
      "metadata": {
        "id": "f7b66f2b"
      },
      "outputs": [],
      "source": [
        "### Change The Data Type of Some Columns ###\n",
        "\n",
        "df['Tanggal'] = pd.to_datetime(df['Tanggal'])"
      ]
    },
    {
      "cell_type": "code",
      "execution_count": null,
      "id": "4b5b0be3",
      "metadata": {
        "id": "4b5b0be3",
        "outputId": "2078724d-5af4-433e-f72b-a2f038d52b71",
        "colab": {
          "base_uri": "https://localhost:8080/"
        }
      },
      "outputs": [
        {
          "output_type": "execute_result",
          "data": {
            "text/plain": [
              "2022-05-07    9\n",
              "2022-01-07    8\n",
              "2022-02-07    8\n",
              "2022-04-07    6\n",
              "2022-06-07    6\n",
              "2022-07-07    6\n",
              "2022-03-07    5\n",
              "2022-05-09    4\n",
              "2022-02-10    2\n",
              "2022-08-07    1\n",
              "2022-02-08    1\n",
              "Name: Tanggal, dtype: int64"
            ]
          },
          "metadata": {},
          "execution_count": 62
        }
      ],
      "source": [
        "df['Tanggal'].value_counts()"
      ]
    },
    {
      "cell_type": "markdown",
      "id": "e1224cf3",
      "metadata": {
        "id": "e1224cf3"
      },
      "source": [
        "### Pengelompokkan Kolom Berdasarkan Tipe Data"
      ]
    },
    {
      "cell_type": "code",
      "execution_count": null,
      "id": "fd24ebba",
      "metadata": {
        "scrolled": true,
        "id": "fd24ebba",
        "outputId": "7a82f8d7-3203-4521-bd98-5cea486a7599"
      },
      "outputs": [
        {
          "name": "stdout",
          "output_type": "stream",
          "text": [
            "Kolom bertipe Number (Integer/Float):\n",
            "\n",
            " [['ID Transaksi', 'ID Produk', 'Jumlah']] \n",
            "\n",
            "Kolom bertipe Integer               :\n",
            " [['ID Transaksi', 'ID Produk', 'Jumlah']] \n",
            "\n",
            "Kolom bertipe Float                 :\n",
            " [[]] \n",
            "\n",
            "Kolom bertipe Object                :\n",
            "\n",
            " [['Konsumen', 'Nama Produk', 'Merek']]\n"
          ]
        }
      ],
      "source": [
        "# melihat kolom dengan tipe data yang berbeda (number dan object)\n",
        "\n",
        "df_number = []\n",
        "df_int = []\n",
        "df_float = []\n",
        "df_object = []\n",
        "\n",
        "df_number.append(df.select_dtypes('number').columns.tolist()) # menampilkan nama kolom yang berisi data dengan tipe number\n",
        "df_int.append(df.select_dtypes('integer').columns.tolist()) # menampilkan nama kolom yang berisi data dengan tipe number\n",
        "df_float.append(df.select_dtypes('float').columns.tolist()) # menampilkan nama kolom yang berisi data dengan tipe number\n",
        "df_object.append(df.select_dtypes('object').columns.tolist()) # menampilkan nama kolom yang berisi data dengan tipe object\n",
        "\n",
        "print('Kolom bertipe Number (Integer/Float):\\n\\n',df_number,'\\n')\n",
        "print('Kolom bertipe Integer               :\\n',df_int,'\\n')\n",
        "print('Kolom bertipe Float                 :\\n',df_float,'\\n')\n",
        "print('Kolom bertipe Object                :\\n\\n',df_object)"
      ]
    },
    {
      "cell_type": "markdown",
      "id": "8f9b2c75",
      "metadata": {
        "id": "8f9b2c75"
      },
      "source": [
        "### Convert Integer to Float"
      ]
    },
    {
      "cell_type": "code",
      "execution_count": null,
      "id": "030190d5",
      "metadata": {
        "id": "030190d5",
        "outputId": "2d350070-94fd-4839-94e2-eb525e2348ba"
      },
      "outputs": [
        {
          "name": "stdout",
          "output_type": "stream",
          "text": [
            "Index(['ID Transaksi', 'ID Produk', 'Jumlah'], dtype='object')\n"
          ]
        }
      ],
      "source": [
        "#Feature yang data typenya integer\n",
        "df_int = df.select_dtypes(include='int').columns\n",
        "print(df_int)"
      ]
    },
    {
      "cell_type": "code",
      "execution_count": null,
      "id": "f3b37167",
      "metadata": {
        "id": "f3b37167"
      },
      "outputs": [],
      "source": [
        "df[df_int] = df[df_int].astype(float)"
      ]
    },
    {
      "cell_type": "code",
      "execution_count": null,
      "id": "167a67ee",
      "metadata": {
        "id": "167a67ee",
        "outputId": "eb9aaebb-84e2-44d5-d610-007d08966de1"
      },
      "outputs": [
        {
          "name": "stdout",
          "output_type": "stream",
          "text": [
            "Index(['ID Transaksi', 'ID Produk', 'Jumlah'], dtype='object')\n"
          ]
        }
      ],
      "source": [
        "#Feature yang data typenya float\n",
        "df_float = df.select_dtypes(include='float').columns\n",
        "print(df_float)"
      ]
    },
    {
      "cell_type": "markdown",
      "id": "f418efc1",
      "metadata": {
        "id": "f418efc1"
      },
      "source": [
        "### Data Preprocessing"
      ]
    },
    {
      "cell_type": "code",
      "execution_count": null,
      "id": "23cf05a4",
      "metadata": {
        "id": "23cf05a4",
        "outputId": "621b9409-9bdd-4bb5-a296-49f2fe587a51"
      },
      "outputs": [
        {
          "name": "stdout",
          "output_type": "stream",
          "text": [
            "Dimensi data awal : (56, 7)\n"
          ]
        }
      ],
      "source": [
        "# Total number of rows and columns\n",
        "print(\"Dimensi data awal :\", df.shape)\n",
        "# df.shape"
      ]
    },
    {
      "cell_type": "markdown",
      "id": "2efcad7e",
      "metadata": {
        "id": "2efcad7e"
      },
      "source": [
        "### Handling Missing Value"
      ]
    },
    {
      "cell_type": "markdown",
      "id": "2f114d0b",
      "metadata": {
        "id": "2f114d0b"
      },
      "source": [
        "It is used to remove outliers and duplicates from the dataset. Moreover, it is a very common practice to scale the columns on a standard scale, it helps in faster convergence and gives better results."
      ]
    },
    {
      "cell_type": "code",
      "execution_count": null,
      "id": "27c25399",
      "metadata": {
        "id": "27c25399",
        "outputId": "37231e38-2884-4ad4-a4ac-b17a8216b588"
      },
      "outputs": [
        {
          "data": {
            "text/plain": [
              "0"
            ]
          },
          "execution_count": 15,
          "metadata": {},
          "output_type": "execute_result"
        }
      ],
      "source": [
        "sum(df.duplicated())"
      ]
    },
    {
      "cell_type": "code",
      "execution_count": null,
      "id": "e0739637",
      "metadata": {
        "id": "e0739637",
        "outputId": "f195b76e-b47f-4f08-b4ef-5b7d0c41282c"
      },
      "outputs": [
        {
          "name": "stdout",
          "output_type": "stream",
          "text": [
            "0\n",
            "(56, 7)\n"
          ]
        }
      ],
      "source": [
        "#Remove Duplicate\n",
        "df.drop_duplicates(inplace=True)\n",
        "print(df.duplicated().sum()) # no more duplicates\n",
        "print(df.shape) # re-check by printing data size"
      ]
    },
    {
      "cell_type": "markdown",
      "id": "f341e58b",
      "metadata": {
        "id": "f341e58b"
      },
      "source": [
        "tidak terdapat data duplikat di dalam data"
      ]
    },
    {
      "cell_type": "markdown",
      "id": "9f35895a",
      "metadata": {
        "id": "9f35895a"
      },
      "source": [
        "### Memilih data object"
      ]
    },
    {
      "cell_type": "code",
      "execution_count": null,
      "id": "76fbefdc",
      "metadata": {
        "id": "76fbefdc",
        "outputId": "cc0cdf47-4991-444e-e0a8-38a199e4ea53"
      },
      "outputs": [
        {
          "name": "stdout",
          "output_type": "stream",
          "text": [
            "Index(['Konsumen', 'Nama Produk', 'Merek'], dtype='object')\n"
          ]
        }
      ],
      "source": [
        "#Feature yang data typenya object\n",
        "df_object = df.select_dtypes(include='object').columns\n",
        "print(df_object)"
      ]
    },
    {
      "cell_type": "code",
      "execution_count": null,
      "id": "28cc1550",
      "metadata": {
        "scrolled": false,
        "id": "28cc1550",
        "outputId": "33c35106-116f-4afe-b064-3cde1967630c"
      },
      "outputs": [
        {
          "data": {
            "text/plain": [
              "Konsumen       11\n",
              "Nama Produk     7\n",
              "Merek          12\n",
              "dtype: int64"
            ]
          },
          "execution_count": 18,
          "metadata": {},
          "output_type": "execute_result"
        }
      ],
      "source": [
        "obj = list(df_object)\n",
        "df[obj].nunique()"
      ]
    },
    {
      "cell_type": "markdown",
      "id": "4c129cd2",
      "metadata": {
        "id": "4c129cd2"
      },
      "source": [
        "### Memilih data numerik"
      ]
    },
    {
      "cell_type": "code",
      "execution_count": null,
      "id": "14d76a73",
      "metadata": {
        "id": "14d76a73",
        "outputId": "ffeaaa10-c0a6-4a12-82e3-7ba5836b3210"
      },
      "outputs": [
        {
          "name": "stdout",
          "output_type": "stream",
          "text": [
            "Index(['ID Transaksi', 'ID Produk', 'Jumlah'], dtype='object')\n"
          ]
        }
      ],
      "source": [
        "#Setelah menghapus beberapa fitur numerik\n",
        "df_float = df.select_dtypes(include='float').columns\n",
        "print(df_float)"
      ]
    },
    {
      "cell_type": "markdown",
      "id": "12e072dc",
      "metadata": {
        "id": "12e072dc"
      },
      "source": [
        "### Drop Variabel yang Tidak Berguna"
      ]
    },
    {
      "cell_type": "code",
      "execution_count": null,
      "id": "78cb00d1",
      "metadata": {
        "id": "78cb00d1"
      },
      "outputs": [],
      "source": [
        "del df['ID Transaksi']"
      ]
    },
    {
      "cell_type": "markdown",
      "id": "45eff950",
      "metadata": {
        "id": "45eff950"
      },
      "source": [
        "variabel 'ID Transaksi' tidak berguna sehingga variabel 'ID Transaksi'akan dihapus"
      ]
    },
    {
      "cell_type": "code",
      "execution_count": null,
      "id": "e4dd917c",
      "metadata": {
        "id": "e4dd917c",
        "outputId": "09ca95eb-a3b5-40ea-8553-1e909042dd56"
      },
      "outputs": [
        {
          "name": "stdout",
          "output_type": "stream",
          "text": [
            "Index(['ID Produk', 'Jumlah'], dtype='object')\n"
          ]
        }
      ],
      "source": [
        "#Setelah menghapus variabel\n",
        "df_float = df.select_dtypes(include='float').columns\n",
        "print(df_float)"
      ]
    },
    {
      "cell_type": "markdown",
      "id": "94bed472",
      "metadata": {
        "id": "94bed472"
      },
      "source": [
        "### Cek Missing Value"
      ]
    },
    {
      "cell_type": "code",
      "execution_count": null,
      "id": "3418b51a",
      "metadata": {
        "id": "3418b51a",
        "outputId": "3aa03b81-792b-452a-a316-47b84e3d1361"
      },
      "outputs": [
        {
          "name": "stdout",
          "output_type": "stream",
          "text": [
            "Data Missing Value:\n",
            "\n",
            "       Kolom  Jumlah Missing Value  Persentase Missing Value\n",
            "5     Jumlah                     0                       0.0\n",
            "0    Tanggal                     0                       0.0\n",
            "1   Konsumen                     0                       0.0\n",
            "2  ID Produk                     0                       0.0\n",
            "4      Merek                     0                       0.0 \n",
            "\n",
            "Persentase Missing Value Terbesar                  :  0.0\n",
            "Persentase Missing Value Keseluruhan               :  0.0\n",
            "Data Duplikat:\n",
            "\n",
            "Jumlah terdapat data duplikat pada data df         :  0 ( 0.0 % )\n"
          ]
        }
      ],
      "source": [
        "# Informasi Jumlah dan Persentase Missing Value\n",
        "\n",
        "## general\n",
        "\n",
        "df_mv = df.isnull().sum()                      # menampilkan jumlah total missing value per kolom\n",
        "df_pmv = (df.isnull().sum()/len(df))*100     # menampilkan persentase missing value per kolom\n",
        "\n",
        "df_missing = pd.concat([df_mv,df_pmv],axis = 1).reset_index() # menampilkan data dalam bentuk data frame\n",
        "\n",
        "df_missing.columns = ['Kolom','Jumlah Missing Value','Persentase Missing Value']\n",
        "missing_value = df_missing\n",
        "\n",
        "print('Data Missing Value:\\n')\n",
        "print(missing_value.sample(5),'\\n')\n",
        "print('Persentase Missing Value Terbesar                  : ',missing_value['Persentase Missing Value'].max())\n",
        "print('Persentase Missing Value Keseluruhan               : ',missing_value['Persentase Missing Value'].sum())\n",
        "\n",
        "\n",
        "print('Data Duplikat:\\n')\n",
        "print('Jumlah terdapat data duplikat pada data df         : ',df.duplicated().sum(), '(',(df.duplicated().sum()/len(df))*100,'%',')')"
      ]
    },
    {
      "cell_type": "markdown",
      "id": "b783de6a",
      "metadata": {
        "id": "b783de6a"
      },
      "source": [
        "Pada data tidak terdapat data yang duplikat sehingga tidak perlu dilakukan penghapusan data duplikat"
      ]
    },
    {
      "cell_type": "code",
      "execution_count": null,
      "id": "96de969a",
      "metadata": {
        "id": "96de969a",
        "outputId": "d2daea22-c035-44bf-c3f3-3b65ad30e678"
      },
      "outputs": [
        {
          "name": "stdout",
          "output_type": "stream",
          "text": [
            "Jumlah Data Missing Value:\n",
            "\n",
            "Tanggal        0\n",
            "Konsumen       0\n",
            "ID Produk      0\n",
            "Nama Produk    0\n",
            "Merek          0\n",
            "Jumlah         0\n",
            "dtype: int64\n"
          ]
        }
      ],
      "source": [
        "print('Jumlah Data Missing Value:\\n')\n",
        "print(df.isnull().sum())"
      ]
    },
    {
      "cell_type": "markdown",
      "id": "eca12ee0",
      "metadata": {
        "id": "eca12ee0"
      },
      "source": [
        "## Hasil data setelah di cleansing"
      ]
    },
    {
      "cell_type": "code",
      "execution_count": null,
      "id": "695a7abf",
      "metadata": {
        "id": "695a7abf",
        "outputId": "8f0c034d-032b-4c29-9d9a-130d2e1a4afa"
      },
      "outputs": [
        {
          "data": {
            "text/html": [
              "<div>\n",
              "<style scoped>\n",
              "    .dataframe tbody tr th:only-of-type {\n",
              "        vertical-align: middle;\n",
              "    }\n",
              "\n",
              "    .dataframe tbody tr th {\n",
              "        vertical-align: top;\n",
              "    }\n",
              "\n",
              "    .dataframe thead th {\n",
              "        text-align: right;\n",
              "    }\n",
              "</style>\n",
              "<table border=\"1\" class=\"dataframe\">\n",
              "  <thead>\n",
              "    <tr style=\"text-align: right;\">\n",
              "      <th></th>\n",
              "      <th>Tanggal</th>\n",
              "      <th>Konsumen</th>\n",
              "      <th>ID Produk</th>\n",
              "      <th>Nama Produk</th>\n",
              "      <th>Merek</th>\n",
              "      <th>Jumlah</th>\n",
              "    </tr>\n",
              "  </thead>\n",
              "  <tbody>\n",
              "    <tr>\n",
              "      <th>0</th>\n",
              "      <td>2022-01-07</td>\n",
              "      <td>Mr. A</td>\n",
              "      <td>1.0</td>\n",
              "      <td>Roti</td>\n",
              "      <td>Sri Roti</td>\n",
              "      <td>2.0</td>\n",
              "    </tr>\n",
              "    <tr>\n",
              "      <th>1</th>\n",
              "      <td>2022-01-07</td>\n",
              "      <td>Mr. A</td>\n",
              "      <td>2.0</td>\n",
              "      <td>Air Minum</td>\n",
              "      <td>Aquos</td>\n",
              "      <td>1.0</td>\n",
              "    </tr>\n",
              "    <tr>\n",
              "      <th>2</th>\n",
              "      <td>2022-01-07</td>\n",
              "      <td>Mr. A</td>\n",
              "      <td>11.0</td>\n",
              "      <td>Mie Instan</td>\n",
              "      <td>Indomi</td>\n",
              "      <td>2.0</td>\n",
              "    </tr>\n",
              "    <tr>\n",
              "      <th>3</th>\n",
              "      <td>2022-01-07</td>\n",
              "      <td>Mr. A</td>\n",
              "      <td>12.0</td>\n",
              "      <td>Mie Instan</td>\n",
              "      <td>Mi Sedap</td>\n",
              "      <td>1.0</td>\n",
              "    </tr>\n",
              "    <tr>\n",
              "      <th>4</th>\n",
              "      <td>2022-01-07</td>\n",
              "      <td>Mr. B</td>\n",
              "      <td>2.0</td>\n",
              "      <td>Air Minum</td>\n",
              "      <td>Aquos</td>\n",
              "      <td>1.0</td>\n",
              "    </tr>\n",
              "  </tbody>\n",
              "</table>\n",
              "</div>"
            ],
            "text/plain": [
              "     Tanggal Konsumen  ID Produk Nama Produk     Merek  Jumlah\n",
              "0 2022-01-07    Mr. A        1.0        Roti  Sri Roti     2.0\n",
              "1 2022-01-07    Mr. A        2.0   Air Minum     Aquos     1.0\n",
              "2 2022-01-07    Mr. A       11.0  Mie Instan    Indomi     2.0\n",
              "3 2022-01-07    Mr. A       12.0  Mie Instan  Mi Sedap     1.0\n",
              "4 2022-01-07    Mr. B        2.0   Air Minum     Aquos     1.0"
            ]
          },
          "execution_count": 27,
          "metadata": {},
          "output_type": "execute_result"
        }
      ],
      "source": [
        "df.head()"
      ]
    },
    {
      "cell_type": "markdown",
      "id": "39c0367e",
      "metadata": {
        "id": "39c0367e"
      },
      "source": [
        "## Statistika Deskriptif"
      ]
    },
    {
      "cell_type": "code",
      "execution_count": null,
      "id": "27be589d",
      "metadata": {
        "id": "27be589d",
        "outputId": "10f6191a-ad75-45cf-eb35-64385b1549c0",
        "colab": {
          "base_uri": "https://localhost:8080/"
        }
      },
      "outputs": [
        {
          "output_type": "execute_result",
          "data": {
            "text/plain": [
              "count    56.000000\n",
              "mean      1.500000\n",
              "std       0.572078\n",
              "min       1.000000\n",
              "25%       1.000000\n",
              "50%       1.000000\n",
              "75%       2.000000\n",
              "max       3.000000\n",
              "Name: Jumlah, dtype: float64"
            ]
          },
          "metadata": {},
          "execution_count": 86
        }
      ],
      "source": [
        "### Summary Statistics ###\n",
        "df['Jumlah'].describe()"
      ]
    },
    {
      "cell_type": "markdown",
      "id": "2beac277",
      "metadata": {
        "id": "2beac277"
      },
      "source": [
        "## Menggunakan Nilai Kuantitas yang Positif"
      ]
    },
    {
      "cell_type": "code",
      "execution_count": null,
      "id": "c7b418ab",
      "metadata": {
        "id": "c7b418ab",
        "colab": {
          "base_uri": "https://localhost:8080/"
        },
        "outputId": "369c4e5a-6ec5-4773-9581-ace904dd2043"
      },
      "outputs": [
        {
          "output_type": "stream",
          "name": "stdout",
          "text": [
            "<class 'pandas.core.frame.DataFrame'>\n",
            "Int64Index: 56 entries, 0 to 55\n",
            "Data columns (total 6 columns):\n",
            " #   Column       Non-Null Count  Dtype         \n",
            "---  ------       --------------  -----         \n",
            " 0   Tanggal      56 non-null     datetime64[ns]\n",
            " 1   Konsumen     56 non-null     object        \n",
            " 2   ID Produk    56 non-null     float64       \n",
            " 3   Nama Produk  56 non-null     object        \n",
            " 4   Merek        56 non-null     object        \n",
            " 5   Jumlah       56 non-null     float64       \n",
            "dtypes: datetime64[ns](1), float64(2), object(3)\n",
            "memory usage: 3.1+ KB\n"
          ]
        }
      ],
      "source": [
        "df_plus = df[df['Jumlah']>=0]\n",
        "df_plus.info()"
      ]
    },
    {
      "cell_type": "markdown",
      "id": "4b5e7fd2",
      "metadata": {
        "id": "4b5e7fd2"
      },
      "source": [
        "Dalam dataset ini, kolom 'Jumlah' menunjukkan kepada  jumlah barang yang dibeli dalam setiap transaksi. Apabila terjadi pembatalan pada transaksi tertentu, maka akan didatifikasi pada kolom 'Jumlah' sebagai nilai negatif. Karena kami melakukan Market Basket Analysis, pada dasarnya kami ingin menganalisis apa yang ada di dalam keranjang yang sebenarnya dibeli oleh pelanggan kami. Nilai negatif ini tidak termasuk. Oleh karena itu, kami tidak akan menggunakannya. Berdasarkan output di atas, hanya ada '56' entri."
      ]
    },
    {
      "cell_type": "markdown",
      "id": "0bb46b26",
      "metadata": {
        "id": "0bb46b26"
      },
      "source": [
        "## EDA (Exploratory Data Analysis)"
      ]
    },
    {
      "cell_type": "code",
      "execution_count": null,
      "id": "cc5ebae2",
      "metadata": {
        "id": "cc5ebae2",
        "colab": {
          "base_uri": "https://localhost:8080/",
          "height": 390
        },
        "outputId": "488efbc5-41ee-4567-9113-715865e69ea2"
      },
      "outputs": [
        {
          "output_type": "display_data",
          "data": {
            "text/plain": [
              "<Figure size 936x360 with 1 Axes>"
            ],
            "image/png": "[encoded data removed]"
          },
          "metadata": {}
        }
      ],
      "source": [
        "color = plt.cm.rainbow(np.linspace(0, 1, 40))\n",
        "df['Nama Produk'].value_counts().head(40).plot.bar(color = color, figsize=(13,5))\n",
        "plt.title('Frekuensi Produk yang Paling Banyak Dibeli', fontsize = 20)\n",
        "plt.xticks(rotation = 90 )\n",
        "plt.grid()\n",
        "plt.show()"
      ]
    },
    {
      "cell_type": "markdown",
      "source": [
        "Dari keseluruhan produk yang diperjualbelikan, mayoritas pembeli memilih air mineral sebagai barang yang banyak dibeli. Berdasarkan jumlah ini, dapat diberikan saran untuk penjual dapat memperbanyak jumlah produk khususnya untuk air mineral dan mungkin untuk ketersediaan rokok dapat diturunkan jumlah persediaanya mengacu kepada jumlah pembelian yang paling rendah dibanding produk lain."
      ],
      "metadata": {
        "id": "zoqpQMA1hQQa"
      },
      "id": "zoqpQMA1hQQa"
    },
    {
      "cell_type": "markdown",
      "source": [
        "Interpretasi"
      ],
      "metadata": {
        "id": "guOQcZVdcA74"
      },
      "id": "guOQcZVdcA74"
    },
    {
      "cell_type": "code",
      "source": [
        "color = plt.cm.rainbow(np.linspace(0, 1, 40))\n",
        "df['Merek'].value_counts().head(40).plot.bar(color = color, figsize=(13,5))\n",
        "plt.title('Frekuensi Merek yang Paling Banyak Dibeli', fontsize = 20)\n",
        "plt.xticks(rotation = 90 )\n",
        "plt.grid()\n",
        "plt.show()"
      ],
      "metadata": {
        "colab": {
          "base_uri": "https://localhost:8080/",
          "height": 396
        },
        "id": "OsHLSgS9bz4T",
        "outputId": "286d1daa-6ca6-4251-eaea-0b767386d44d"
      },
      "id": "OsHLSgS9bz4T",
      "execution_count": null,
      "outputs": [
        {
          "output_type": "display_data",
          "data": {
            "text/plain": [
              "<Figure size 936x360 with 1 Axes>"
            ],
            "image/png": "[encoded data removed]"
          },
          "metadata": {}
        }
      ]
    },
    {
      "cell_type": "markdown",
      "source": [
        "Berdasarkan jumlah merek yang diperjualbelikan, terlihat merek \"chiki\" menempati posisi teratas jumlah merek barang yang dibeli oleh konsumen dan merek \"citata\" menempati posisi terendah dalam penjualan barang yang dibeli oleh konsumen. Berdasarkan visualisasi yang diberikan, kami dapat memberi saran untuk penjual dapat meningkatkan jumlah ketersediaan stock barang merek \"chiki\" mengacu pada jumlah pembelian tertinggi dan untuk ketersediaan stock \"citata\" dapat dikurangi karena jumlah peminat yang cenderung rendah. "
      ],
      "metadata": {
        "id": "MgqH0qkBhVXA"
      },
      "id": "MgqH0qkBhVXA"
    },
    {
      "cell_type": "markdown",
      "source": [
        "interpretasi"
      ],
      "metadata": {
        "id": "b0ZHPYDhbdwe"
      },
      "id": "b0ZHPYDhbdwe"
    },
    {
      "cell_type": "markdown",
      "source": [
        "# 2. Market Basket Analysis"
      ],
      "metadata": {
        "id": "8B2TPXO9iJ_6"
      },
      "id": "8B2TPXO9iJ_6"
    },
    {
      "cell_type": "markdown",
      "source": [
        "mengelompokkan transaksi berdasarkan konsumen"
      ],
      "metadata": {
        "id": "ZVHqbN7MiXe0"
      },
      "id": "ZVHqbN7MiXe0"
    },
    {
      "cell_type": "code",
      "source": [
        "# Group the transaction\n",
        "df_grup = df.groupby(['Konsumen', 'Nama Produk'])['Jumlah']\n",
        "df_grup.head()"
      ],
      "metadata": {
        "colab": {
          "base_uri": "https://localhost:8080/"
        },
        "id": "xLYxpUSud18Z",
        "outputId": "2a8a9d56-01e6-4bd1-9d57-13ca70e75650"
      },
      "id": "xLYxpUSud18Z",
      "execution_count": null,
      "outputs": [
        {
          "output_type": "execute_result",
          "data": {
            "text/plain": [
              "0     2.0\n",
              "1     1.0\n",
              "2     2.0\n",
              "3     1.0\n",
              "4     1.0\n",
              "5     2.0\n",
              "6     1.0\n",
              "7     1.0\n",
              "8     1.0\n",
              "9     1.0\n",
              "10    1.0\n",
              "11    2.0\n",
              "12    2.0\n",
              "13    3.0\n",
              "14    1.0\n",
              "15    2.0\n",
              "16    1.0\n",
              "17    2.0\n",
              "18    2.0\n",
              "19    1.0\n",
              "20    1.0\n",
              "21    1.0\n",
              "22    1.0\n",
              "23    1.0\n",
              "24    1.0\n",
              "25    1.0\n",
              "26    3.0\n",
              "27    2.0\n",
              "28    1.0\n",
              "29    1.0\n",
              "30    2.0\n",
              "31    1.0\n",
              "32    2.0\n",
              "33    1.0\n",
              "34    2.0\n",
              "35    2.0\n",
              "36    2.0\n",
              "37    1.0\n",
              "38    2.0\n",
              "39    1.0\n",
              "40    2.0\n",
              "41    1.0\n",
              "42    1.0\n",
              "43    2.0\n",
              "44    1.0\n",
              "45    2.0\n",
              "46    2.0\n",
              "47    1.0\n",
              "48    1.0\n",
              "49    2.0\n",
              "50    2.0\n",
              "51    1.0\n",
              "52    1.0\n",
              "53    2.0\n",
              "54    2.0\n",
              "55    2.0\n",
              "Name: Jumlah, dtype: float64"
            ]
          },
          "metadata": {},
          "execution_count": 75
        }
      ]
    },
    {
      "cell_type": "markdown",
      "source": [
        "Menyusun tabel data baru dengan index 'konsumen' dan kolom 'nama produk'"
      ],
      "metadata": {
        "id": "MqFaGcx8iqA5"
      },
      "id": "MqFaGcx8iqA5"
    },
    {
      "cell_type": "code",
      "source": [
        "df_tabel = df_grup.sum().unstack().reset_index().fillna(0).set_index('Konsumen')\n",
        "df_tabel.head()"
      ],
      "metadata": {
        "colab": {
          "base_uri": "https://localhost:8080/",
          "height": 237
        },
        "id": "3zOV2Fh1d_T_",
        "outputId": "80b1e72e-f793-4466-8ec3-4932a6c72951"
      },
      "id": "3zOV2Fh1d_T_",
      "execution_count": null,
      "outputs": [
        {
          "output_type": "execute_result",
          "data": {
            "text/plain": [
              "Nama Produk  Air Minum  Mie Instan  Rokok  Roti  Sabun  Shampoo  Snack\n",
              "Konsumen                                                              \n",
              "Mr. A              3.0         3.0    0.0   2.0    0.0      0.0    1.0\n",
              "Mr. B              5.0         5.0    0.0   5.0    2.0      2.0    6.0\n",
              "Mr. C              0.0         0.0    1.0   0.0    1.0      1.0    0.0\n",
              "Mr. D              0.0         2.0    0.0   0.0    1.0      1.0    0.0\n",
              "Mr. F              3.0         0.0    1.0   2.0    1.0      0.0    2.0"
            ],
            "text/html": [
              "\n",
              "  <div id=\"df-baa82191-4e5d-4b3c-a5b3-59b0a0e72476\">\n",
              "    <div class=\"colab-df-container\">\n",
              "      <div>\n",
              "<style scoped>\n",
              "    .dataframe tbody tr th:only-of-type {\n",
              "        vertical-align: middle;\n",
              "    }\n",
              "\n",
              "    .dataframe tbody tr th {\n",
              "        vertical-align: top;\n",
              "    }\n",
              "\n",
              "    .dataframe thead th {\n",
              "        text-align: right;\n",
              "    }\n",
              "</style>\n",
              "<table border=\"1\" class=\"dataframe\">\n",
              "  <thead>\n",
              "    <tr style=\"text-align: right;\">\n",
              "      <th>Nama Produk</th>\n",
              "      <th>Air Minum</th>\n",
              "      <th>Mie Instan</th>\n",
              "      <th>Rokok</th>\n",
              "      <th>Roti</th>\n",
              "      <th>Sabun</th>\n",
              "      <th>Shampoo</th>\n",
              "      <th>Snack</th>\n",
              "    </tr>\n",
              "    <tr>\n",
              "      <th>Konsumen</th>\n",
              "      <th></th>\n",
              "      <th></th>\n",
              "      <th></th>\n",
              "      <th></th>\n",
              "      <th></th>\n",
              "      <th></th>\n",
              "      <th></th>\n",
              "    </tr>\n",
              "  </thead>\n",
              "  <tbody>\n",
              "    <tr>\n",
              "      <th>Mr. A</th>\n",
              "      <td>3.0</td>\n",
              "      <td>3.0</td>\n",
              "      <td>0.0</td>\n",
              "      <td>2.0</td>\n",
              "      <td>0.0</td>\n",
              "      <td>0.0</td>\n",
              "      <td>1.0</td>\n",
              "    </tr>\n",
              "    <tr>\n",
              "      <th>Mr. B</th>\n",
              "      <td>5.0</td>\n",
              "      <td>5.0</td>\n",
              "      <td>0.0</td>\n",
              "      <td>5.0</td>\n",
              "      <td>2.0</td>\n",
              "      <td>2.0</td>\n",
              "      <td>6.0</td>\n",
              "    </tr>\n",
              "    <tr>\n",
              "      <th>Mr. C</th>\n",
              "      <td>0.0</td>\n",
              "      <td>0.0</td>\n",
              "      <td>1.0</td>\n",
              "      <td>0.0</td>\n",
              "      <td>1.0</td>\n",
              "      <td>1.0</td>\n",
              "      <td>0.0</td>\n",
              "    </tr>\n",
              "    <tr>\n",
              "      <th>Mr. D</th>\n",
              "      <td>0.0</td>\n",
              "      <td>2.0</td>\n",
              "      <td>0.0</td>\n",
              "      <td>0.0</td>\n",
              "      <td>1.0</td>\n",
              "      <td>1.0</td>\n",
              "      <td>0.0</td>\n",
              "    </tr>\n",
              "    <tr>\n",
              "      <th>Mr. F</th>\n",
              "      <td>3.0</td>\n",
              "      <td>0.0</td>\n",
              "      <td>1.0</td>\n",
              "      <td>2.0</td>\n",
              "      <td>1.0</td>\n",
              "      <td>0.0</td>\n",
              "      <td>2.0</td>\n",
              "    </tr>\n",
              "  </tbody>\n",
              "</table>\n",
              "</div>\n",
              "      <button class=\"colab-df-convert\" onclick=\"convertToInteractive('df-baa82191-4e5d-4b3c-a5b3-59b0a0e72476')\"\n",
              "              title=\"Convert this dataframe to an interactive table.\"\n",
              "              style=\"display:none;\">\n",
              "        \n",
              "  <svg xmlns=\"http://www.w3.org/2000/svg\" height=\"24px\"viewBox=\"0 0 24 24\"\n",
              "       width=\"24px\">\n",
              "    <path d=\"M0 0h24v24H0V0z\" fill=\"none\"/>\n",
              "    <path d=\"M18.56 5.44l.94 2.06.94-2.06 2.06-.94-2.06-.94-.94-2.06-.94 2.06-2.06.94zm-11 1L8.5 8.5l.94-2.06 2.06-.94-2.06-.94L8.5 2.5l-.94 2.06-2.06.94zm10 10l.94 2.06.94-2.06 2.06-.94-2.06-.94-.94-2.06-.94 2.06-2.06.94z\"/><path d=\"M17.41 7.96l-1.37-1.37c-.4-.4-.92-.59-1.43-.59-.52 0-1.04.2-1.43.59L10.3 9.45l-7.72 7.72c-.78.78-.78 2.05 0 2.83L4 21.41c.39.39.9.59 1.41.59.51 0 1.02-.2 1.41-.59l7.78-7.78 2.81-2.81c.8-.78.8-2.07 0-2.86zM5.41 20L4 18.59l7.72-7.72 1.47 1.35L5.41 20z\"/>\n",
              "  </svg>\n",
              "      </button>\n",
              "      \n",
              "  <style>\n",
              "    .colab-df-container {\n",
              "      display:flex;\n",
              "      flex-wrap:wrap;\n",
              "      gap: 12px;\n",
              "    }\n",
              "\n",
              "    .colab-df-convert {\n",
              "      background-color: #E8F0FE;\n",
              "      border: none;\n",
              "      border-radius: 50%;\n",
              "      cursor: pointer;\n",
              "      display: none;\n",
              "      fill: #1967D2;\n",
              "      height: 32px;\n",
              "      padding: 0 0 0 0;\n",
              "      width: 32px;\n",
              "    }\n",
              "\n",
              "    .colab-df-convert:hover {\n",
              "      background-color: #E2EBFA;\n",
              "      box-shadow: 0px 1px 2px rgba(60, 64, 67, 0.3), 0px 1px 3px 1px rgba(60, 64, 67, 0.15);\n",
              "      fill: #174EA6;\n",
              "    }\n",
              "\n",
              "    [theme=dark] .colab-df-convert {\n",
              "      background-color: #3B4455;\n",
              "      fill: #D2E3FC;\n",
              "    }\n",
              "\n",
              "    [theme=dark] .colab-df-convert:hover {\n",
              "      background-color: #434B5C;\n",
              "      box-shadow: 0px 1px 3px 1px rgba(0, 0, 0, 0.15);\n",
              "      filter: drop-shadow(0px 1px 2px rgba(0, 0, 0, 0.3));\n",
              "      fill: #FFFFFF;\n",
              "    }\n",
              "  </style>\n",
              "\n",
              "      <script>\n",
              "        const buttonEl =\n",
              "          document.querySelector('#df-baa82191-4e5d-4b3c-a5b3-59b0a0e72476 button.colab-df-convert');\n",
              "        buttonEl.style.display =\n",
              "          google.colab.kernel.accessAllowed ? 'block' : 'none';\n",
              "\n",
              "        async function convertToInteractive(key) {\n",
              "          const element = document.querySelector('#df-baa82191-4e5d-4b3c-a5b3-59b0a0e72476');\n",
              "          const dataTable =\n",
              "            await google.colab.kernel.invokeFunction('convertToInteractive',\n",
              "                                                     [key], {});\n",
              "          if (!dataTable) return;\n",
              "\n",
              "          const docLinkHtml = 'Like what you see? Visit the ' +\n",
              "            '<a target=\"_blank\" href=https://colab.research.google.com/notebooks/data_table.ipynb>data table notebook</a>'\n",
              "            + ' to learn more about interactive tables.';\n",
              "          element.innerHTML = '';\n",
              "          dataTable['output_type'] = 'display_data';\n",
              "          await google.colab.output.renderOutput(dataTable, element);\n",
              "          const docLink = document.createElement('div');\n",
              "          docLink.innerHTML = docLinkHtml;\n",
              "          element.appendChild(docLink);\n",
              "        }\n",
              "      </script>\n",
              "    </div>\n",
              "  </div>\n",
              "  "
            ]
          },
          "metadata": {},
          "execution_count": 76
        }
      ]
    },
    {
      "cell_type": "markdown",
      "source": [
        "One-Hot Encoding Data"
      ],
      "metadata": {
        "id": "Gd0MLtF4i2-n"
      },
      "id": "Gd0MLtF4i2-n"
    },
    {
      "cell_type": "code",
      "source": [
        "def encode_units(x):\n",
        "    if x <= 0:\n",
        "        return 0\n",
        "    if x >= 1:\n",
        "        return 1\n",
        "\n",
        "df_sets = df_tabel.applymap(encode_units) # one-hot encoding\n",
        "df_sets"
      ],
      "metadata": {
        "colab": {
          "base_uri": "https://localhost:8080/",
          "height": 426
        },
        "id": "FWmEBBX3fFqV",
        "outputId": "d39ff83f-8bac-4039-914d-a25c233ef885"
      },
      "id": "FWmEBBX3fFqV",
      "execution_count": null,
      "outputs": [
        {
          "output_type": "execute_result",
          "data": {
            "text/plain": [
              "Nama Produk  Air Minum  Mie Instan  Rokok  Roti  Sabun  Shampoo  Snack\n",
              "Konsumen                                                              \n",
              "Mr. A                1           1      0     1      0        0      1\n",
              "Mr. B                1           1      0     1      1        1      1\n",
              "Mr. C                0           0      1     0      1        1      0\n",
              "Mr. D                0           1      0     0      1        1      0\n",
              "Mr. F                1           0      1     1      1        0      1\n",
              "Mr. G                0           1      0     0      1        1      0\n",
              "Mr. P                0           0      1     1      0        0      0\n",
              "Mr. T                1           0      0     1      0        0      1\n",
              "Mr. X                1           1      1     1      1        0      1\n",
              "Mr. Z                1           0      1     0      0        0      0\n",
              "Mr.Y                 0           0      0     0      1        1      1"
            ],
            "text/html": [
              "\n",
              "  <div id=\"df-807b9823-793d-4d13-9a62-7b4a74278996\">\n",
              "    <div class=\"colab-df-container\">\n",
              "      <div>\n",
              "<style scoped>\n",
              "    .dataframe tbody tr th:only-of-type {\n",
              "        vertical-align: middle;\n",
              "    }\n",
              "\n",
              "    .dataframe tbody tr th {\n",
              "        vertical-align: top;\n",
              "    }\n",
              "\n",
              "    .dataframe thead th {\n",
              "        text-align: right;\n",
              "    }\n",
              "</style>\n",
              "<table border=\"1\" class=\"dataframe\">\n",
              "  <thead>\n",
              "    <tr style=\"text-align: right;\">\n",
              "      <th>Nama Produk</th>\n",
              "      <th>Air Minum</th>\n",
              "      <th>Mie Instan</th>\n",
              "      <th>Rokok</th>\n",
              "      <th>Roti</th>\n",
              "      <th>Sabun</th>\n",
              "      <th>Shampoo</th>\n",
              "      <th>Snack</th>\n",
              "    </tr>\n",
              "    <tr>\n",
              "      <th>Konsumen</th>\n",
              "      <th></th>\n",
              "      <th></th>\n",
              "      <th></th>\n",
              "      <th></th>\n",
              "      <th></th>\n",
              "      <th></th>\n",
              "      <th></th>\n",
              "    </tr>\n",
              "  </thead>\n",
              "  <tbody>\n",
              "    <tr>\n",
              "      <th>Mr. A</th>\n",
              "      <td>1</td>\n",
              "      <td>1</td>\n",
              "      <td>0</td>\n",
              "      <td>1</td>\n",
              "      <td>0</td>\n",
              "      <td>0</td>\n",
              "      <td>1</td>\n",
              "    </tr>\n",
              "    <tr>\n",
              "      <th>Mr. B</th>\n",
              "      <td>1</td>\n",
              "      <td>1</td>\n",
              "      <td>0</td>\n",
              "      <td>1</td>\n",
              "      <td>1</td>\n",
              "      <td>1</td>\n",
              "      <td>1</td>\n",
              "    </tr>\n",
              "    <tr>\n",
              "      <th>Mr. C</th>\n",
              "      <td>0</td>\n",
              "      <td>0</td>\n",
              "      <td>1</td>\n",
              "      <td>0</td>\n",
              "      <td>1</td>\n",
              "      <td>1</td>\n",
              "      <td>0</td>\n",
              "    </tr>\n",
              "    <tr>\n",
              "      <th>Mr. D</th>\n",
              "      <td>0</td>\n",
              "      <td>1</td>\n",
              "      <td>0</td>\n",
              "      <td>0</td>\n",
              "      <td>1</td>\n",
              "      <td>1</td>\n",
              "      <td>0</td>\n",
              "    </tr>\n",
              "    <tr>\n",
              "      <th>Mr. F</th>\n",
              "      <td>1</td>\n",
              "      <td>0</td>\n",
              "      <td>1</td>\n",
              "      <td>1</td>\n",
              "      <td>1</td>\n",
              "      <td>0</td>\n",
              "      <td>1</td>\n",
              "    </tr>\n",
              "    <tr>\n",
              "      <th>Mr. G</th>\n",
              "      <td>0</td>\n",
              "      <td>1</td>\n",
              "      <td>0</td>\n",
              "      <td>0</td>\n",
              "      <td>1</td>\n",
              "      <td>1</td>\n",
              "      <td>0</td>\n",
              "    </tr>\n",
              "    <tr>\n",
              "      <th>Mr. P</th>\n",
              "      <td>0</td>\n",
              "      <td>0</td>\n",
              "      <td>1</td>\n",
              "      <td>1</td>\n",
              "      <td>0</td>\n",
              "      <td>0</td>\n",
              "      <td>0</td>\n",
              "    </tr>\n",
              "    <tr>\n",
              "      <th>Mr. T</th>\n",
              "      <td>1</td>\n",
              "      <td>0</td>\n",
              "      <td>0</td>\n",
              "      <td>1</td>\n",
              "      <td>0</td>\n",
              "      <td>0</td>\n",
              "      <td>1</td>\n",
              "    </tr>\n",
              "    <tr>\n",
              "      <th>Mr. X</th>\n",
              "      <td>1</td>\n",
              "      <td>1</td>\n",
              "      <td>1</td>\n",
              "      <td>1</td>\n",
              "      <td>1</td>\n",
              "      <td>0</td>\n",
              "      <td>1</td>\n",
              "    </tr>\n",
              "    <tr>\n",
              "      <th>Mr. Z</th>\n",
              "      <td>1</td>\n",
              "      <td>0</td>\n",
              "      <td>1</td>\n",
              "      <td>0</td>\n",
              "      <td>0</td>\n",
              "      <td>0</td>\n",
              "      <td>0</td>\n",
              "    </tr>\n",
              "    <tr>\n",
              "      <th>Mr.Y</th>\n",
              "      <td>0</td>\n",
              "      <td>0</td>\n",
              "      <td>0</td>\n",
              "      <td>0</td>\n",
              "      <td>1</td>\n",
              "      <td>1</td>\n",
              "      <td>1</td>\n",
              "    </tr>\n",
              "  </tbody>\n",
              "</table>\n",
              "</div>\n",
              "      <button class=\"colab-df-convert\" onclick=\"convertToInteractive('df-807b9823-793d-4d13-9a62-7b4a74278996')\"\n",
              "              title=\"Convert this dataframe to an interactive table.\"\n",
              "              style=\"display:none;\">\n",
              "        \n",
              "  <svg xmlns=\"http://www.w3.org/2000/svg\" height=\"24px\"viewBox=\"0 0 24 24\"\n",
              "       width=\"24px\">\n",
              "    <path d=\"M0 0h24v24H0V0z\" fill=\"none\"/>\n",
              "    <path d=\"M18.56 5.44l.94 2.06.94-2.06 2.06-.94-2.06-.94-.94-2.06-.94 2.06-2.06.94zm-11 1L8.5 8.5l.94-2.06 2.06-.94-2.06-.94L8.5 2.5l-.94 2.06-2.06.94zm10 10l.94 2.06.94-2.06 2.06-.94-2.06-.94-.94-2.06-.94 2.06-2.06.94z\"/><path d=\"M17.41 7.96l-1.37-1.37c-.4-.4-.92-.59-1.43-.59-.52 0-1.04.2-1.43.59L10.3 9.45l-7.72 7.72c-.78.78-.78 2.05 0 2.83L4 21.41c.39.39.9.59 1.41.59.51 0 1.02-.2 1.41-.59l7.78-7.78 2.81-2.81c.8-.78.8-2.07 0-2.86zM5.41 20L4 18.59l7.72-7.72 1.47 1.35L5.41 20z\"/>\n",
              "  </svg>\n",
              "      </button>\n",
              "      \n",
              "  <style>\n",
              "    .colab-df-container {\n",
              "      display:flex;\n",
              "      flex-wrap:wrap;\n",
              "      gap: 12px;\n",
              "    }\n",
              "\n",
              "    .colab-df-convert {\n",
              "      background-color: #E8F0FE;\n",
              "      border: none;\n",
              "      border-radius: 50%;\n",
              "      cursor: pointer;\n",
              "      display: none;\n",
              "      fill: #1967D2;\n",
              "      height: 32px;\n",
              "      padding: 0 0 0 0;\n",
              "      width: 32px;\n",
              "    }\n",
              "\n",
              "    .colab-df-convert:hover {\n",
              "      background-color: #E2EBFA;\n",
              "      box-shadow: 0px 1px 2px rgba(60, 64, 67, 0.3), 0px 1px 3px 1px rgba(60, 64, 67, 0.15);\n",
              "      fill: #174EA6;\n",
              "    }\n",
              "\n",
              "    [theme=dark] .colab-df-convert {\n",
              "      background-color: #3B4455;\n",
              "      fill: #D2E3FC;\n",
              "    }\n",
              "\n",
              "    [theme=dark] .colab-df-convert:hover {\n",
              "      background-color: #434B5C;\n",
              "      box-shadow: 0px 1px 3px 1px rgba(0, 0, 0, 0.15);\n",
              "      filter: drop-shadow(0px 1px 2px rgba(0, 0, 0, 0.3));\n",
              "      fill: #FFFFFF;\n",
              "    }\n",
              "  </style>\n",
              "\n",
              "      <script>\n",
              "        const buttonEl =\n",
              "          document.querySelector('#df-807b9823-793d-4d13-9a62-7b4a74278996 button.colab-df-convert');\n",
              "        buttonEl.style.display =\n",
              "          google.colab.kernel.accessAllowed ? 'block' : 'none';\n",
              "\n",
              "        async function convertToInteractive(key) {\n",
              "          const element = document.querySelector('#df-807b9823-793d-4d13-9a62-7b4a74278996');\n",
              "          const dataTable =\n",
              "            await google.colab.kernel.invokeFunction('convertToInteractive',\n",
              "                                                     [key], {});\n",
              "          if (!dataTable) return;\n",
              "\n",
              "          const docLinkHtml = 'Like what you see? Visit the ' +\n",
              "            '<a target=\"_blank\" href=https://colab.research.google.com/notebooks/data_table.ipynb>data table notebook</a>'\n",
              "            + ' to learn more about interactive tables.';\n",
              "          element.innerHTML = '';\n",
              "          dataTable['output_type'] = 'display_data';\n",
              "          await google.colab.output.renderOutput(dataTable, element);\n",
              "          const docLink = document.createElement('div');\n",
              "          docLink.innerHTML = docLinkHtml;\n",
              "          element.appendChild(docLink);\n",
              "        }\n",
              "      </script>\n",
              "    </div>\n",
              "  </div>\n",
              "  "
            ]
          },
          "metadata": {},
          "execution_count": 81
        }
      ]
    },
    {
      "cell_type": "markdown",
      "source": [
        "Algoritma Apriori"
      ],
      "metadata": {
        "id": "frmlDvYPjLO7"
      },
      "id": "frmlDvYPjLO7"
    },
    {
      "cell_type": "markdown",
      "source": [
        "Akan digunakan algoritma apriori untuk menentukan support dari "
      ],
      "metadata": {
        "id": "z4k2L5q_mLeR"
      },
      "id": "z4k2L5q_mLeR"
    },
    {
      "cell_type": "code",
      "source": [
        "frequent_itemsets = apriori(df_sets, min_support=0.07, max_len = 3, use_colnames=True)\n",
        "frequent_itemsets.sort_values(by='support', ascending=False, na_position='last', inplace = True)\n",
        "frequent_itemsets"
      ],
      "metadata": {
        "colab": {
          "base_uri": "https://localhost:8080/",
          "height": 1000
        },
        "id": "QsuxT4T1fLTq",
        "outputId": "50476bcc-b821-4736-bd66-4bae258a1402"
      },
      "id": "QsuxT4T1fLTq",
      "execution_count": null,
      "outputs": [
        {
          "output_type": "execute_result",
          "data": {
            "text/plain": [
              "     support                          itemsets\n",
              "4   0.636364                           (Sabun)\n",
              "0   0.545455                       (Air Minum)\n",
              "3   0.545455                            (Roti)\n",
              "6   0.545455                           (Snack)\n",
              "9   0.454545                 (Roti, Air Minum)\n",
              "25  0.454545                  (Shampoo, Sabun)\n",
              "1   0.454545                      (Mie Instan)\n",
              "38  0.454545          (Snack, Roti, Air Minum)\n",
              "12  0.454545                (Snack, Air Minum)\n",
              "24  0.454545                     (Snack, Roti)\n",
              "5   0.454545                         (Shampoo)\n",
              "2   0.454545                           (Rokok)\n",
              "15  0.363636               (Mie Instan, Sabun)\n",
              "26  0.363636                    (Snack, Sabun)\n",
              "22  0.272727                     (Roti, Sabun)\n",
              "40  0.272727         (Snack, Air Minum, Sabun)\n",
              "48  0.272727      (Mie Instan, Shampoo, Sabun)\n",
              "56  0.272727              (Snack, Roti, Sabun)\n",
              "36  0.272727          (Roti, Air Minum, Sabun)\n",
              "32  0.272727    (Mie Instan, Snack, Air Minum)\n",
              "47  0.272727         (Mie Instan, Snack, Roti)\n",
              "29  0.272727     (Mie Instan, Roti, Air Minum)\n",
              "14  0.272727                (Mie Instan, Roti)\n",
              "7   0.272727           (Mie Instan, Air Minum)\n",
              "19  0.272727                    (Rokok, Sabun)\n",
              "18  0.272727                     (Rokok, Roti)\n",
              "17  0.272727               (Mie Instan, Snack)\n",
              "16  0.272727             (Mie Instan, Shampoo)\n",
              "8   0.272727                (Rokok, Air Minum)\n",
              "10  0.272727                (Air Minum, Sabun)\n",
              "21  0.181818                    (Snack, Rokok)\n",
              "54  0.181818             (Snack, Rokok, Sabun)\n",
              "52  0.181818              (Snack, Rokok, Roti)\n",
              "51  0.181818              (Rokok, Roti, Sabun)\n",
              "49  0.181818        (Mie Instan, Snack, Sabun)\n",
              "45  0.181818         (Mie Instan, Roti, Sabun)\n",
              "58  0.181818           (Snack, Shampoo, Sabun)\n",
              "33  0.181818          (Roti, Rokok, Air Minum)\n",
              "27  0.181818                  (Snack, Shampoo)\n",
              "35  0.181818         (Snack, Rokok, Air Minum)\n",
              "30  0.181818    (Mie Instan, Air Minum, Sabun)\n",
              "34  0.181818         (Rokok, Air Minum, Sabun)\n",
              "31  0.090909  (Mie Instan, Shampoo, Air Minum)\n",
              "57  0.090909            (Snack, Shampoo, Roti)\n",
              "20  0.090909                  (Shampoo, Rokok)\n",
              "55  0.090909            (Shampoo, Roti, Sabun)\n",
              "53  0.090909           (Shampoo, Rokok, Sabun)\n",
              "28  0.090909    (Mie Instan, Rokok, Air Minum)\n",
              "50  0.090909      (Snack, Mie Instan, Shampoo)\n",
              "37  0.090909        (Shampoo, Roti, Air Minum)\n",
              "13  0.090909               (Mie Instan, Rokok)\n",
              "46  0.090909       (Mie Instan, Shampoo, Roti)\n",
              "44  0.090909        (Mie Instan, Snack, Rokok)\n",
              "43  0.090909        (Mie Instan, Rokok, Sabun)\n",
              "42  0.090909         (Mie Instan, Rokok, Roti)\n",
              "41  0.090909       (Snack, Shampoo, Air Minum)\n",
              "23  0.090909                   (Shampoo, Roti)\n",
              "39  0.090909       (Shampoo, Air Minum, Sabun)\n",
              "11  0.090909              (Shampoo, Air Minum)"
            ],
            "text/html": [
              "\n",
              "  <div id=\"df-5ee90331-ac5f-4119-bcc2-9e5e20e38618\">\n",
              "    <div class=\"colab-df-container\">\n",
              "      <div>\n",
              "<style scoped>\n",
              "    .dataframe tbody tr th:only-of-type {\n",
              "        vertical-align: middle;\n",
              "    }\n",
              "\n",
              "    .dataframe tbody tr th {\n",
              "        vertical-align: top;\n",
              "    }\n",
              "\n",
              "    .dataframe thead th {\n",
              "        text-align: right;\n",
              "    }\n",
              "</style>\n",
              "<table border=\"1\" class=\"dataframe\">\n",
              "  <thead>\n",
              "    <tr style=\"text-align: right;\">\n",
              "      <th></th>\n",
              "      <th>support</th>\n",
              "      <th>itemsets</th>\n",
              "    </tr>\n",
              "  </thead>\n",
              "  <tbody>\n",
              "    <tr>\n",
              "      <th>4</th>\n",
              "      <td>0.636364</td>\n",
              "      <td>(Sabun)</td>\n",
              "    </tr>\n",
              "    <tr>\n",
              "      <th>0</th>\n",
              "      <td>0.545455</td>\n",
              "      <td>(Air Minum)</td>\n",
              "    </tr>\n",
              "    <tr>\n",
              "      <th>3</th>\n",
              "      <td>0.545455</td>\n",
              "      <td>(Roti)</td>\n",
              "    </tr>\n",
              "    <tr>\n",
              "      <th>6</th>\n",
              "      <td>0.545455</td>\n",
              "      <td>(Snack)</td>\n",
              "    </tr>\n",
              "    <tr>\n",
              "      <th>9</th>\n",
              "      <td>0.454545</td>\n",
              "      <td>(Roti, Air Minum)</td>\n",
              "    </tr>\n",
              "    <tr>\n",
              "      <th>25</th>\n",
              "      <td>0.454545</td>\n",
              "      <td>(Shampoo, Sabun)</td>\n",
              "    </tr>\n",
              "    <tr>\n",
              "      <th>1</th>\n",
              "      <td>0.454545</td>\n",
              "      <td>(Mie Instan)</td>\n",
              "    </tr>\n",
              "    <tr>\n",
              "      <th>38</th>\n",
              "      <td>0.454545</td>\n",
              "      <td>(Snack, Roti, Air Minum)</td>\n",
              "    </tr>\n",
              "    <tr>\n",
              "      <th>12</th>\n",
              "      <td>0.454545</td>\n",
              "      <td>(Snack, Air Minum)</td>\n",
              "    </tr>\n",
              "    <tr>\n",
              "      <th>24</th>\n",
              "      <td>0.454545</td>\n",
              "      <td>(Snack, Roti)</td>\n",
              "    </tr>\n",
              "    <tr>\n",
              "      <th>5</th>\n",
              "      <td>0.454545</td>\n",
              "      <td>(Shampoo)</td>\n",
              "    </tr>\n",
              "    <tr>\n",
              "      <th>2</th>\n",
              "      <td>0.454545</td>\n",
              "      <td>(Rokok)</td>\n",
              "    </tr>\n",
              "    <tr>\n",
              "      <th>15</th>\n",
              "      <td>0.363636</td>\n",
              "      <td>(Mie Instan, Sabun)</td>\n",
              "    </tr>\n",
              "    <tr>\n",
              "      <th>26</th>\n",
              "      <td>0.363636</td>\n",
              "      <td>(Snack, Sabun)</td>\n",
              "    </tr>\n",
              "    <tr>\n",
              "      <th>22</th>\n",
              "      <td>0.272727</td>\n",
              "      <td>(Roti, Sabun)</td>\n",
              "    </tr>\n",
              "    <tr>\n",
              "      <th>40</th>\n",
              "      <td>0.272727</td>\n",
              "      <td>(Snack, Air Minum, Sabun)</td>\n",
              "    </tr>\n",
              "    <tr>\n",
              "      <th>48</th>\n",
              "      <td>0.272727</td>\n",
              "      <td>(Mie Instan, Shampoo, Sabun)</td>\n",
              "    </tr>\n",
              "    <tr>\n",
              "      <th>56</th>\n",
              "      <td>0.272727</td>\n",
              "      <td>(Snack, Roti, Sabun)</td>\n",
              "    </tr>\n",
              "    <tr>\n",
              "      <th>36</th>\n",
              "      <td>0.272727</td>\n",
              "      <td>(Roti, Air Minum, Sabun)</td>\n",
              "    </tr>\n",
              "    <tr>\n",
              "      <th>32</th>\n",
              "      <td>0.272727</td>\n",
              "      <td>(Mie Instan, Snack, Air Minum)</td>\n",
              "    </tr>\n",
              "    <tr>\n",
              "      <th>47</th>\n",
              "      <td>0.272727</td>\n",
              "      <td>(Mie Instan, Snack, Roti)</td>\n",
              "    </tr>\n",
              "    <tr>\n",
              "      <th>29</th>\n",
              "      <td>0.272727</td>\n",
              "      <td>(Mie Instan, Roti, Air Minum)</td>\n",
              "    </tr>\n",
              "    <tr>\n",
              "      <th>14</th>\n",
              "      <td>0.272727</td>\n",
              "      <td>(Mie Instan, Roti)</td>\n",
              "    </tr>\n",
              "    <tr>\n",
              "      <th>7</th>\n",
              "      <td>0.272727</td>\n",
              "      <td>(Mie Instan, Air Minum)</td>\n",
              "    </tr>\n",
              "    <tr>\n",
              "      <th>19</th>\n",
              "      <td>0.272727</td>\n",
              "      <td>(Rokok, Sabun)</td>\n",
              "    </tr>\n",
              "    <tr>\n",
              "      <th>18</th>\n",
              "      <td>0.272727</td>\n",
              "      <td>(Rokok, Roti)</td>\n",
              "    </tr>\n",
              "    <tr>\n",
              "      <th>17</th>\n",
              "      <td>0.272727</td>\n",
              "      <td>(Mie Instan, Snack)</td>\n",
              "    </tr>\n",
              "    <tr>\n",
              "      <th>16</th>\n",
              "      <td>0.272727</td>\n",
              "      <td>(Mie Instan, Shampoo)</td>\n",
              "    </tr>\n",
              "    <tr>\n",
              "      <th>8</th>\n",
              "      <td>0.272727</td>\n",
              "      <td>(Rokok, Air Minum)</td>\n",
              "    </tr>\n",
              "    <tr>\n",
              "      <th>10</th>\n",
              "      <td>0.272727</td>\n",
              "      <td>(Air Minum, Sabun)</td>\n",
              "    </tr>\n",
              "    <tr>\n",
              "      <th>21</th>\n",
              "      <td>0.181818</td>\n",
              "      <td>(Snack, Rokok)</td>\n",
              "    </tr>\n",
              "    <tr>\n",
              "      <th>54</th>\n",
              "      <td>0.181818</td>\n",
              "      <td>(Snack, Rokok, Sabun)</td>\n",
              "    </tr>\n",
              "    <tr>\n",
              "      <th>52</th>\n",
              "      <td>0.181818</td>\n",
              "      <td>(Snack, Rokok, Roti)</td>\n",
              "    </tr>\n",
              "    <tr>\n",
              "      <th>51</th>\n",
              "      <td>0.181818</td>\n",
              "      <td>(Rokok, Roti, Sabun)</td>\n",
              "    </tr>\n",
              "    <tr>\n",
              "      <th>49</th>\n",
              "      <td>0.181818</td>\n",
              "      <td>(Mie Instan, Snack, Sabun)</td>\n",
              "    </tr>\n",
              "    <tr>\n",
              "      <th>45</th>\n",
              "      <td>0.181818</td>\n",
              "      <td>(Mie Instan, Roti, Sabun)</td>\n",
              "    </tr>\n",
              "    <tr>\n",
              "      <th>58</th>\n",
              "      <td>0.181818</td>\n",
              "      <td>(Snack, Shampoo, Sabun)</td>\n",
              "    </tr>\n",
              "    <tr>\n",
              "      <th>33</th>\n",
              "      <td>0.181818</td>\n",
              "      <td>(Roti, Rokok, Air Minum)</td>\n",
              "    </tr>\n",
              "    <tr>\n",
              "      <th>27</th>\n",
              "      <td>0.181818</td>\n",
              "      <td>(Snack, Shampoo)</td>\n",
              "    </tr>\n",
              "    <tr>\n",
              "      <th>35</th>\n",
              "      <td>0.181818</td>\n",
              "      <td>(Snack, Rokok, Air Minum)</td>\n",
              "    </tr>\n",
              "    <tr>\n",
              "      <th>30</th>\n",
              "      <td>0.181818</td>\n",
              "      <td>(Mie Instan, Air Minum, Sabun)</td>\n",
              "    </tr>\n",
              "    <tr>\n",
              "      <th>34</th>\n",
              "      <td>0.181818</td>\n",
              "      <td>(Rokok, Air Minum, Sabun)</td>\n",
              "    </tr>\n",
              "    <tr>\n",
              "      <th>31</th>\n",
              "      <td>0.090909</td>\n",
              "      <td>(Mie Instan, Shampoo, Air Minum)</td>\n",
              "    </tr>\n",
              "    <tr>\n",
              "      <th>57</th>\n",
              "      <td>0.090909</td>\n",
              "      <td>(Snack, Shampoo, Roti)</td>\n",
              "    </tr>\n",
              "    <tr>\n",
              "      <th>20</th>\n",
              "      <td>0.090909</td>\n",
              "      <td>(Shampoo, Rokok)</td>\n",
              "    </tr>\n",
              "    <tr>\n",
              "      <th>55</th>\n",
              "      <td>0.090909</td>\n",
              "      <td>(Shampoo, Roti, Sabun)</td>\n",
              "    </tr>\n",
              "    <tr>\n",
              "      <th>53</th>\n",
              "      <td>0.090909</td>\n",
              "      <td>(Shampoo, Rokok, Sabun)</td>\n",
              "    </tr>\n",
              "    <tr>\n",
              "      <th>28</th>\n",
              "      <td>0.090909</td>\n",
              "      <td>(Mie Instan, Rokok, Air Minum)</td>\n",
              "    </tr>\n",
              "    <tr>\n",
              "      <th>50</th>\n",
              "      <td>0.090909</td>\n",
              "      <td>(Snack, Mie Instan, Shampoo)</td>\n",
              "    </tr>\n",
              "    <tr>\n",
              "      <th>37</th>\n",
              "      <td>0.090909</td>\n",
              "      <td>(Shampoo, Roti, Air Minum)</td>\n",
              "    </tr>\n",
              "    <tr>\n",
              "      <th>13</th>\n",
              "      <td>0.090909</td>\n",
              "      <td>(Mie Instan, Rokok)</td>\n",
              "    </tr>\n",
              "    <tr>\n",
              "      <th>46</th>\n",
              "      <td>0.090909</td>\n",
              "      <td>(Mie Instan, Shampoo, Roti)</td>\n",
              "    </tr>\n",
              "    <tr>\n",
              "      <th>44</th>\n",
              "      <td>0.090909</td>\n",
              "      <td>(Mie Instan, Snack, Rokok)</td>\n",
              "    </tr>\n",
              "    <tr>\n",
              "      <th>43</th>\n",
              "      <td>0.090909</td>\n",
              "      <td>(Mie Instan, Rokok, Sabun)</td>\n",
              "    </tr>\n",
              "    <tr>\n",
              "      <th>42</th>\n",
              "      <td>0.090909</td>\n",
              "      <td>(Mie Instan, Rokok, Roti)</td>\n",
              "    </tr>\n",
              "    <tr>\n",
              "      <th>41</th>\n",
              "      <td>0.090909</td>\n",
              "      <td>(Snack, Shampoo, Air Minum)</td>\n",
              "    </tr>\n",
              "    <tr>\n",
              "      <th>23</th>\n",
              "      <td>0.090909</td>\n",
              "      <td>(Shampoo, Roti)</td>\n",
              "    </tr>\n",
              "    <tr>\n",
              "      <th>39</th>\n",
              "      <td>0.090909</td>\n",
              "      <td>(Shampoo, Air Minum, Sabun)</td>\n",
              "    </tr>\n",
              "    <tr>\n",
              "      <th>11</th>\n",
              "      <td>0.090909</td>\n",
              "      <td>(Shampoo, Air Minum)</td>\n",
              "    </tr>\n",
              "  </tbody>\n",
              "</table>\n",
              "</div>\n",
              "      <button class=\"colab-df-convert\" onclick=\"convertToInteractive('df-5ee90331-ac5f-4119-bcc2-9e5e20e38618')\"\n",
              "              title=\"Convert this dataframe to an interactive table.\"\n",
              "              style=\"display:none;\">\n",
              "        \n",
              "  <svg xmlns=\"http://www.w3.org/2000/svg\" height=\"24px\"viewBox=\"0 0 24 24\"\n",
              "       width=\"24px\">\n",
              "    <path d=\"M0 0h24v24H0V0z\" fill=\"none\"/>\n",
              "    <path d=\"M18.56 5.44l.94 2.06.94-2.06 2.06-.94-2.06-.94-.94-2.06-.94 2.06-2.06.94zm-11 1L8.5 8.5l.94-2.06 2.06-.94-2.06-.94L8.5 2.5l-.94 2.06-2.06.94zm10 10l.94 2.06.94-2.06 2.06-.94-2.06-.94-.94-2.06-.94 2.06-2.06.94z\"/><path d=\"M17.41 7.96l-1.37-1.37c-.4-.4-.92-.59-1.43-.59-.52 0-1.04.2-1.43.59L10.3 9.45l-7.72 7.72c-.78.78-.78 2.05 0 2.83L4 21.41c.39.39.9.59 1.41.59.51 0 1.02-.2 1.41-.59l7.78-7.78 2.81-2.81c.8-.78.8-2.07 0-2.86zM5.41 20L4 18.59l7.72-7.72 1.47 1.35L5.41 20z\"/>\n",
              "  </svg>\n",
              "      </button>\n",
              "      \n",
              "  <style>\n",
              "    .colab-df-container {\n",
              "      display:flex;\n",
              "      flex-wrap:wrap;\n",
              "      gap: 12px;\n",
              "    }\n",
              "\n",
              "    .colab-df-convert {\n",
              "      background-color: #E8F0FE;\n",
              "      border: none;\n",
              "      border-radius: 50%;\n",
              "      cursor: pointer;\n",
              "      display: none;\n",
              "      fill: #1967D2;\n",
              "      height: 32px;\n",
              "      padding: 0 0 0 0;\n",
              "      width: 32px;\n",
              "    }\n",
              "\n",
              "    .colab-df-convert:hover {\n",
              "      background-color: #E2EBFA;\n",
              "      box-shadow: 0px 1px 2px rgba(60, 64, 67, 0.3), 0px 1px 3px 1px rgba(60, 64, 67, 0.15);\n",
              "      fill: #174EA6;\n",
              "    }\n",
              "\n",
              "    [theme=dark] .colab-df-convert {\n",
              "      background-color: #3B4455;\n",
              "      fill: #D2E3FC;\n",
              "    }\n",
              "\n",
              "    [theme=dark] .colab-df-convert:hover {\n",
              "      background-color: #434B5C;\n",
              "      box-shadow: 0px 1px 3px 1px rgba(0, 0, 0, 0.15);\n",
              "      filter: drop-shadow(0px 1px 2px rgba(0, 0, 0, 0.3));\n",
              "      fill: #FFFFFF;\n",
              "    }\n",
              "  </style>\n",
              "\n",
              "      <script>\n",
              "        const buttonEl =\n",
              "          document.querySelector('#df-5ee90331-ac5f-4119-bcc2-9e5e20e38618 button.colab-df-convert');\n",
              "        buttonEl.style.display =\n",
              "          google.colab.kernel.accessAllowed ? 'block' : 'none';\n",
              "\n",
              "        async function convertToInteractive(key) {\n",
              "          const element = document.querySelector('#df-5ee90331-ac5f-4119-bcc2-9e5e20e38618');\n",
              "          const dataTable =\n",
              "            await google.colab.kernel.invokeFunction('convertToInteractive',\n",
              "                                                     [key], {});\n",
              "          if (!dataTable) return;\n",
              "\n",
              "          const docLinkHtml = 'Like what you see? Visit the ' +\n",
              "            '<a target=\"_blank\" href=https://colab.research.google.com/notebooks/data_table.ipynb>data table notebook</a>'\n",
              "            + ' to learn more about interactive tables.';\n",
              "          element.innerHTML = '';\n",
              "          dataTable['output_type'] = 'display_data';\n",
              "          await google.colab.output.renderOutput(dataTable, element);\n",
              "          const docLink = document.createElement('div');\n",
              "          docLink.innerHTML = docLinkHtml;\n",
              "          element.appendChild(docLink);\n",
              "        }\n",
              "      </script>\n",
              "    </div>\n",
              "  </div>\n",
              "  "
            ]
          },
          "metadata": {},
          "execution_count": 82
        }
      ]
    },
    {
      "cell_type": "markdown",
      "id": "9da82d61",
      "metadata": {
        "id": "9da82d61"
      },
      "source": [
        "### Generating association rules\n",
        "Sebelumnya kami menghitung itemset untuk Toko Alfaindo baru menggunakan algoritma Apriori. Kita memperoleh informasi untuk meningkatkan jumlah set item dari (dari data selecting suport threshold) menjadi (...). \n",
        "\n",
        "Tujuannya adalah untuk menentukan aturan asosiasi apa yang dapat ditambang dari kumpulan item ini"
      ]
    },
    {
      "cell_type": "code",
      "source": [
        "rules = association_rules(frequent_itemsets, metric=\"lift\", min_threshold=1)\n",
        "rules.sort_values(by='lift', ascending=False, na_position='last', inplace = True)\n",
        "rules.head(5)"
      ],
      "metadata": {
        "colab": {
          "base_uri": "https://localhost:8080/",
          "height": 206
        },
        "id": "x0prJdQ0ghxm",
        "outputId": "7b53af69-0c5d-49e8-c790-3b104110bac4"
      },
      "id": "x0prJdQ0ghxm",
      "execution_count": null,
      "outputs": [
        {
          "output_type": "execute_result",
          "data": {
            "text/plain": [
              "              antecedents           consequents  antecedent support  \\\n",
              "112  (Shampoo, Air Minum)          (Mie Instan)            0.090909   \n",
              "128       (Shampoo, Roti)          (Mie Instan)            0.090909   \n",
              "113          (Mie Instan)  (Shampoo, Air Minum)            0.454545   \n",
              "129          (Mie Instan)       (Shampoo, Roti)            0.454545   \n",
              "75                 (Roti)        (Snack, Rokok)            0.545455   \n",
              "\n",
              "     consequent support   support  confidence      lift  leverage  conviction  \n",
              "112            0.454545  0.090909    1.000000  2.200000  0.049587         inf  \n",
              "128            0.454545  0.090909    1.000000  2.200000  0.049587         inf  \n",
              "113            0.090909  0.090909    0.200000  2.200000  0.049587    1.136364  \n",
              "129            0.090909  0.090909    0.200000  2.200000  0.049587    1.136364  \n",
              "75             0.181818  0.181818    0.333333  1.833333  0.082645    1.227273  "
            ],
            "text/html": [
              "\n",
              "  <div id=\"df-788956d2-a9d1-4745-bce5-e6764216a426\">\n",
              "    <div class=\"colab-df-container\">\n",
              "      <div>\n",
              "<style scoped>\n",
              "    .dataframe tbody tr th:only-of-type {\n",
              "        vertical-align: middle;\n",
              "    }\n",
              "\n",
              "    .dataframe tbody tr th {\n",
              "        vertical-align: top;\n",
              "    }\n",
              "\n",
              "    .dataframe thead th {\n",
              "        text-align: right;\n",
              "    }\n",
              "</style>\n",
              "<table border=\"1\" class=\"dataframe\">\n",
              "  <thead>\n",
              "    <tr style=\"text-align: right;\">\n",
              "      <th></th>\n",
              "      <th>antecedents</th>\n",
              "      <th>consequents</th>\n",
              "      <th>antecedent support</th>\n",
              "      <th>consequent support</th>\n",
              "      <th>support</th>\n",
              "      <th>confidence</th>\n",
              "      <th>lift</th>\n",
              "      <th>leverage</th>\n",
              "      <th>conviction</th>\n",
              "    </tr>\n",
              "  </thead>\n",
              "  <tbody>\n",
              "    <tr>\n",
              "      <th>112</th>\n",
              "      <td>(Shampoo, Air Minum)</td>\n",
              "      <td>(Mie Instan)</td>\n",
              "      <td>0.090909</td>\n",
              "      <td>0.454545</td>\n",
              "      <td>0.090909</td>\n",
              "      <td>1.000000</td>\n",
              "      <td>2.200000</td>\n",
              "      <td>0.049587</td>\n",
              "      <td>inf</td>\n",
              "    </tr>\n",
              "    <tr>\n",
              "      <th>128</th>\n",
              "      <td>(Shampoo, Roti)</td>\n",
              "      <td>(Mie Instan)</td>\n",
              "      <td>0.090909</td>\n",
              "      <td>0.454545</td>\n",
              "      <td>0.090909</td>\n",
              "      <td>1.000000</td>\n",
              "      <td>2.200000</td>\n",
              "      <td>0.049587</td>\n",
              "      <td>inf</td>\n",
              "    </tr>\n",
              "    <tr>\n",
              "      <th>113</th>\n",
              "      <td>(Mie Instan)</td>\n",
              "      <td>(Shampoo, Air Minum)</td>\n",
              "      <td>0.454545</td>\n",
              "      <td>0.090909</td>\n",
              "      <td>0.090909</td>\n",
              "      <td>0.200000</td>\n",
              "      <td>2.200000</td>\n",
              "      <td>0.049587</td>\n",
              "      <td>1.136364</td>\n",
              "    </tr>\n",
              "    <tr>\n",
              "      <th>129</th>\n",
              "      <td>(Mie Instan)</td>\n",
              "      <td>(Shampoo, Roti)</td>\n",
              "      <td>0.454545</td>\n",
              "      <td>0.090909</td>\n",
              "      <td>0.090909</td>\n",
              "      <td>0.200000</td>\n",
              "      <td>2.200000</td>\n",
              "      <td>0.049587</td>\n",
              "      <td>1.136364</td>\n",
              "    </tr>\n",
              "    <tr>\n",
              "      <th>75</th>\n",
              "      <td>(Roti)</td>\n",
              "      <td>(Snack, Rokok)</td>\n",
              "      <td>0.545455</td>\n",
              "      <td>0.181818</td>\n",
              "      <td>0.181818</td>\n",
              "      <td>0.333333</td>\n",
              "      <td>1.833333</td>\n",
              "      <td>0.082645</td>\n",
              "      <td>1.227273</td>\n",
              "    </tr>\n",
              "  </tbody>\n",
              "</table>\n",
              "</div>\n",
              "      <button class=\"colab-df-convert\" onclick=\"convertToInteractive('df-788956d2-a9d1-4745-bce5-e6764216a426')\"\n",
              "              title=\"Convert this dataframe to an interactive table.\"\n",
              "              style=\"display:none;\">\n",
              "        \n",
              "  <svg xmlns=\"http://www.w3.org/2000/svg\" height=\"24px\"viewBox=\"0 0 24 24\"\n",
              "       width=\"24px\">\n",
              "    <path d=\"M0 0h24v24H0V0z\" fill=\"none\"/>\n",
              "    <path d=\"M18.56 5.44l.94 2.06.94-2.06 2.06-.94-2.06-.94-.94-2.06-.94 2.06-2.06.94zm-11 1L8.5 8.5l.94-2.06 2.06-.94-2.06-.94L8.5 2.5l-.94 2.06-2.06.94zm10 10l.94 2.06.94-2.06 2.06-.94-2.06-.94-.94-2.06-.94 2.06-2.06.94z\"/><path d=\"M17.41 7.96l-1.37-1.37c-.4-.4-.92-.59-1.43-.59-.52 0-1.04.2-1.43.59L10.3 9.45l-7.72 7.72c-.78.78-.78 2.05 0 2.83L4 21.41c.39.39.9.59 1.41.59.51 0 1.02-.2 1.41-.59l7.78-7.78 2.81-2.81c.8-.78.8-2.07 0-2.86zM5.41 20L4 18.59l7.72-7.72 1.47 1.35L5.41 20z\"/>\n",
              "  </svg>\n",
              "      </button>\n",
              "      \n",
              "  <style>\n",
              "    .colab-df-container {\n",
              "      display:flex;\n",
              "      flex-wrap:wrap;\n",
              "      gap: 12px;\n",
              "    }\n",
              "\n",
              "    .colab-df-convert {\n",
              "      background-color: #E8F0FE;\n",
              "      border: none;\n",
              "      border-radius: 50%;\n",
              "      cursor: pointer;\n",
              "      display: none;\n",
              "      fill: #1967D2;\n",
              "      height: 32px;\n",
              "      padding: 0 0 0 0;\n",
              "      width: 32px;\n",
              "    }\n",
              "\n",
              "    .colab-df-convert:hover {\n",
              "      background-color: #E2EBFA;\n",
              "      box-shadow: 0px 1px 2px rgba(60, 64, 67, 0.3), 0px 1px 3px 1px rgba(60, 64, 67, 0.15);\n",
              "      fill: #174EA6;\n",
              "    }\n",
              "\n",
              "    [theme=dark] .colab-df-convert {\n",
              "      background-color: #3B4455;\n",
              "      fill: #D2E3FC;\n",
              "    }\n",
              "\n",
              "    [theme=dark] .colab-df-convert:hover {\n",
              "      background-color: #434B5C;\n",
              "      box-shadow: 0px 1px 3px 1px rgba(0, 0, 0, 0.15);\n",
              "      filter: drop-shadow(0px 1px 2px rgba(0, 0, 0, 0.3));\n",
              "      fill: #FFFFFF;\n",
              "    }\n",
              "  </style>\n",
              "\n",
              "      <script>\n",
              "        const buttonEl =\n",
              "          document.querySelector('#df-788956d2-a9d1-4745-bce5-e6764216a426 button.colab-df-convert');\n",
              "        buttonEl.style.display =\n",
              "          google.colab.kernel.accessAllowed ? 'block' : 'none';\n",
              "\n",
              "        async function convertToInteractive(key) {\n",
              "          const element = document.querySelector('#df-788956d2-a9d1-4745-bce5-e6764216a426');\n",
              "          const dataTable =\n",
              "            await google.colab.kernel.invokeFunction('convertToInteractive',\n",
              "                                                     [key], {});\n",
              "          if (!dataTable) return;\n",
              "\n",
              "          const docLinkHtml = 'Like what you see? Visit the ' +\n",
              "            '<a target=\"_blank\" href=https://colab.research.google.com/notebooks/data_table.ipynb>data table notebook</a>'\n",
              "            + ' to learn more about interactive tables.';\n",
              "          element.innerHTML = '';\n",
              "          dataTable['output_type'] = 'display_data';\n",
              "          await google.colab.output.renderOutput(dataTable, element);\n",
              "          const docLink = document.createElement('div');\n",
              "          docLink.innerHTML = docLinkHtml;\n",
              "          element.appendChild(docLink);\n",
              "        }\n",
              "      </script>\n",
              "    </div>\n",
              "  </div>\n",
              "  "
            ]
          },
          "metadata": {},
          "execution_count": 83
        }
      ]
    },
    {
      "cell_type": "markdown",
      "source": [
        "## Interpretasi\n",
        "\n",
        "Dari hasil association_rules di atas, kita lihat bahwa nilai lift nya lebih dari 1, jadi bisa kita simpulkan bahwa 2 itemnya berasosiasi satu sama lain. Untuk shampoo dan air minum dengan mie instan memiliki asosiasi satu sama lain yang paling tinggi karena item tersebut memiliki nilai lift tertinggi. Jadi kita simpulkan bahwa pelanggan akan membeli mie instan setelah dia membeli shampoo dan air minum. Karena support value keduanya sebesar 9% dari total keseluruhan transaksi dimana kedua barang ini terjual bersamaan\n",
        "\n",
        "Berdasarkan informasi yang diperoleh kita bisa memberi diskon untuk pembelian mie instan kepada pelanggan yang membeli shampoo dan air minum."
      ],
      "metadata": {
        "id": "Z8aOxoV2jZKJ"
      },
      "id": "Z8aOxoV2jZKJ"
    },
    {
      "cell_type": "markdown",
      "source": [],
      "metadata": {
        "id": "birvgwyblwcK"
      },
      "id": "birvgwyblwcK"
    },
    {
      "cell_type": "markdown",
      "id": "96075e3a",
      "metadata": {
        "id": "96075e3a"
      },
      "source": [
        "## Interpretasi\n",
        "Dari hasil association_rules di atas, kita dapat melihat bahwa ROSES REGENCY TEACUP AND SAUCER dan GREEN REGENCY TEACUP AND SAUCER adalah item yang memiliki asosiasi tertinggi satu sama lain karena kedua item ini memiliki nilai “lift” tertinggi. Semakin tinggi nilai lift maka semakin tinggi pula asosiasi antar item. Jika nilai lift lebih dari 1, cukup kita katakan bahwa kedua item tersebut saling terkait. Dalam hal ini, nilai lift tertinggi adalah 17,717 yang sangat tinggi. Artinya 2 item ini sangat bagus untuk dijual bersama.\n",
        "\n",
        "Selain itu, kita juga bisa melihat nilai support ROSES REGENCY TEACUP AND SAUCER dan GREEN REGENCY TEACUP AND SAUCER adalah 0,0309% yang berarti ada 3,09% dari total transaksi bahwa 2 item ini dijual bersama. Jumlahnya adalah 476 kali.\n",
        "\n",
        "Dari kepercayaan diri, kami bahkan dapat mengekstrak lebih banyak informasi. Ingat bahwa nilai kepercayaan dipengaruhi oleh anteseden dan konsekuen. Jika antecedent lebih tinggi dari consequent, maka rule yang akan diterapkan adalah rule nomor 1 (bukan nomor 2). dan sebaliknya. Dalam hal ini, nilai antecedent lebih tinggi dari nilai consequent. Artinya kita akan menerapkan aturan nomor 1 yaitu 𝐺𝑅𝐸𝐸𝑁 𝑇𝐸𝐴𝐶𝑈𝑃 𝐴𝑁𝐷 → 𝑅𝐸𝐺𝐸𝑁𝐶𝑌 . Dalam penjelasan yang lebih rinci, ini berarti bahwa seorang pelanggan akan cenderung membeli Cangkir dan Piring Roses Regency SETELAH mereka membeli Cangkir Teh dan Piring Green Regency. Tidak sebaliknya. Ini bisa menjadi informasi yang sangat berharga, karena kami sekarang tahu produk mana yang harus kami beri diskon. Kami dapat memberikan potongan harga untuk Roses Regency Teacup and Sauce jika pelanggan membeli Green Regency Teacup and Saucer."
      ]
    },
    {
      "cell_type": "markdown",
      "id": "be3a0d41",
      "metadata": {
        "id": "be3a0d41"
      },
      "source": [
        "### Interpretasi\n",
        "Market Basket Analysis adalah suatu metodologi untuk melakukan analisis buying habit konsumen dengan menemukan asosiasi antar beberapa item yang berbeda, yang diletakkan konsumen dalam shopping basket (keranjang belanja) yang dibeli pada suatu transaksi tertentu. Tujuan dari Market Basket Analysis adalah untuk mengetahui produk-produk mana yang mungkin akan dibeli secara bersamaan. Kita akan menemukan pola yang menunjukkan item mana yang sering dibeli bersama sehingga  dapat diterapkan diskon ke item tertentu dengan lebih akurat. Meskipun sebuah perusahaan telah memperhatikan tingkat kepuasan customer, namun analisis ini tetap diperlukan untuk membantu perusahaan berkembang dengan lebih cepat.\n",
        "\n",
        "Market Basket Analysis adalah suatu analisis atas perilaku konsumen secara spesifik dari suatu golongan/kelompok tertentu.  Market basket analysis umumnya dimanfaatkan sebagai titik awal pencarian pengetahuan dari suatu transaksi data ketika kita tidak mengetahui pola spesifik apa yang kita cari. \n",
        "\n",
        "Proses market basket analysis dimulai dengan transaksi yang terdiri dari satu/lebih penawaran produk/jasa dan beberapa informasi dasar suatu transaksi. Output dari market basket analysis adalah berbentuk aturan assosiasi (Association Rules). Yang dimaksud dengan Association Rules sendiri adalah pola-pola keterkaitan data dalam basis data."
      ]
    },
    {
      "cell_type": "markdown",
      "id": "1eeadd94",
      "metadata": {
        "id": "1eeadd94"
      },
      "source": [
        "# Terima kasih"
      ]
    }
  ],
  "metadata": {
    "kernelspec": {
      "display_name": "Python 3 (ipykernel)",
      "language": "python",
      "name": "python3"
    },
    "language_info": {
      "codemirror_mode": {
        "name": "ipython",
        "version": 3
      },
      "file_extension": ".py",
      "mimetype": "text/x-python",
      "name": "python",
      "nbconvert_exporter": "python",
      "pygments_lexer": "ipython3",
      "version": "3.9.12"
    },
    "colab": {
      "provenance": [],
      "collapsed_sections": [
        "be3a0d41"
      ],
      "include_colab_link": true
    }
  },
  "nbformat": 4,
  "nbformat_minor": 5
}