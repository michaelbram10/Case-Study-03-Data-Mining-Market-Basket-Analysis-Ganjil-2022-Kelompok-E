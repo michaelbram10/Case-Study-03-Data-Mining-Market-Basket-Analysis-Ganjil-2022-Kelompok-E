{
  "cells": [
    {
      "cell_type": "markdown",
      "metadata": {
        "id": "view-in-github",
        "colab_type": "text"
      },
      "source": [
        "<a href=\"https://colab.research.google.com/github/michaelbram10/Case-Study-03-Data-Mining-Market-Basket-Analysis-Ganjil-2022-Kelompok-E/blob/main/Case_Study_03_Data_Mining_Market_Basket_Analysis_Ganjil_2022_Kelompok_E.ipynb\" target=\"_parent\"><img src=\"https://colab.research.google.com/assets/colab-badge.svg\" alt=\"Open In Colab\"/></a>"
      ]
    },
    {
      "cell_type": "markdown",
      "id": "4380d15f",
      "metadata": {
        "id": "4380d15f"
      },
      "source": [
        "# Study Case 03 - Data Mining dan Business Intelligence : Market Basket Analysis Toko AlfaIndo Cabang UI Depok\n",
        "\n",
        "**Kelompok E :**\n",
        "1. Nurul Annisa                  (1906377864)\n",
        "2. Athaya Yumna Fathiyah         (1906296192)\n",
        "3. Michael Mario Bramanthyo Adhi (1906299534)\n",
        "4. Teguh Saputra                 (1906375700)\n",
        "5. Ammar Yazid                   (1906377851)        \n",
        "6. Bintang Anugrah Alam          (2006571173) \n",
        "7. Salsana Siti Hatmanti         (2006571154)"
      ]
    },
    {
      "cell_type": "markdown",
      "id": "a1d0c0a2",
      "metadata": {
        "id": "a1d0c0a2"
      },
      "source": [
        "## Kasus: \n",
        "- *AlfaIndo* adalah sebuah toko waralaba yang memiliki beberapa cabang di kota-kota besar di Indonesia seperti Jakarta, Depok, Surabaya, dan Medan.\n",
        "- Anda adalah seorang Data Analyst yang bekerja di kantor pusat AlfaIndo di Jakarta\n",
        "- Pasca masa pandemi Toko AlfaIndo cabang UI Depok mengalami penurunan laba yang signifikan.\n",
        "- Anda ditugaskan oleh pimpinan untuk membantu toko ALfaIndo cabang UI Depok untuk bangkit dari keterpurukannya."
      ]
    },
    {
      "cell_type": "markdown",
      "id": "0d0ffdd7",
      "metadata": {
        "id": "0d0ffdd7"
      },
      "source": [
        "## Petunjuk\n",
        "*Catatan:*\t\n",
        "0-\t*Warning …* Karena file berbentuk Excel anda harus menyiapkan mekanisme agar file tersebut dapat di load secara automatis ketika Jupyter Notebook and di \"Run-All\" oleh dosen (misal merubah ke csv dan upload ke GitHub). \\\n",
        "1-\tTentukan ketua kelompok, silahkan mulai fikirkan strategi pembagian kerja kelompoknya. \\\n",
        "2-\tSemua menyiapkan Akun GitHub dan aplikasi GitHub Desktop (silahkan latihan menggunakan GitHub). \\\n",
        "3-\tPelajari dengan baik semua materi sebelumnya, latihan dengan data yang ada atau yang baru. \\\n",
        "4-\tGunakan akumulasi semua pengetahuan/skill yang telah dipelajari sebelumnya untuk menjawab kasus saat ini. \\\n",
        "5-\tSaat membuat laporan pengolahan data case study nanti, bayangkan kalian sedang bekerja di sebuah perusahaan sebagai Data Analyst dan membuat laporan ke atasan (bukan dosen). Perhatikan dengan baik narasi/kalimat yang digunakan dalam mengambil kesimpulan dan membuat rekomendasi. \\\n",
        "6-\tYakinkan Code anda dapat di \"Run-All\" oleh dosen di Google colaboratory. \\\n",
        "7-\tYakinkan anda memberikan informasi/insight serta rekomendasi/strategi Non-Trivial sebanyak-banyaknya. \\\n",
        "8-\tYakinkan ada kesimpulan akhir (penutup) di bagian paling bawah \"ipynb\" anda."
      ]
    },
    {
      "cell_type": "markdown",
      "source": [
        "## Produk\n",
        "![image.png](data:image/png;base64,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)"
      ],
      "metadata": {
        "id": "iC3Ldwp8Y4_w"
      },
      "id": "iC3Ldwp8Y4_w"
    },
    {
      "cell_type": "markdown",
      "id": "a871b9d4",
      "metadata": {
        "id": "a871b9d4"
      },
      "source": [
        "## 1. Preparation"
      ]
    },
    {
      "cell_type": "markdown",
      "id": "ed7ab155",
      "metadata": {
        "id": "ed7ab155"
      },
      "source": [
        "### 1.1 Libraries and Utilities"
      ]
    },
    {
      "cell_type": "code",
      "execution_count": null,
      "id": "d4eccaa6",
      "metadata": {
        "id": "d4eccaa6"
      },
      "outputs": [],
      "source": [
        "#Data Manipulatiom\n",
        "import pandas as pd\n",
        "import numpy as np\n",
        "import sklearn\n",
        "import scipy\n",
        "\n",
        "#Visualization\n",
        "import seaborn as sns           \n",
        "import matplotlib.pyplot as plt \n",
        "%matplotlib inline \n",
        "sns.set(color_codes=True)\n",
        "\n",
        "#Modelling\n",
        "from mlxtend.frequent_patterns import apriori\n",
        "from mlxtend.frequent_patterns import association_rules"
      ]
    },
    {
      "cell_type": "markdown",
      "id": "19acf464",
      "metadata": {
        "id": "19acf464"
      },
      "source": [
        "### 1.2 Data Loading"
      ]
    },
    {
      "cell_type": "markdown",
      "id": "29f65d87",
      "metadata": {
        "id": "29f65d87"
      },
      "source": [
        "### Import Data"
      ]
    },
    {
      "cell_type": "code",
      "execution_count": null,
      "id": "5448aa7e",
      "metadata": {
        "id": "5448aa7e"
      },
      "outputs": [],
      "source": [
        "# Loading Data:\n",
        "df = pd.read_csv(r\"https://raw.githubusercontent.com/Ammardaffala/ADM-Case-02-Clustering/main/Data%20Market%20Basket%20Analysis.csv\", sep = ';', low_memory = False, encoding='utf8')"
      ]
    },
    {
      "cell_type": "code",
      "execution_count": null,
      "id": "3e3261c1",
      "metadata": {
        "id": "3e3261c1",
        "outputId": "843518c5-133a-407b-d35b-1dcdea7c038e",
        "colab": {
          "base_uri": "https://localhost:8080/",
          "height": 206
        }
      },
      "outputs": [
        {
          "output_type": "execute_result",
          "data": {
            "text/plain": [
              "   ID Transaksi         Tanggal Konsumen  ID Produk Nama Produk     Merek  \\\n",
              "0             1  01/07/22 00.00    Mr. A          1        Roti  Sri Roti   \n",
              "1             1  01/07/22 00.00    Mr. A          2   Air Minum     Aquos   \n",
              "2             1  01/07/22 00.00    Mr. A         11  Mie Instan    Indomi   \n",
              "3             1  01/07/22 00.00    Mr. A         12  Mie Instan  Mi Sedap   \n",
              "4             2  01/07/22 00.00    Mr. B          2   Air Minum     Aquos   \n",
              "\n",
              "   Jumlah  \n",
              "0       2  \n",
              "1       1  \n",
              "2       2  \n",
              "3       1  \n",
              "4       1  "
            ],
            "text/html": [
              "\n",
              "  <div id=\"df-2d3b2cb4-3876-4209-b84e-2353492ce143\">\n",
              "    <div class=\"colab-df-container\">\n",
              "      <div>\n",
              "<style scoped>\n",
              "    .dataframe tbody tr th:only-of-type {\n",
              "        vertical-align: middle;\n",
              "    }\n",
              "\n",
              "    .dataframe tbody tr th {\n",
              "        vertical-align: top;\n",
              "    }\n",
              "\n",
              "    .dataframe thead th {\n",
              "        text-align: right;\n",
              "    }\n",
              "</style>\n",
              "<table border=\"1\" class=\"dataframe\">\n",
              "  <thead>\n",
              "    <tr style=\"text-align: right;\">\n",
              "      <th></th>\n",
              "      <th>ID Transaksi</th>\n",
              "      <th>Tanggal</th>\n",
              "      <th>Konsumen</th>\n",
              "      <th>ID Produk</th>\n",
              "      <th>Nama Produk</th>\n",
              "      <th>Merek</th>\n",
              "      <th>Jumlah</th>\n",
              "    </tr>\n",
              "  </thead>\n",
              "  <tbody>\n",
              "    <tr>\n",
              "      <th>0</th>\n",
              "      <td>1</td>\n",
              "      <td>01/07/22 00.00</td>\n",
              "      <td>Mr. A</td>\n",
              "      <td>1</td>\n",
              "      <td>Roti</td>\n",
              "      <td>Sri Roti</td>\n",
              "      <td>2</td>\n",
              "    </tr>\n",
              "    <tr>\n",
              "      <th>1</th>\n",
              "      <td>1</td>\n",
              "      <td>01/07/22 00.00</td>\n",
              "      <td>Mr. A</td>\n",
              "      <td>2</td>\n",
              "      <td>Air Minum</td>\n",
              "      <td>Aquos</td>\n",
              "      <td>1</td>\n",
              "    </tr>\n",
              "    <tr>\n",
              "      <th>2</th>\n",
              "      <td>1</td>\n",
              "      <td>01/07/22 00.00</td>\n",
              "      <td>Mr. A</td>\n",
              "      <td>11</td>\n",
              "      <td>Mie Instan</td>\n",
              "      <td>Indomi</td>\n",
              "      <td>2</td>\n",
              "    </tr>\n",
              "    <tr>\n",
              "      <th>3</th>\n",
              "      <td>1</td>\n",
              "      <td>01/07/22 00.00</td>\n",
              "      <td>Mr. A</td>\n",
              "      <td>12</td>\n",
              "      <td>Mie Instan</td>\n",
              "      <td>Mi Sedap</td>\n",
              "      <td>1</td>\n",
              "    </tr>\n",
              "    <tr>\n",
              "      <th>4</th>\n",
              "      <td>2</td>\n",
              "      <td>01/07/22 00.00</td>\n",
              "      <td>Mr. B</td>\n",
              "      <td>2</td>\n",
              "      <td>Air Minum</td>\n",
              "      <td>Aquos</td>\n",
              "      <td>1</td>\n",
              "    </tr>\n",
              "  </tbody>\n",
              "</table>\n",
              "</div>\n",
              "      <button class=\"colab-df-convert\" onclick=\"convertToInteractive('df-2d3b2cb4-3876-4209-b84e-2353492ce143')\"\n",
              "              title=\"Convert this dataframe to an interactive table.\"\n",
              "              style=\"display:none;\">\n",
              "        \n",
              "  <svg xmlns=\"http://www.w3.org/2000/svg\" height=\"24px\"viewBox=\"0 0 24 24\"\n",
              "       width=\"24px\">\n",
              "    <path d=\"M0 0h24v24H0V0z\" fill=\"none\"/>\n",
              "    <path d=\"M18.56 5.44l.94 2.06.94-2.06 2.06-.94-2.06-.94-.94-2.06-.94 2.06-2.06.94zm-11 1L8.5 8.5l.94-2.06 2.06-.94-2.06-.94L8.5 2.5l-.94 2.06-2.06.94zm10 10l.94 2.06.94-2.06 2.06-.94-2.06-.94-.94-2.06-.94 2.06-2.06.94z\"/><path d=\"M17.41 7.96l-1.37-1.37c-.4-.4-.92-.59-1.43-.59-.52 0-1.04.2-1.43.59L10.3 9.45l-7.72 7.72c-.78.78-.78 2.05 0 2.83L4 21.41c.39.39.9.59 1.41.59.51 0 1.02-.2 1.41-.59l7.78-7.78 2.81-2.81c.8-.78.8-2.07 0-2.86zM5.41 20L4 18.59l7.72-7.72 1.47 1.35L5.41 20z\"/>\n",
              "  </svg>\n",
              "      </button>\n",
              "      \n",
              "  <style>\n",
              "    .colab-df-container {\n",
              "      display:flex;\n",
              "      flex-wrap:wrap;\n",
              "      gap: 12px;\n",
              "    }\n",
              "\n",
              "    .colab-df-convert {\n",
              "      background-color: #E8F0FE;\n",
              "      border: none;\n",
              "      border-radius: 50%;\n",
              "      cursor: pointer;\n",
              "      display: none;\n",
              "      fill: #1967D2;\n",
              "      height: 32px;\n",
              "      padding: 0 0 0 0;\n",
              "      width: 32px;\n",
              "    }\n",
              "\n",
              "    .colab-df-convert:hover {\n",
              "      background-color: #E2EBFA;\n",
              "      box-shadow: 0px 1px 2px rgba(60, 64, 67, 0.3), 0px 1px 3px 1px rgba(60, 64, 67, 0.15);\n",
              "      fill: #174EA6;\n",
              "    }\n",
              "\n",
              "    [theme=dark] .colab-df-convert {\n",
              "      background-color: #3B4455;\n",
              "      fill: #D2E3FC;\n",
              "    }\n",
              "\n",
              "    [theme=dark] .colab-df-convert:hover {\n",
              "      background-color: #434B5C;\n",
              "      box-shadow: 0px 1px 3px 1px rgba(0, 0, 0, 0.15);\n",
              "      filter: drop-shadow(0px 1px 2px rgba(0, 0, 0, 0.3));\n",
              "      fill: #FFFFFF;\n",
              "    }\n",
              "  </style>\n",
              "\n",
              "      <script>\n",
              "        const buttonEl =\n",
              "          document.querySelector('#df-2d3b2cb4-3876-4209-b84e-2353492ce143 button.colab-df-convert');\n",
              "        buttonEl.style.display =\n",
              "          google.colab.kernel.accessAllowed ? 'block' : 'none';\n",
              "\n",
              "        async function convertToInteractive(key) {\n",
              "          const element = document.querySelector('#df-2d3b2cb4-3876-4209-b84e-2353492ce143');\n",
              "          const dataTable =\n",
              "            await google.colab.kernel.invokeFunction('convertToInteractive',\n",
              "                                                     [key], {});\n",
              "          if (!dataTable) return;\n",
              "\n",
              "          const docLinkHtml = 'Like what you see? Visit the ' +\n",
              "            '<a target=\"_blank\" href=https://colab.research.google.com/notebooks/data_table.ipynb>data table notebook</a>'\n",
              "            + ' to learn more about interactive tables.';\n",
              "          element.innerHTML = '';\n",
              "          dataTable['output_type'] = 'display_data';\n",
              "          await google.colab.output.renderOutput(dataTable, element);\n",
              "          const docLink = document.createElement('div');\n",
              "          docLink.innerHTML = docLinkHtml;\n",
              "          element.appendChild(docLink);\n",
              "        }\n",
              "      </script>\n",
              "    </div>\n",
              "  </div>\n",
              "  "
            ]
          },
          "metadata": {},
          "execution_count": 3
        }
      ],
      "source": [
        "df.head()"
      ]
    },
    {
      "cell_type": "code",
      "execution_count": null,
      "id": "b150fed8",
      "metadata": {
        "id": "b150fed8",
        "outputId": "156716ca-8fc2-4458-fe1c-ef4147657011",
        "colab": {
          "base_uri": "https://localhost:8080/",
          "height": 206
        }
      },
      "outputs": [
        {
          "output_type": "execute_result",
          "data": {
            "text/plain": [
              "    ID Transaksi         Tanggal Konsumen  ID Produk Nama Produk     Merek  \\\n",
              "51            17  05/09/22 00.00    Mr. F          2   Air Minum     Aquos   \n",
              "52            17  05/09/22 00.00    Mr. F          4       Sabun    Lifboy   \n",
              "53            17  05/09/22 00.00    Mr. F          6       Snack     Chiki   \n",
              "54            18  02/10/22 00.00    Mr. B          1        Roti  Sri Roti   \n",
              "55            18  02/10/22 00.00    Mr. B         10   Air Minum     Sprit   \n",
              "\n",
              "    Jumlah  \n",
              "51       1  \n",
              "52       1  \n",
              "53       2  \n",
              "54       2  \n",
              "55       2  "
            ],
            "text/html": [
              "\n",
              "  <div id=\"df-4322a782-c04e-419e-b191-a9f4a24be127\">\n",
              "    <div class=\"colab-df-container\">\n",
              "      <div>\n",
              "<style scoped>\n",
              "    .dataframe tbody tr th:only-of-type {\n",
              "        vertical-align: middle;\n",
              "    }\n",
              "\n",
              "    .dataframe tbody tr th {\n",
              "        vertical-align: top;\n",
              "    }\n",
              "\n",
              "    .dataframe thead th {\n",
              "        text-align: right;\n",
              "    }\n",
              "</style>\n",
              "<table border=\"1\" class=\"dataframe\">\n",
              "  <thead>\n",
              "    <tr style=\"text-align: right;\">\n",
              "      <th></th>\n",
              "      <th>ID Transaksi</th>\n",
              "      <th>Tanggal</th>\n",
              "      <th>Konsumen</th>\n",
              "      <th>ID Produk</th>\n",
              "      <th>Nama Produk</th>\n",
              "      <th>Merek</th>\n",
              "      <th>Jumlah</th>\n",
              "    </tr>\n",
              "  </thead>\n",
              "  <tbody>\n",
              "    <tr>\n",
              "      <th>51</th>\n",
              "      <td>17</td>\n",
              "      <td>05/09/22 00.00</td>\n",
              "      <td>Mr. F</td>\n",
              "      <td>2</td>\n",
              "      <td>Air Minum</td>\n",
              "      <td>Aquos</td>\n",
              "      <td>1</td>\n",
              "    </tr>\n",
              "    <tr>\n",
              "      <th>52</th>\n",
              "      <td>17</td>\n",
              "      <td>05/09/22 00.00</td>\n",
              "      <td>Mr. F</td>\n",
              "      <td>4</td>\n",
              "      <td>Sabun</td>\n",
              "      <td>Lifboy</td>\n",
              "      <td>1</td>\n",
              "    </tr>\n",
              "    <tr>\n",
              "      <th>53</th>\n",
              "      <td>17</td>\n",
              "      <td>05/09/22 00.00</td>\n",
              "      <td>Mr. F</td>\n",
              "      <td>6</td>\n",
              "      <td>Snack</td>\n",
              "      <td>Chiki</td>\n",
              "      <td>2</td>\n",
              "    </tr>\n",
              "    <tr>\n",
              "      <th>54</th>\n",
              "      <td>18</td>\n",
              "      <td>02/10/22 00.00</td>\n",
              "      <td>Mr. B</td>\n",
              "      <td>1</td>\n",
              "      <td>Roti</td>\n",
              "      <td>Sri Roti</td>\n",
              "      <td>2</td>\n",
              "    </tr>\n",
              "    <tr>\n",
              "      <th>55</th>\n",
              "      <td>18</td>\n",
              "      <td>02/10/22 00.00</td>\n",
              "      <td>Mr. B</td>\n",
              "      <td>10</td>\n",
              "      <td>Air Minum</td>\n",
              "      <td>Sprit</td>\n",
              "      <td>2</td>\n",
              "    </tr>\n",
              "  </tbody>\n",
              "</table>\n",
              "</div>\n",
              "      <button class=\"colab-df-convert\" onclick=\"convertToInteractive('df-4322a782-c04e-419e-b191-a9f4a24be127')\"\n",
              "              title=\"Convert this dataframe to an interactive table.\"\n",
              "              style=\"display:none;\">\n",
              "        \n",
              "  <svg xmlns=\"http://www.w3.org/2000/svg\" height=\"24px\"viewBox=\"0 0 24 24\"\n",
              "       width=\"24px\">\n",
              "    <path d=\"M0 0h24v24H0V0z\" fill=\"none\"/>\n",
              "    <path d=\"M18.56 5.44l.94 2.06.94-2.06 2.06-.94-2.06-.94-.94-2.06-.94 2.06-2.06.94zm-11 1L8.5 8.5l.94-2.06 2.06-.94-2.06-.94L8.5 2.5l-.94 2.06-2.06.94zm10 10l.94 2.06.94-2.06 2.06-.94-2.06-.94-.94-2.06-.94 2.06-2.06.94z\"/><path d=\"M17.41 7.96l-1.37-1.37c-.4-.4-.92-.59-1.43-.59-.52 0-1.04.2-1.43.59L10.3 9.45l-7.72 7.72c-.78.78-.78 2.05 0 2.83L4 21.41c.39.39.9.59 1.41.59.51 0 1.02-.2 1.41-.59l7.78-7.78 2.81-2.81c.8-.78.8-2.07 0-2.86zM5.41 20L4 18.59l7.72-7.72 1.47 1.35L5.41 20z\"/>\n",
              "  </svg>\n",
              "      </button>\n",
              "      \n",
              "  <style>\n",
              "    .colab-df-container {\n",
              "      display:flex;\n",
              "      flex-wrap:wrap;\n",
              "      gap: 12px;\n",
              "    }\n",
              "\n",
              "    .colab-df-convert {\n",
              "      background-color: #E8F0FE;\n",
              "      border: none;\n",
              "      border-radius: 50%;\n",
              "      cursor: pointer;\n",
              "      display: none;\n",
              "      fill: #1967D2;\n",
              "      height: 32px;\n",
              "      padding: 0 0 0 0;\n",
              "      width: 32px;\n",
              "    }\n",
              "\n",
              "    .colab-df-convert:hover {\n",
              "      background-color: #E2EBFA;\n",
              "      box-shadow: 0px 1px 2px rgba(60, 64, 67, 0.3), 0px 1px 3px 1px rgba(60, 64, 67, 0.15);\n",
              "      fill: #174EA6;\n",
              "    }\n",
              "\n",
              "    [theme=dark] .colab-df-convert {\n",
              "      background-color: #3B4455;\n",
              "      fill: #D2E3FC;\n",
              "    }\n",
              "\n",
              "    [theme=dark] .colab-df-convert:hover {\n",
              "      background-color: #434B5C;\n",
              "      box-shadow: 0px 1px 3px 1px rgba(0, 0, 0, 0.15);\n",
              "      filter: drop-shadow(0px 1px 2px rgba(0, 0, 0, 0.3));\n",
              "      fill: #FFFFFF;\n",
              "    }\n",
              "  </style>\n",
              "\n",
              "      <script>\n",
              "        const buttonEl =\n",
              "          document.querySelector('#df-4322a782-c04e-419e-b191-a9f4a24be127 button.colab-df-convert');\n",
              "        buttonEl.style.display =\n",
              "          google.colab.kernel.accessAllowed ? 'block' : 'none';\n",
              "\n",
              "        async function convertToInteractive(key) {\n",
              "          const element = document.querySelector('#df-4322a782-c04e-419e-b191-a9f4a24be127');\n",
              "          const dataTable =\n",
              "            await google.colab.kernel.invokeFunction('convertToInteractive',\n",
              "                                                     [key], {});\n",
              "          if (!dataTable) return;\n",
              "\n",
              "          const docLinkHtml = 'Like what you see? Visit the ' +\n",
              "            '<a target=\"_blank\" href=https://colab.research.google.com/notebooks/data_table.ipynb>data table notebook</a>'\n",
              "            + ' to learn more about interactive tables.';\n",
              "          element.innerHTML = '';\n",
              "          dataTable['output_type'] = 'display_data';\n",
              "          await google.colab.output.renderOutput(dataTable, element);\n",
              "          const docLink = document.createElement('div');\n",
              "          docLink.innerHTML = docLinkHtml;\n",
              "          element.appendChild(docLink);\n",
              "        }\n",
              "      </script>\n",
              "    </div>\n",
              "  </div>\n",
              "  "
            ]
          },
          "metadata": {},
          "execution_count": 4
        }
      ],
      "source": [
        "df.tail()"
      ]
    },
    {
      "cell_type": "code",
      "execution_count": null,
      "id": "5eae8c35",
      "metadata": {
        "id": "5eae8c35",
        "outputId": "4f2d50ff-bbe9-4620-f381-6149ac85ec9e",
        "colab": {
          "base_uri": "https://localhost:8080/"
        }
      },
      "outputs": [
        {
          "output_type": "stream",
          "name": "stdout",
          "text": [
            "<class 'pandas.core.frame.DataFrame'>\n",
            "RangeIndex: 56 entries, 0 to 55\n",
            "Data columns (total 7 columns):\n",
            " #   Column        Non-Null Count  Dtype \n",
            "---  ------        --------------  ----- \n",
            " 0   ID Transaksi  56 non-null     int64 \n",
            " 1   Tanggal       56 non-null     object\n",
            " 2   Konsumen      56 non-null     object\n",
            " 3   ID Produk     56 non-null     int64 \n",
            " 4   Nama Produk   56 non-null     object\n",
            " 5   Merek         56 non-null     object\n",
            " 6   Jumlah        56 non-null     int64 \n",
            "dtypes: int64(3), object(4)\n",
            "memory usage: 3.2+ KB\n"
          ]
        }
      ],
      "source": [
        "df.info()"
      ]
    },
    {
      "cell_type": "markdown",
      "id": "0974fd61",
      "metadata": {
        "id": "0974fd61"
      },
      "source": [
        "### 1.3 Data Understanding"
      ]
    },
    {
      "cell_type": "code",
      "execution_count": null,
      "id": "6ced0327",
      "metadata": {
        "id": "6ced0327",
        "outputId": "16412139-7a03-466f-d569-f70034c34e6b",
        "colab": {
          "base_uri": "https://localhost:8080/"
        }
      },
      "outputs": [
        {
          "output_type": "execute_result",
          "data": {
            "text/plain": [
              "['ID Transaksi',\n",
              " 'Tanggal',\n",
              " 'Konsumen',\n",
              " 'ID Produk',\n",
              " 'Nama Produk',\n",
              " 'Merek',\n",
              " 'Jumlah']"
            ]
          },
          "metadata": {},
          "execution_count": 7
        }
      ],
      "source": [
        "list(df.columns)"
      ]
    },
    {
      "cell_type": "code",
      "execution_count": null,
      "id": "65617e58",
      "metadata": {
        "scrolled": true,
        "id": "65617e58",
        "outputId": "14655f64-286e-4f65-8365-a854dbc133b9",
        "colab": {
          "base_uri": "https://localhost:8080/"
        }
      },
      "outputs": [
        {
          "output_type": "execute_result",
          "data": {
            "text/plain": [
              "ID Transaksi     int64\n",
              "Tanggal         object\n",
              "Konsumen        object\n",
              "ID Produk        int64\n",
              "Nama Produk     object\n",
              "Merek           object\n",
              "Jumlah           int64\n",
              "dtype: object"
            ]
          },
          "metadata": {},
          "execution_count": 8
        }
      ],
      "source": [
        "df.dtypes"
      ]
    },
    {
      "cell_type": "code",
      "execution_count": null,
      "id": "f7b66f2b",
      "metadata": {
        "id": "f7b66f2b",
        "colab": {
          "base_uri": "https://localhost:8080/",
          "height": 450
        },
        "outputId": "3c9dbc48-1c8d-4851-9340-fbbb41ca2b4a"
      },
      "outputs": [
        {
          "output_type": "error",
          "ename": "ParserError",
          "evalue": "ignored",
          "traceback": [
            "\u001b[0;31m---------------------------------------------------------------------------\u001b[0m",
            "\u001b[0;31mTypeError\u001b[0m                                 Traceback (most recent call last)",
            "\u001b[0;32m/usr/local/lib/python3.7/dist-packages/pandas/core/arrays/datetimes.py\u001b[0m in \u001b[0;36mobjects_to_datetime64ns\u001b[0;34m(data, dayfirst, yearfirst, utc, errors, require_iso8601, allow_object, allow_mixed)\u001b[0m\n\u001b[1;32m   2191\u001b[0m         \u001b[0;32mtry\u001b[0m\u001b[0;34m:\u001b[0m\u001b[0;34m\u001b[0m\u001b[0;34m\u001b[0m\u001b[0m\n\u001b[0;32m-> 2192\u001b[0;31m             \u001b[0mvalues\u001b[0m\u001b[0;34m,\u001b[0m \u001b[0mtz_parsed\u001b[0m \u001b[0;34m=\u001b[0m \u001b[0mconversion\u001b[0m\u001b[0;34m.\u001b[0m\u001b[0mdatetime_to_datetime64\u001b[0m\u001b[0;34m(\u001b[0m\u001b[0mdata\u001b[0m\u001b[0;34m.\u001b[0m\u001b[0mravel\u001b[0m\u001b[0;34m(\u001b[0m\u001b[0;34m\"K\"\u001b[0m\u001b[0;34m)\u001b[0m\u001b[0;34m)\u001b[0m\u001b[0;34m\u001b[0m\u001b[0;34m\u001b[0m\u001b[0m\n\u001b[0m\u001b[1;32m   2193\u001b[0m             \u001b[0;31m# If tzaware, these values represent unix timestamps, so we\u001b[0m\u001b[0;34m\u001b[0m\u001b[0;34m\u001b[0m\u001b[0;34m\u001b[0m\u001b[0m\n",
            "\u001b[0;32m/usr/local/lib/python3.7/dist-packages/pandas/_libs/tslibs/conversion.pyx\u001b[0m in \u001b[0;36mpandas._libs.tslibs.conversion.datetime_to_datetime64\u001b[0;34m()\u001b[0m\n",
            "\u001b[0;31mTypeError\u001b[0m: Unrecognized value type: <class 'str'>",
            "\nDuring handling of the above exception, another exception occurred:\n",
            "\u001b[0;31mParserError\u001b[0m                               Traceback (most recent call last)",
            "\u001b[0;32m<ipython-input-11-594ba282f1b8>\u001b[0m in \u001b[0;36m<module>\u001b[0;34m\u001b[0m\n\u001b[1;32m      1\u001b[0m \u001b[0;31m### Change The Data Type of Some Columns ###\u001b[0m\u001b[0;34m\u001b[0m\u001b[0;34m\u001b[0m\u001b[0;34m\u001b[0m\u001b[0m\n\u001b[1;32m      2\u001b[0m \u001b[0;34m\u001b[0m\u001b[0m\n\u001b[0;32m----> 3\u001b[0;31m \u001b[0mdf\u001b[0m\u001b[0;34m[\u001b[0m\u001b[0;34m'Tanggal'\u001b[0m\u001b[0;34m]\u001b[0m \u001b[0;34m=\u001b[0m \u001b[0mpd\u001b[0m\u001b[0;34m.\u001b[0m\u001b[0mto_datetime\u001b[0m\u001b[0;34m(\u001b[0m\u001b[0mdf\u001b[0m\u001b[0;34m[\u001b[0m\u001b[0;34m'Tanggal'\u001b[0m\u001b[0;34m]\u001b[0m\u001b[0;34m)\u001b[0m\u001b[0;34m\u001b[0m\u001b[0;34m\u001b[0m\u001b[0m\n\u001b[0m",
            "\u001b[0;32m/usr/local/lib/python3.7/dist-packages/pandas/core/tools/datetimes.py\u001b[0m in \u001b[0;36mto_datetime\u001b[0;34m(arg, errors, dayfirst, yearfirst, utc, format, exact, unit, infer_datetime_format, origin, cache)\u001b[0m\n\u001b[1;32m    881\u001b[0m                 \u001b[0mresult\u001b[0m \u001b[0;34m=\u001b[0m \u001b[0mresult\u001b[0m\u001b[0;34m.\u001b[0m\u001b[0mtz_localize\u001b[0m\u001b[0;34m(\u001b[0m\u001b[0mtz\u001b[0m\u001b[0;34m)\u001b[0m  \u001b[0;31m# type: ignore[call-arg]\u001b[0m\u001b[0;34m\u001b[0m\u001b[0;34m\u001b[0m\u001b[0m\n\u001b[1;32m    882\u001b[0m     \u001b[0;32melif\u001b[0m \u001b[0misinstance\u001b[0m\u001b[0;34m(\u001b[0m\u001b[0marg\u001b[0m\u001b[0;34m,\u001b[0m \u001b[0mABCSeries\u001b[0m\u001b[0;34m)\u001b[0m\u001b[0;34m:\u001b[0m\u001b[0;34m\u001b[0m\u001b[0;34m\u001b[0m\u001b[0m\n\u001b[0;32m--> 883\u001b[0;31m         \u001b[0mcache_array\u001b[0m \u001b[0;34m=\u001b[0m \u001b[0m_maybe_cache\u001b[0m\u001b[0;34m(\u001b[0m\u001b[0marg\u001b[0m\u001b[0;34m,\u001b[0m \u001b[0mformat\u001b[0m\u001b[0;34m,\u001b[0m \u001b[0mcache\u001b[0m\u001b[0;34m,\u001b[0m \u001b[0mconvert_listlike\u001b[0m\u001b[0;34m)\u001b[0m\u001b[0;34m\u001b[0m\u001b[0;34m\u001b[0m\u001b[0m\n\u001b[0m\u001b[1;32m    884\u001b[0m         \u001b[0;32mif\u001b[0m \u001b[0;32mnot\u001b[0m \u001b[0mcache_array\u001b[0m\u001b[0;34m.\u001b[0m\u001b[0mempty\u001b[0m\u001b[0;34m:\u001b[0m\u001b[0;34m\u001b[0m\u001b[0;34m\u001b[0m\u001b[0m\n\u001b[1;32m    885\u001b[0m             \u001b[0mresult\u001b[0m \u001b[0;34m=\u001b[0m \u001b[0marg\u001b[0m\u001b[0;34m.\u001b[0m\u001b[0mmap\u001b[0m\u001b[0;34m(\u001b[0m\u001b[0mcache_array\u001b[0m\u001b[0;34m)\u001b[0m\u001b[0;34m\u001b[0m\u001b[0;34m\u001b[0m\u001b[0m\n",
            "\u001b[0;32m/usr/local/lib/python3.7/dist-packages/pandas/core/tools/datetimes.py\u001b[0m in \u001b[0;36m_maybe_cache\u001b[0;34m(arg, format, cache, convert_listlike)\u001b[0m\n\u001b[1;32m    193\u001b[0m         \u001b[0munique_dates\u001b[0m \u001b[0;34m=\u001b[0m \u001b[0munique\u001b[0m\u001b[0;34m(\u001b[0m\u001b[0marg\u001b[0m\u001b[0;34m)\u001b[0m\u001b[0;34m\u001b[0m\u001b[0;34m\u001b[0m\u001b[0m\n\u001b[1;32m    194\u001b[0m         \u001b[0;32mif\u001b[0m \u001b[0mlen\u001b[0m\u001b[0;34m(\u001b[0m\u001b[0munique_dates\u001b[0m\u001b[0;34m)\u001b[0m \u001b[0;34m<\u001b[0m \u001b[0mlen\u001b[0m\u001b[0;34m(\u001b[0m\u001b[0marg\u001b[0m\u001b[0;34m)\u001b[0m\u001b[0;34m:\u001b[0m\u001b[0;34m\u001b[0m\u001b[0;34m\u001b[0m\u001b[0m\n\u001b[0;32m--> 195\u001b[0;31m             \u001b[0mcache_dates\u001b[0m \u001b[0;34m=\u001b[0m \u001b[0mconvert_listlike\u001b[0m\u001b[0;34m(\u001b[0m\u001b[0munique_dates\u001b[0m\u001b[0;34m,\u001b[0m \u001b[0mformat\u001b[0m\u001b[0;34m)\u001b[0m\u001b[0;34m\u001b[0m\u001b[0;34m\u001b[0m\u001b[0m\n\u001b[0m\u001b[1;32m    196\u001b[0m             \u001b[0mcache_array\u001b[0m \u001b[0;34m=\u001b[0m \u001b[0mSeries\u001b[0m\u001b[0;34m(\u001b[0m\u001b[0mcache_dates\u001b[0m\u001b[0;34m,\u001b[0m \u001b[0mindex\u001b[0m\u001b[0;34m=\u001b[0m\u001b[0munique_dates\u001b[0m\u001b[0;34m)\u001b[0m\u001b[0;34m\u001b[0m\u001b[0;34m\u001b[0m\u001b[0m\n\u001b[1;32m    197\u001b[0m             \u001b[0;31m# GH#39882 and GH#35888 in case of None and NaT we get duplicates\u001b[0m\u001b[0;34m\u001b[0m\u001b[0;34m\u001b[0m\u001b[0;34m\u001b[0m\u001b[0m\n",
            "\u001b[0;32m/usr/local/lib/python3.7/dist-packages/pandas/core/tools/datetimes.py\u001b[0m in \u001b[0;36m_convert_listlike_datetimes\u001b[0;34m(arg, format, name, tz, unit, errors, infer_datetime_format, dayfirst, yearfirst, exact)\u001b[0m\n\u001b[1;32m    406\u001b[0m         \u001b[0merrors\u001b[0m\u001b[0;34m=\u001b[0m\u001b[0merrors\u001b[0m\u001b[0;34m,\u001b[0m\u001b[0;34m\u001b[0m\u001b[0;34m\u001b[0m\u001b[0m\n\u001b[1;32m    407\u001b[0m         \u001b[0mrequire_iso8601\u001b[0m\u001b[0;34m=\u001b[0m\u001b[0mrequire_iso8601\u001b[0m\u001b[0;34m,\u001b[0m\u001b[0;34m\u001b[0m\u001b[0;34m\u001b[0m\u001b[0m\n\u001b[0;32m--> 408\u001b[0;31m         \u001b[0mallow_object\u001b[0m\u001b[0;34m=\u001b[0m\u001b[0;32mTrue\u001b[0m\u001b[0;34m,\u001b[0m\u001b[0;34m\u001b[0m\u001b[0;34m\u001b[0m\u001b[0m\n\u001b[0m\u001b[1;32m    409\u001b[0m     )\n\u001b[1;32m    410\u001b[0m \u001b[0;34m\u001b[0m\u001b[0m\n",
            "\u001b[0;32m/usr/local/lib/python3.7/dist-packages/pandas/core/arrays/datetimes.py\u001b[0m in \u001b[0;36mobjects_to_datetime64ns\u001b[0;34m(data, dayfirst, yearfirst, utc, errors, require_iso8601, allow_object, allow_mixed)\u001b[0m\n\u001b[1;32m   2196\u001b[0m             \u001b[0;32mreturn\u001b[0m \u001b[0mvalues\u001b[0m\u001b[0;34m.\u001b[0m\u001b[0mview\u001b[0m\u001b[0;34m(\u001b[0m\u001b[0;34m\"i8\"\u001b[0m\u001b[0;34m)\u001b[0m\u001b[0;34m,\u001b[0m \u001b[0mtz_parsed\u001b[0m\u001b[0;34m\u001b[0m\u001b[0;34m\u001b[0m\u001b[0m\n\u001b[1;32m   2197\u001b[0m         \u001b[0;32mexcept\u001b[0m \u001b[0;34m(\u001b[0m\u001b[0mValueError\u001b[0m\u001b[0;34m,\u001b[0m \u001b[0mTypeError\u001b[0m\u001b[0;34m)\u001b[0m\u001b[0;34m:\u001b[0m\u001b[0;34m\u001b[0m\u001b[0;34m\u001b[0m\u001b[0m\n\u001b[0;32m-> 2198\u001b[0;31m             \u001b[0;32mraise\u001b[0m \u001b[0merr\u001b[0m\u001b[0;34m\u001b[0m\u001b[0;34m\u001b[0m\u001b[0m\n\u001b[0m\u001b[1;32m   2199\u001b[0m \u001b[0;34m\u001b[0m\u001b[0m\n\u001b[1;32m   2200\u001b[0m     \u001b[0;32mif\u001b[0m \u001b[0mtz_parsed\u001b[0m \u001b[0;32mis\u001b[0m \u001b[0;32mnot\u001b[0m \u001b[0;32mNone\u001b[0m\u001b[0;34m:\u001b[0m\u001b[0;34m\u001b[0m\u001b[0;34m\u001b[0m\u001b[0m\n",
            "\u001b[0;32m/usr/local/lib/python3.7/dist-packages/pandas/core/arrays/datetimes.py\u001b[0m in \u001b[0;36mobjects_to_datetime64ns\u001b[0;34m(data, dayfirst, yearfirst, utc, errors, require_iso8601, allow_object, allow_mixed)\u001b[0m\n\u001b[1;32m   2185\u001b[0m             \u001b[0myearfirst\u001b[0m\u001b[0;34m=\u001b[0m\u001b[0myearfirst\u001b[0m\u001b[0;34m,\u001b[0m\u001b[0;34m\u001b[0m\u001b[0;34m\u001b[0m\u001b[0m\n\u001b[1;32m   2186\u001b[0m             \u001b[0mrequire_iso8601\u001b[0m\u001b[0;34m=\u001b[0m\u001b[0mrequire_iso8601\u001b[0m\u001b[0;34m,\u001b[0m\u001b[0;34m\u001b[0m\u001b[0;34m\u001b[0m\u001b[0m\n\u001b[0;32m-> 2187\u001b[0;31m             \u001b[0mallow_mixed\u001b[0m\u001b[0;34m=\u001b[0m\u001b[0mallow_mixed\u001b[0m\u001b[0;34m,\u001b[0m\u001b[0;34m\u001b[0m\u001b[0;34m\u001b[0m\u001b[0m\n\u001b[0m\u001b[1;32m   2188\u001b[0m         )\n\u001b[1;32m   2189\u001b[0m         \u001b[0mresult\u001b[0m \u001b[0;34m=\u001b[0m \u001b[0mresult\u001b[0m\u001b[0;34m.\u001b[0m\u001b[0mreshape\u001b[0m\u001b[0;34m(\u001b[0m\u001b[0mdata\u001b[0m\u001b[0;34m.\u001b[0m\u001b[0mshape\u001b[0m\u001b[0;34m,\u001b[0m \u001b[0morder\u001b[0m\u001b[0;34m=\u001b[0m\u001b[0morder\u001b[0m\u001b[0;34m)\u001b[0m\u001b[0;34m\u001b[0m\u001b[0;34m\u001b[0m\u001b[0m\n",
            "\u001b[0;32m/usr/local/lib/python3.7/dist-packages/pandas/_libs/tslib.pyx\u001b[0m in \u001b[0;36mpandas._libs.tslib.array_to_datetime\u001b[0;34m()\u001b[0m\n",
            "\u001b[0;32m/usr/local/lib/python3.7/dist-packages/pandas/_libs/tslib.pyx\u001b[0m in \u001b[0;36mpandas._libs.tslib.array_to_datetime\u001b[0;34m()\u001b[0m\n",
            "\u001b[0;32m/usr/local/lib/python3.7/dist-packages/pandas/_libs/tslib.pyx\u001b[0m in \u001b[0;36mpandas._libs.tslib._array_to_datetime_object\u001b[0;34m()\u001b[0m\n",
            "\u001b[0;32m/usr/local/lib/python3.7/dist-packages/pandas/_libs/tslib.pyx\u001b[0m in \u001b[0;36mpandas._libs.tslib._array_to_datetime_object\u001b[0;34m()\u001b[0m\n",
            "\u001b[0;32m/usr/local/lib/python3.7/dist-packages/pandas/_libs/tslibs/parsing.pyx\u001b[0m in \u001b[0;36mpandas._libs.tslibs.parsing.parse_datetime_string\u001b[0;34m()\u001b[0m\n",
            "\u001b[0;32m/usr/local/lib/python3.7/dist-packages/dateutil/parser/_parser.py\u001b[0m in \u001b[0;36mparse\u001b[0;34m(timestr, parserinfo, **kwargs)\u001b[0m\n\u001b[1;32m   1366\u001b[0m         \u001b[0;32mreturn\u001b[0m \u001b[0mparser\u001b[0m\u001b[0;34m(\u001b[0m\u001b[0mparserinfo\u001b[0m\u001b[0;34m)\u001b[0m\u001b[0;34m.\u001b[0m\u001b[0mparse\u001b[0m\u001b[0;34m(\u001b[0m\u001b[0mtimestr\u001b[0m\u001b[0;34m,\u001b[0m \u001b[0;34m**\u001b[0m\u001b[0mkwargs\u001b[0m\u001b[0;34m)\u001b[0m\u001b[0;34m\u001b[0m\u001b[0;34m\u001b[0m\u001b[0m\n\u001b[1;32m   1367\u001b[0m     \u001b[0;32melse\u001b[0m\u001b[0;34m:\u001b[0m\u001b[0;34m\u001b[0m\u001b[0;34m\u001b[0m\u001b[0m\n\u001b[0;32m-> 1368\u001b[0;31m         \u001b[0;32mreturn\u001b[0m \u001b[0mDEFAULTPARSER\u001b[0m\u001b[0;34m.\u001b[0m\u001b[0mparse\u001b[0m\u001b[0;34m(\u001b[0m\u001b[0mtimestr\u001b[0m\u001b[0;34m,\u001b[0m \u001b[0;34m**\u001b[0m\u001b[0mkwargs\u001b[0m\u001b[0;34m)\u001b[0m\u001b[0;34m\u001b[0m\u001b[0;34m\u001b[0m\u001b[0m\n\u001b[0m\u001b[1;32m   1369\u001b[0m \u001b[0;34m\u001b[0m\u001b[0m\n\u001b[1;32m   1370\u001b[0m \u001b[0;34m\u001b[0m\u001b[0m\n",
            "\u001b[0;32m/usr/local/lib/python3.7/dist-packages/dateutil/parser/_parser.py\u001b[0m in \u001b[0;36mparse\u001b[0;34m(self, timestr, default, ignoretz, tzinfos, **kwargs)\u001b[0m\n\u001b[1;32m    641\u001b[0m \u001b[0;34m\u001b[0m\u001b[0m\n\u001b[1;32m    642\u001b[0m         \u001b[0;32mif\u001b[0m \u001b[0mres\u001b[0m \u001b[0;32mis\u001b[0m \u001b[0;32mNone\u001b[0m\u001b[0;34m:\u001b[0m\u001b[0;34m\u001b[0m\u001b[0;34m\u001b[0m\u001b[0m\n\u001b[0;32m--> 643\u001b[0;31m             \u001b[0;32mraise\u001b[0m \u001b[0mParserError\u001b[0m\u001b[0;34m(\u001b[0m\u001b[0;34m\"Unknown string format: %s\"\u001b[0m\u001b[0;34m,\u001b[0m \u001b[0mtimestr\u001b[0m\u001b[0;34m)\u001b[0m\u001b[0;34m\u001b[0m\u001b[0;34m\u001b[0m\u001b[0m\n\u001b[0m\u001b[1;32m    644\u001b[0m \u001b[0;34m\u001b[0m\u001b[0m\n\u001b[1;32m    645\u001b[0m         \u001b[0;32mif\u001b[0m \u001b[0mlen\u001b[0m\u001b[0;34m(\u001b[0m\u001b[0mres\u001b[0m\u001b[0;34m)\u001b[0m \u001b[0;34m==\u001b[0m \u001b[0;36m0\u001b[0m\u001b[0;34m:\u001b[0m\u001b[0;34m\u001b[0m\u001b[0;34m\u001b[0m\u001b[0m\n",
            "\u001b[0;31mParserError\u001b[0m: Unknown string format: 01/07/22 00.00"
          ]
        }
      ],
      "source": [
        "### Change The Data Type of Some Columns ###\n",
        "\n",
        "df['Tanggal'] = pd.to_datetime(df['Tanggal'])"
      ]
    },
    {
      "cell_type": "code",
      "execution_count": null,
      "id": "4b5b0be3",
      "metadata": {
        "id": "4b5b0be3",
        "outputId": "f311a53b-ed59-4eb1-a4bd-30236a3b24e6"
      },
      "outputs": [
        {
          "data": {
            "text/plain": [
              "2022-05-07    9\n",
              "2022-01-07    8\n",
              "2022-02-07    8\n",
              "2022-04-07    6\n",
              "2022-06-07    6\n",
              "2022-07-07    6\n",
              "2022-03-07    5\n",
              "2022-05-09    4\n",
              "2022-02-10    2\n",
              "2022-08-07    1\n",
              "2022-02-08    1\n",
              "Name: Tanggal, dtype: int64"
            ]
          },
          "execution_count": 9,
          "metadata": {},
          "output_type": "execute_result"
        }
      ],
      "source": [
        "df['Tanggal'].value_counts()"
      ]
    },
    {
      "cell_type": "markdown",
      "id": "e1224cf3",
      "metadata": {
        "id": "e1224cf3"
      },
      "source": [
        "### Pengelompokkan Kolom Berdasarkan Tipe Data"
      ]
    },
    {
      "cell_type": "code",
      "execution_count": null,
      "id": "fd24ebba",
      "metadata": {
        "scrolled": true,
        "id": "fd24ebba",
        "outputId": "7a82f8d7-3203-4521-bd98-5cea486a7599"
      },
      "outputs": [
        {
          "name": "stdout",
          "output_type": "stream",
          "text": [
            "Kolom bertipe Number (Integer/Float):\n",
            "\n",
            " [['ID Transaksi', 'ID Produk', 'Jumlah']] \n",
            "\n",
            "Kolom bertipe Integer               :\n",
            " [['ID Transaksi', 'ID Produk', 'Jumlah']] \n",
            "\n",
            "Kolom bertipe Float                 :\n",
            " [[]] \n",
            "\n",
            "Kolom bertipe Object                :\n",
            "\n",
            " [['Konsumen', 'Nama Produk', 'Merek']]\n"
          ]
        }
      ],
      "source": [
        "# melihat kolom dengan tipe data yang berbeda (number dan object)\n",
        "\n",
        "df_number = []\n",
        "df_int = []\n",
        "df_float = []\n",
        "df_object = []\n",
        "\n",
        "df_number.append(df.select_dtypes('number').columns.tolist()) # menampilkan nama kolom yang berisi data dengan tipe number\n",
        "df_int.append(df.select_dtypes('integer').columns.tolist()) # menampilkan nama kolom yang berisi data dengan tipe number\n",
        "df_float.append(df.select_dtypes('float').columns.tolist()) # menampilkan nama kolom yang berisi data dengan tipe number\n",
        "df_object.append(df.select_dtypes('object').columns.tolist()) # menampilkan nama kolom yang berisi data dengan tipe object\n",
        "\n",
        "print('Kolom bertipe Number (Integer/Float):\\n\\n',df_number,'\\n')\n",
        "print('Kolom bertipe Integer               :\\n',df_int,'\\n')\n",
        "print('Kolom bertipe Float                 :\\n',df_float,'\\n')\n",
        "print('Kolom bertipe Object                :\\n\\n',df_object)"
      ]
    },
    {
      "cell_type": "markdown",
      "id": "8f9b2c75",
      "metadata": {
        "id": "8f9b2c75"
      },
      "source": [
        "### Convert Integer to Float"
      ]
    },
    {
      "cell_type": "code",
      "execution_count": null,
      "id": "030190d5",
      "metadata": {
        "id": "030190d5",
        "outputId": "2d350070-94fd-4839-94e2-eb525e2348ba"
      },
      "outputs": [
        {
          "name": "stdout",
          "output_type": "stream",
          "text": [
            "Index(['ID Transaksi', 'ID Produk', 'Jumlah'], dtype='object')\n"
          ]
        }
      ],
      "source": [
        "#Feature yang data typenya integer\n",
        "df_int = df.select_dtypes(include='int').columns\n",
        "print(df_int)"
      ]
    },
    {
      "cell_type": "code",
      "execution_count": null,
      "id": "f3b37167",
      "metadata": {
        "id": "f3b37167"
      },
      "outputs": [],
      "source": [
        "df[df_int] = df[df_int].astype(float)"
      ]
    },
    {
      "cell_type": "code",
      "execution_count": null,
      "id": "167a67ee",
      "metadata": {
        "id": "167a67ee",
        "outputId": "eb9aaebb-84e2-44d5-d610-007d08966de1"
      },
      "outputs": [
        {
          "name": "stdout",
          "output_type": "stream",
          "text": [
            "Index(['ID Transaksi', 'ID Produk', 'Jumlah'], dtype='object')\n"
          ]
        }
      ],
      "source": [
        "#Feature yang data typenya float\n",
        "df_float = df.select_dtypes(include='float').columns\n",
        "print(df_float)"
      ]
    },
    {
      "cell_type": "markdown",
      "id": "f418efc1",
      "metadata": {
        "id": "f418efc1"
      },
      "source": [
        "### Data Preprocessing"
      ]
    },
    {
      "cell_type": "code",
      "execution_count": null,
      "id": "23cf05a4",
      "metadata": {
        "id": "23cf05a4",
        "outputId": "621b9409-9bdd-4bb5-a296-49f2fe587a51"
      },
      "outputs": [
        {
          "name": "stdout",
          "output_type": "stream",
          "text": [
            "Dimensi data awal : (56, 7)\n"
          ]
        }
      ],
      "source": [
        "# Total number of rows and columns\n",
        "print(\"Dimensi data awal :\", df.shape)\n",
        "# df.shape"
      ]
    },
    {
      "cell_type": "markdown",
      "id": "2efcad7e",
      "metadata": {
        "id": "2efcad7e"
      },
      "source": [
        "### Handling Missing Value"
      ]
    },
    {
      "cell_type": "markdown",
      "id": "2f114d0b",
      "metadata": {
        "id": "2f114d0b"
      },
      "source": [
        "It is used to remove outliers and duplicates from the dataset. Moreover, it is a very common practice to scale the columns on a standard scale, it helps in faster convergence and gives better results."
      ]
    },
    {
      "cell_type": "code",
      "execution_count": null,
      "id": "27c25399",
      "metadata": {
        "id": "27c25399",
        "outputId": "37231e38-2884-4ad4-a4ac-b17a8216b588"
      },
      "outputs": [
        {
          "data": {
            "text/plain": [
              "0"
            ]
          },
          "execution_count": 15,
          "metadata": {},
          "output_type": "execute_result"
        }
      ],
      "source": [
        "sum(df.duplicated())"
      ]
    },
    {
      "cell_type": "code",
      "execution_count": null,
      "id": "e0739637",
      "metadata": {
        "id": "e0739637",
        "outputId": "f195b76e-b47f-4f08-b4ef-5b7d0c41282c"
      },
      "outputs": [
        {
          "name": "stdout",
          "output_type": "stream",
          "text": [
            "0\n",
            "(56, 7)\n"
          ]
        }
      ],
      "source": [
        "#Remove Duplicate\n",
        "df.drop_duplicates(inplace=True)\n",
        "print(df.duplicated().sum()) # no more duplicates\n",
        "print(df.shape) # re-check by printing data size"
      ]
    },
    {
      "cell_type": "markdown",
      "id": "f341e58b",
      "metadata": {
        "id": "f341e58b"
      },
      "source": [
        "tidak terdapat data duplikat di dalam data"
      ]
    },
    {
      "cell_type": "markdown",
      "id": "9f35895a",
      "metadata": {
        "id": "9f35895a"
      },
      "source": [
        "### Memilih data object"
      ]
    },
    {
      "cell_type": "code",
      "execution_count": null,
      "id": "76fbefdc",
      "metadata": {
        "id": "76fbefdc",
        "outputId": "cc0cdf47-4991-444e-e0a8-38a199e4ea53"
      },
      "outputs": [
        {
          "name": "stdout",
          "output_type": "stream",
          "text": [
            "Index(['Konsumen', 'Nama Produk', 'Merek'], dtype='object')\n"
          ]
        }
      ],
      "source": [
        "#Feature yang data typenya object\n",
        "df_object = df.select_dtypes(include='object').columns\n",
        "print(df_object)"
      ]
    },
    {
      "cell_type": "code",
      "execution_count": null,
      "id": "28cc1550",
      "metadata": {
        "scrolled": false,
        "id": "28cc1550",
        "outputId": "33c35106-116f-4afe-b064-3cde1967630c"
      },
      "outputs": [
        {
          "data": {
            "text/plain": [
              "Konsumen       11\n",
              "Nama Produk     7\n",
              "Merek          12\n",
              "dtype: int64"
            ]
          },
          "execution_count": 18,
          "metadata": {},
          "output_type": "execute_result"
        }
      ],
      "source": [
        "obj = list(df_object)\n",
        "df[obj].nunique()"
      ]
    },
    {
      "cell_type": "markdown",
      "id": "4c129cd2",
      "metadata": {
        "id": "4c129cd2"
      },
      "source": [
        "### Memilih data numerik"
      ]
    },
    {
      "cell_type": "code",
      "execution_count": null,
      "id": "14d76a73",
      "metadata": {
        "id": "14d76a73",
        "outputId": "ffeaaa10-c0a6-4a12-82e3-7ba5836b3210"
      },
      "outputs": [
        {
          "name": "stdout",
          "output_type": "stream",
          "text": [
            "Index(['ID Transaksi', 'ID Produk', 'Jumlah'], dtype='object')\n"
          ]
        }
      ],
      "source": [
        "#Setelah menghapus beberapa fitur numerik\n",
        "df_float = df.select_dtypes(include='float').columns\n",
        "print(df_float)"
      ]
    },
    {
      "cell_type": "markdown",
      "id": "12e072dc",
      "metadata": {
        "id": "12e072dc"
      },
      "source": [
        "### Drop Variabel yang Tidak Berguna"
      ]
    },
    {
      "cell_type": "code",
      "execution_count": null,
      "id": "78cb00d1",
      "metadata": {
        "id": "78cb00d1"
      },
      "outputs": [],
      "source": [
        "del df['ID Transaksi']"
      ]
    },
    {
      "cell_type": "markdown",
      "id": "45eff950",
      "metadata": {
        "id": "45eff950"
      },
      "source": [
        "variabel 'ID Transaksi' tidak berguna sehingga variabel 'ID Transaksi'akan dihapus"
      ]
    },
    {
      "cell_type": "code",
      "execution_count": null,
      "id": "e4dd917c",
      "metadata": {
        "id": "e4dd917c",
        "outputId": "09ca95eb-a3b5-40ea-8553-1e909042dd56"
      },
      "outputs": [
        {
          "name": "stdout",
          "output_type": "stream",
          "text": [
            "Index(['ID Produk', 'Jumlah'], dtype='object')\n"
          ]
        }
      ],
      "source": [
        "#Setelah menghapus variabel\n",
        "df_float = df.select_dtypes(include='float').columns\n",
        "print(df_float)"
      ]
    },
    {
      "cell_type": "markdown",
      "id": "94bed472",
      "metadata": {
        "id": "94bed472"
      },
      "source": [
        "### Cek Missing Value"
      ]
    },
    {
      "cell_type": "code",
      "execution_count": null,
      "id": "3418b51a",
      "metadata": {
        "id": "3418b51a",
        "outputId": "3aa03b81-792b-452a-a316-47b84e3d1361"
      },
      "outputs": [
        {
          "name": "stdout",
          "output_type": "stream",
          "text": [
            "Data Missing Value:\n",
            "\n",
            "       Kolom  Jumlah Missing Value  Persentase Missing Value\n",
            "5     Jumlah                     0                       0.0\n",
            "0    Tanggal                     0                       0.0\n",
            "1   Konsumen                     0                       0.0\n",
            "2  ID Produk                     0                       0.0\n",
            "4      Merek                     0                       0.0 \n",
            "\n",
            "Persentase Missing Value Terbesar                  :  0.0\n",
            "Persentase Missing Value Keseluruhan               :  0.0\n",
            "Data Duplikat:\n",
            "\n",
            "Jumlah terdapat data duplikat pada data df         :  0 ( 0.0 % )\n"
          ]
        }
      ],
      "source": [
        "# Informasi Jumlah dan Persentase Missing Value\n",
        "\n",
        "## general\n",
        "\n",
        "df_mv = df.isnull().sum()                      # menampilkan jumlah total missing value per kolom\n",
        "df_pmv = (df.isnull().sum()/len(df))*100     # menampilkan persentase missing value per kolom\n",
        "\n",
        "df_missing = pd.concat([df_mv,df_pmv],axis = 1).reset_index() # menampilkan data dalam bentuk data frame\n",
        "\n",
        "df_missing.columns = ['Kolom','Jumlah Missing Value','Persentase Missing Value']\n",
        "missing_value = df_missing\n",
        "\n",
        "print('Data Missing Value:\\n')\n",
        "print(missing_value.sample(5),'\\n')\n",
        "print('Persentase Missing Value Terbesar                  : ',missing_value['Persentase Missing Value'].max())\n",
        "print('Persentase Missing Value Keseluruhan               : ',missing_value['Persentase Missing Value'].sum())\n",
        "\n",
        "\n",
        "print('Data Duplikat:\\n')\n",
        "print('Jumlah terdapat data duplikat pada data df         : ',df.duplicated().sum(), '(',(df.duplicated().sum()/len(df))*100,'%',')')"
      ]
    },
    {
      "cell_type": "markdown",
      "id": "b783de6a",
      "metadata": {
        "id": "b783de6a"
      },
      "source": [
        "Pada data tidak terdapat data yang duplikat sehingga tidak perlu dilakukan penghapusan data duplikat"
      ]
    },
    {
      "cell_type": "code",
      "execution_count": null,
      "id": "96de969a",
      "metadata": {
        "id": "96de969a",
        "outputId": "d2daea22-c035-44bf-c3f3-3b65ad30e678"
      },
      "outputs": [
        {
          "name": "stdout",
          "output_type": "stream",
          "text": [
            "Jumlah Data Missing Value:\n",
            "\n",
            "Tanggal        0\n",
            "Konsumen       0\n",
            "ID Produk      0\n",
            "Nama Produk    0\n",
            "Merek          0\n",
            "Jumlah         0\n",
            "dtype: int64\n"
          ]
        }
      ],
      "source": [
        "print('Jumlah Data Missing Value:\\n')\n",
        "print(df.isnull().sum())"
      ]
    },
    {
      "cell_type": "markdown",
      "id": "eca12ee0",
      "metadata": {
        "id": "eca12ee0"
      },
      "source": [
        "## Hasil data setelah di cleansing"
      ]
    },
    {
      "cell_type": "code",
      "execution_count": null,
      "id": "695a7abf",
      "metadata": {
        "id": "695a7abf",
        "outputId": "8f0c034d-032b-4c29-9d9a-130d2e1a4afa"
      },
      "outputs": [
        {
          "data": {
            "text/html": [
              "<div>\n",
              "<style scoped>\n",
              "    .dataframe tbody tr th:only-of-type {\n",
              "        vertical-align: middle;\n",
              "    }\n",
              "\n",
              "    .dataframe tbody tr th {\n",
              "        vertical-align: top;\n",
              "    }\n",
              "\n",
              "    .dataframe thead th {\n",
              "        text-align: right;\n",
              "    }\n",
              "</style>\n",
              "<table border=\"1\" class=\"dataframe\">\n",
              "  <thead>\n",
              "    <tr style=\"text-align: right;\">\n",
              "      <th></th>\n",
              "      <th>Tanggal</th>\n",
              "      <th>Konsumen</th>\n",
              "      <th>ID Produk</th>\n",
              "      <th>Nama Produk</th>\n",
              "      <th>Merek</th>\n",
              "      <th>Jumlah</th>\n",
              "    </tr>\n",
              "  </thead>\n",
              "  <tbody>\n",
              "    <tr>\n",
              "      <th>0</th>\n",
              "      <td>2022-01-07</td>\n",
              "      <td>Mr. A</td>\n",
              "      <td>1.0</td>\n",
              "      <td>Roti</td>\n",
              "      <td>Sri Roti</td>\n",
              "      <td>2.0</td>\n",
              "    </tr>\n",
              "    <tr>\n",
              "      <th>1</th>\n",
              "      <td>2022-01-07</td>\n",
              "      <td>Mr. A</td>\n",
              "      <td>2.0</td>\n",
              "      <td>Air Minum</td>\n",
              "      <td>Aquos</td>\n",
              "      <td>1.0</td>\n",
              "    </tr>\n",
              "    <tr>\n",
              "      <th>2</th>\n",
              "      <td>2022-01-07</td>\n",
              "      <td>Mr. A</td>\n",
              "      <td>11.0</td>\n",
              "      <td>Mie Instan</td>\n",
              "      <td>Indomi</td>\n",
              "      <td>2.0</td>\n",
              "    </tr>\n",
              "    <tr>\n",
              "      <th>3</th>\n",
              "      <td>2022-01-07</td>\n",
              "      <td>Mr. A</td>\n",
              "      <td>12.0</td>\n",
              "      <td>Mie Instan</td>\n",
              "      <td>Mi Sedap</td>\n",
              "      <td>1.0</td>\n",
              "    </tr>\n",
              "    <tr>\n",
              "      <th>4</th>\n",
              "      <td>2022-01-07</td>\n",
              "      <td>Mr. B</td>\n",
              "      <td>2.0</td>\n",
              "      <td>Air Minum</td>\n",
              "      <td>Aquos</td>\n",
              "      <td>1.0</td>\n",
              "    </tr>\n",
              "  </tbody>\n",
              "</table>\n",
              "</div>"
            ],
            "text/plain": [
              "     Tanggal Konsumen  ID Produk Nama Produk     Merek  Jumlah\n",
              "0 2022-01-07    Mr. A        1.0        Roti  Sri Roti     2.0\n",
              "1 2022-01-07    Mr. A        2.0   Air Minum     Aquos     1.0\n",
              "2 2022-01-07    Mr. A       11.0  Mie Instan    Indomi     2.0\n",
              "3 2022-01-07    Mr. A       12.0  Mie Instan  Mi Sedap     1.0\n",
              "4 2022-01-07    Mr. B        2.0   Air Minum     Aquos     1.0"
            ]
          },
          "execution_count": 27,
          "metadata": {},
          "output_type": "execute_result"
        }
      ],
      "source": [
        "df.head()"
      ]
    },
    {
      "cell_type": "markdown",
      "id": "39c0367e",
      "metadata": {
        "id": "39c0367e"
      },
      "source": [
        "## Statistika Deskriptif"
      ]
    },
    {
      "cell_type": "code",
      "execution_count": null,
      "id": "27be589d",
      "metadata": {
        "id": "27be589d",
        "outputId": "b149de7d-a1fc-44ad-ddea-305dd39adac7"
      },
      "outputs": [
        {
          "data": {
            "text/html": [
              "<div>\n",
              "<style scoped>\n",
              "    .dataframe tbody tr th:only-of-type {\n",
              "        vertical-align: middle;\n",
              "    }\n",
              "\n",
              "    .dataframe tbody tr th {\n",
              "        vertical-align: top;\n",
              "    }\n",
              "\n",
              "    .dataframe thead th {\n",
              "        text-align: right;\n",
              "    }\n",
              "</style>\n",
              "<table border=\"1\" class=\"dataframe\">\n",
              "  <thead>\n",
              "    <tr style=\"text-align: right;\">\n",
              "      <th></th>\n",
              "      <th>ID Produk</th>\n",
              "      <th>Jumlah</th>\n",
              "    </tr>\n",
              "  </thead>\n",
              "  <tbody>\n",
              "    <tr>\n",
              "      <th>count</th>\n",
              "      <td>56.000000</td>\n",
              "      <td>56.000000</td>\n",
              "    </tr>\n",
              "    <tr>\n",
              "      <th>mean</th>\n",
              "      <td>6.250000</td>\n",
              "      <td>1.500000</td>\n",
              "    </tr>\n",
              "    <tr>\n",
              "      <th>std</th>\n",
              "      <td>3.475891</td>\n",
              "      <td>0.572078</td>\n",
              "    </tr>\n",
              "    <tr>\n",
              "      <th>min</th>\n",
              "      <td>1.000000</td>\n",
              "      <td>1.000000</td>\n",
              "    </tr>\n",
              "    <tr>\n",
              "      <th>25%</th>\n",
              "      <td>3.750000</td>\n",
              "      <td>1.000000</td>\n",
              "    </tr>\n",
              "    <tr>\n",
              "      <th>50%</th>\n",
              "      <td>6.000000</td>\n",
              "      <td>1.000000</td>\n",
              "    </tr>\n",
              "    <tr>\n",
              "      <th>75%</th>\n",
              "      <td>9.250000</td>\n",
              "      <td>2.000000</td>\n",
              "    </tr>\n",
              "    <tr>\n",
              "      <th>max</th>\n",
              "      <td>12.000000</td>\n",
              "      <td>3.000000</td>\n",
              "    </tr>\n",
              "  </tbody>\n",
              "</table>\n",
              "</div>"
            ],
            "text/plain": [
              "       ID Produk     Jumlah\n",
              "count  56.000000  56.000000\n",
              "mean    6.250000   1.500000\n",
              "std     3.475891   0.572078\n",
              "min     1.000000   1.000000\n",
              "25%     3.750000   1.000000\n",
              "50%     6.000000   1.000000\n",
              "75%     9.250000   2.000000\n",
              "max    12.000000   3.000000"
            ]
          },
          "execution_count": 28,
          "metadata": {},
          "output_type": "execute_result"
        }
      ],
      "source": [
        "### Summary Statistics ###\n",
        "df.describe()"
      ]
    },
    {
      "cell_type": "markdown",
      "id": "f3fc2dd7",
      "metadata": {
        "id": "f3fc2dd7"
      },
      "source": [
        "### Export Hasil Data Cleansing to csv file"
      ]
    },
    {
      "cell_type": "code",
      "execution_count": null,
      "id": "cf58b024",
      "metadata": {
        "id": "cf58b024"
      },
      "outputs": [],
      "source": [
        "df.to_csv(\"C://Users/USER/SEMESTER 7/Data Mining/Study Case 03 - Market Basket Analysis/Data Market Basket Analysis.csv\")"
      ]
    },
    {
      "cell_type": "markdown",
      "id": "2beac277",
      "metadata": {
        "id": "2beac277"
      },
      "source": [
        "## Menggunakan Nilai Kuantitas yang Positif"
      ]
    },
    {
      "cell_type": "code",
      "execution_count": null,
      "id": "c7b418ab",
      "metadata": {
        "id": "c7b418ab"
      },
      "outputs": [],
      "source": [
        "df_plus = df[df['Jumlah']>=0]\n",
        "df_plus.info"
      ]
    },
    {
      "cell_type": "markdown",
      "id": "4b5e7fd2",
      "metadata": {
        "id": "4b5e7fd2"
      },
      "source": [
        "Dalam dataset ini, kolom 'Jumlah' menunjukkan kepada  jumlah barang yang dibeli dalam setiap transaksi. Terkadang transaksi dibatalkan, karena ini adalah toko online. Apabila terjadi pembatalan pada transaksi tertentu, maka akan didatifikasi pada kolom 'Jumlah' sebagai nilai negatif. Karena kami melakukan Market Basket Analysis, pada dasarnya kami ingin menganalisis apa yang ada di dalam keranjang yang sebenarnya dibeli oleh pelanggan kami. Nilai negatif ini tidak termasuk. Oleh karena itu, kami tidak akan menggunakannya. Seperti yang Anda lihat pada gambar di atas, hanya ada '397924' entri yang tidak dibatalkan."
      ]
    },
    {
      "cell_type": "markdown",
      "id": "0bb46b26",
      "metadata": {
        "id": "0bb46b26"
      },
      "source": [
        "## EDA (Exploratory Data Analysis)"
      ]
    },
    {
      "cell_type": "code",
      "execution_count": null,
      "id": "cc5ebae2",
      "metadata": {
        "id": "cc5ebae2"
      },
      "outputs": [],
      "source": [
        "color = plt.cm.rainbow(np.linspace(0, 1, 40))\n",
        "df[0].value_counts().head(40).plot.bar(color = color, figsize=(13,5))\n",
        "plt.title('frequency of most popular items', fontsize = 20)\n",
        "plt.xticks(rotation = 90 )\n",
        "plt.grid()\n",
        "plt.show()"
      ]
    },
    {
      "cell_type": "code",
      "execution_count": null,
      "id": "46e23fea",
      "metadata": {
        "id": "46e23fea"
      },
      "outputs": [],
      "source": [
        "import networkx as nx\n",
        "df['food'] = 'Food'\n",
        "food = df.truncate(before = -1, after = 15)\n",
        "food = nx.from_pandas_edgelist(food, source = 'food', target = 0, edge_attr = True)"
      ]
    },
    {
      "cell_type": "code",
      "execution_count": null,
      "id": "6f46296f",
      "metadata": {
        "id": "6f46296f"
      },
      "outputs": [],
      "source": [
        "import warnings\n",
        "warnings.filterwarnings('ignore')\n",
        "\n",
        "plt.rcParams['figure.figsize'] = (13, 13)\n",
        "pos = nx.spring_layout(food)\n",
        "color = plt.cm.Set1(np.linspace(0, 15, 1))\n",
        "nx.draw_networkx_nodes(food, pos, node_size = 15000, node_color = color)\n",
        "nx.draw_networkx_edges(food, pos, width = 3, alpha = 0.6, edge_color = 'black')\n",
        "nx.draw_networkx_labels(food, pos, font_size = 20, font_family = 'sans-serif')\n",
        "plt.axis('off')\n",
        "plt.grid()\n",
        "plt.title('Top 15 First Choices', fontsize = 20)\n",
        "plt.show()"
      ]
    },
    {
      "cell_type": "code",
      "execution_count": null,
      "id": "78dcf1b5",
      "metadata": {
        "id": "78dcf1b5"
      },
      "outputs": [],
      "source": [
        "transactions[:1]"
      ]
    },
    {
      "cell_type": "markdown",
      "id": "224a37cf",
      "metadata": {
        "id": "224a37cf"
      },
      "source": [
        "### Mendapatkan daftar data transaksi"
      ]
    },
    {
      "cell_type": "code",
      "execution_count": null,
      "id": "51715d50",
      "metadata": {
        "id": "51715d50"
      },
      "outputs": [],
      "source": [
        "# Getting the list of transactions from the dataset\n",
        "transactions = []\n",
        "for i in range(0, len(df)):\n",
        "    transactions.append([str(df.values[i,j]) for j in range(0, len(df.columns))])"
      ]
    },
    {
      "cell_type": "markdown",
      "id": "1aeba93b",
      "metadata": {
        "id": "1aeba93b"
      },
      "source": [
        "![image.png](attachment:image.png)"
      ]
    },
    {
      "cell_type": "code",
      "execution_count": null,
      "id": "b725fdc9",
      "metadata": {
        "id": "b725fdc9"
      },
      "outputs": [],
      "source": [
        "from itertools import permutations\n",
        "\n",
        "# Extract unique items.\n",
        "flattened = [item for transaction in transactions for item in transaction]\n",
        "items = list(set(flattened))\n",
        "print('# of items:',len(items))\n",
        "print(list(items))"
      ]
    },
    {
      "cell_type": "code",
      "execution_count": null,
      "id": "91eb223d",
      "metadata": {
        "id": "91eb223d"
      },
      "outputs": [],
      "source": [
        "if 'nan' in items: items.remove('nan')\n",
        "print(list(items))"
      ]
    },
    {
      "cell_type": "code",
      "execution_count": null,
      "id": "1dbc7e0e",
      "metadata": {
        "id": "1dbc7e0e"
      },
      "outputs": [],
      "source": [
        "# Compute and print rules.\n",
        "rules = list(permutations(items, 2))\n",
        "print('# of rules:',len(rules))\n",
        "print(rules[:5])"
      ]
    },
    {
      "cell_type": "markdown",
      "id": "3edbabbf",
      "metadata": {
        "id": "3edbabbf"
      },
      "source": [
        "## One-hot encoding Data Transaksi\n",
        "Untuk mengetahui apakah suatu item termasuk dalam transaksi di mana setiap kolom terdiri dari nilai TRUE dan FALSE"
      ]
    },
    {
      "cell_type": "code",
      "execution_count": null,
      "id": "7a799df0",
      "metadata": {
        "id": "7a799df0"
      },
      "outputs": [],
      "source": [
        "# Import the transaction encoder function from mlxtend\n",
        "from mlxtend.preprocessing import TransactionEncoder\n",
        "\n",
        "# Instantiate transaction encoder and identify unique items\n",
        "encoder = TransactionEncoder().fit(transactions)\n",
        "\n",
        "# One-hot encode transactions\n",
        "onehot = encoder.transform(transactions)\n",
        "\n",
        "# Convert one-hot encoded data to DataFrame\n",
        "onehot = pd.DataFrame(onehot, columns = encoder.columns_).drop('nan', axis=1)\n",
        "\n",
        "# Print the one-hot encoded transaction dataset\n",
        "onehot.head()"
      ]
    },
    {
      "cell_type": "markdown",
      "id": "04d98435",
      "metadata": {
        "id": "04d98435"
      },
      "source": [
        "## Metric and Pruning\n",
        "![image.png](data:image/png;base64,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)"
      ]
    },
    {
      "cell_type": "code",
      "execution_count": null,
      "id": "40562533",
      "metadata": {
        "id": "40562533"
      },
      "outputs": [],
      "source": [
        "# Compute the support\n",
        "support = onehot.mean()\n",
        "support = pd.DataFrame(support, columns=['support']).sort_values('support',ascending=False)\n",
        "\n",
        "# Print the support\n",
        "support.head()"
      ]
    },
    {
      "cell_type": "code",
      "execution_count": null,
      "id": "9fcf3484",
      "metadata": {
        "id": "9fcf3484"
      },
      "outputs": [],
      "source": [
        "support.describe()"
      ]
    },
    {
      "cell_type": "markdown",
      "id": "da4df530",
      "metadata": {
        "id": "da4df530"
      },
      "source": [
        "### Recommending food with support\n",
        "Kita ingin membantu Toko Alfaindo ingin untuk bangkit dari keterpurukannya dan telah memutuskan untuk menggunakan Market Basket Analysis untuk mencari tahu caranya. (liat dari EDA)"
      ]
    },
    {
      "cell_type": "code",
      "execution_count": null,
      "id": "475b90be",
      "metadata": {
        "id": "475b90be"
      },
      "outputs": [],
      "source": [
        "# Compute support for burgers and french fries\n",
        "supportBF = np.logical_and(onehot['burgers'], onehot['french fries']).mean()\n",
        "\n",
        "# Compute support for burgers and mineral water\n",
        "supportBM = np.logical_and(onehot['burgers'], onehot['mineral water']).mean()\n",
        "\n",
        "# Compute support for french fries and mineral water\n",
        "supportFM = np.logical_and(onehot['french fries'], onehot['mineral water']).mean()\n",
        "\n",
        "# Print support values\n",
        "print(\"burgers and french fries: %.2f\" % supportBF)\n",
        "print(\"burgers and mineral water: %.2f\" % supportBM)\n",
        "print(\"french fries and mineral water: %.2f\" % supportFM)"
      ]
    },
    {
      "cell_type": "markdown",
      "id": "a7946422",
      "metadata": {
        "id": "a7946422"
      },
      "source": [
        "### Computing the support metric\n",
        "Ingin memeriksa apakah aturan {air mineral} → {kentang goreng} memiliki dukungan lebih dari 0,05 ."
      ]
    },
    {
      "cell_type": "code",
      "execution_count": null,
      "id": "dcfff400",
      "metadata": {
        "id": "dcfff400"
      },
      "outputs": [],
      "source": [
        "# Add a mineral water+french fries column to the DataFrame onehot\n",
        "onehot['mineral water+french fries'] = np.logical_and(onehot['mineral water'], onehot['french fries'])\n",
        "\n",
        "# Compute the support\n",
        "support = onehot.mean()\n",
        "val = support.loc['mineral water+french fries']\n",
        "\n",
        "# Print the support values\n",
        "print(f'mineral water+french fries support = {val}')"
      ]
    },
    {
      "cell_type": "markdown",
      "id": "4f23fc8f",
      "metadata": {
        "id": "4f23fc8f"
      },
      "source": [
        "### Computing association and dissociation\n",
        "Kami menggunakan metrik Zhang, yang mengukur asosiasi dan disosiasi secara terus menerus. Asosiasi adalah positif dan disosiasi adalah negatif."
      ]
    },
    {
      "cell_type": "code",
      "execution_count": null,
      "id": "8f5759a6",
      "metadata": {
        "id": "8f5759a6"
      },
      "outputs": [],
      "source": [
        "# Compute the support of burgers and french fries\n",
        "supportT = onehot['burgers'].mean()\n",
        "supportP = onehot['french fries'].mean()\n",
        "\n",
        "# Compute the support of both food items\n",
        "supportTP = np.logical_and(onehot['burgers'], onehot['french fries']).mean()\n",
        "\n",
        "# Complete the expressions for the numerator and denominator\n",
        "numerator = supportTP - supportT*supportP\n",
        "denominator = max(supportTP*(1-supportT), supportT*(supportP-supportTP))\n",
        "\n",
        "# Compute and print Zhang's metric\n",
        "zhang = numerator / denominator\n",
        "print(zhang)"
      ]
    },
    {
      "cell_type": "markdown",
      "id": "ea5c3a5a",
      "metadata": {
        "id": "ea5c3a5a"
      },
      "source": [
        "## The Apriori Algorithm\n",
        "![image.png](data:image/png;base64,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)"
      ]
    },
    {
      "cell_type": "code",
      "execution_count": null,
      "id": "cb20c52e",
      "metadata": {
        "id": "cb20c52e"
      },
      "outputs": [],
      "source": [
        "# Import apriori from mlxtend\n",
        "from mlxtend.frequent_patterns import apriori\n",
        "\n",
        "# Compute frequent itemsets using the Apriori algorithm\n",
        "frequent_itemsets = apriori(onehot, \n",
        "                            min_support = 0.05, \n",
        "                            max_len = 3, \n",
        "                            use_colnames = True)\n",
        "\n",
        "# Print a preview of the frequent itemsets\n",
        "frequent_itemsets.head()"
      ]
    },
    {
      "cell_type": "markdown",
      "id": "f863e579",
      "metadata": {
        "id": "f863e579"
      },
      "source": [
        "### Selecting a support threshold"
      ]
    },
    {
      "cell_type": "code",
      "execution_count": null,
      "id": "2918b16e",
      "metadata": {
        "id": "2918b16e"
      },
      "outputs": [],
      "source": [
        "# Import apriori from mlxtend\n",
        "from mlxtend.frequent_patterns import apriori\n",
        "\n",
        "# Compute frequent itemsets using a support of 0.04 and length of 3\n",
        "frequent_itemsets_1 = apriori(onehot, min_support = 0.04, \n",
        "                            max_len = 3, use_colnames = True)\n",
        "\n",
        "# Compute frequent itemsets using a support of 0.05 and length of 3\n",
        "frequent_itemsets_2 = apriori(onehot, min_support = 0.05, \n",
        "                            max_len = 3, use_colnames = True)\n",
        "\n",
        "# Print the number of freqeuent itemsets\n",
        "print(len(frequent_itemsets_1), len(frequent_itemsets_2))"
      ]
    },
    {
      "cell_type": "markdown",
      "id": "9da82d61",
      "metadata": {
        "id": "9da82d61"
      },
      "source": [
        "### Generating association rules\n",
        "Sebelumnya kami menghitung itemset untuk Toko Alfaindo baru menggunakan algoritma Apriori. Kita memperoleh informasi untuk meningkatkan jumlah set item dari (dari data selecting suport threshold) menjadi (...). \n",
        "\n",
        "Tujuannya adalah untuk menentukan aturan asosiasi apa yang dapat ditambang dari kumpulan item ini"
      ]
    },
    {
      "cell_type": "code",
      "execution_count": null,
      "id": "54574077",
      "metadata": {
        "id": "54574077"
      },
      "outputs": [],
      "source": [
        "# Import the association rule function from mlxtend\n",
        "from mlxtend.frequent_patterns import association_rules\n",
        "\n",
        "# Compute all association rules for frequent_itemsets_1\n",
        "rules_1 = association_rules(frequent_itemsets_1, \n",
        "                            metric = \"support\", \n",
        "                            min_threshold = 0.001)\n",
        "\n",
        "# Compute all association rules for frequent_itemsets_2\n",
        "rules_2 = association_rules(frequent_itemsets_2, \n",
        "                            metric = \"support\", \n",
        "                            min_threshold = 0.002)\n",
        "\n",
        "# Print the number of association rules generated\n",
        "print(len(rules_1), len(rules_2))"
      ]
    },
    {
      "cell_type": "code",
      "execution_count": null,
      "id": "60432ce3",
      "metadata": {
        "id": "60432ce3"
      },
      "outputs": [],
      "source": [
        "# Import the association rules function\n",
        "from mlxtend.frequent_patterns import association_rules\n",
        "\n",
        "# Compute frequent itemsets using the Apriori algorithm\n",
        "frequent_itemsets = apriori(onehot, min_support = 0.03, \n",
        "                            max_len = 2, use_colnames = True)\n",
        "\n",
        "# Compute all association rules for frequent_itemsets\n",
        "rules = association_rules(frequent_itemsets, \n",
        "                            metric = \"lift\", \n",
        "                            min_threshold = 1.0)\n",
        "\n",
        "# Print association rules\n",
        "rules.info()"
      ]
    },
    {
      "cell_type": "code",
      "execution_count": null,
      "id": "bd43d32f",
      "metadata": {
        "id": "bd43d32f"
      },
      "outputs": [],
      "source": [
        "rules.head()"
      ]
    },
    {
      "cell_type": "markdown",
      "id": "96075e3a",
      "metadata": {
        "id": "96075e3a"
      },
      "source": [
        "## Interpretasi\n",
        "Dari hasil association_rules di atas, kita dapat melihat bahwa ROSES REGENCY TEACUP AND SAUCER dan GREEN REGENCY TEACUP AND SAUCER adalah item yang memiliki asosiasi tertinggi satu sama lain karena kedua item ini memiliki nilai “lift” tertinggi. Semakin tinggi nilai lift maka semakin tinggi pula asosiasi antar item. Jika nilai lift lebih dari 1, cukup kita katakan bahwa kedua item tersebut saling terkait. Dalam hal ini, nilai lift tertinggi adalah 17,717 yang sangat tinggi. Artinya 2 item ini sangat bagus untuk dijual bersama.\n",
        "\n",
        "Selain itu, kita juga bisa melihat nilai support ROSES REGENCY TEACUP AND SAUCER dan GREEN REGENCY TEACUP AND SAUCER adalah 0,0309% yang berarti ada 3,09% dari total transaksi bahwa 2 item ini dijual bersama. Jumlahnya adalah 476 kali.\n",
        "\n",
        "Dari kepercayaan diri, kami bahkan dapat mengekstrak lebih banyak informasi. Ingat bahwa nilai kepercayaan dipengaruhi oleh anteseden dan konsekuen. Jika antecedent lebih tinggi dari consequent, maka rule yang akan diterapkan adalah rule nomor 1 (bukan nomor 2). dan sebaliknya. Dalam hal ini, nilai antecedent lebih tinggi dari nilai consequent. Artinya kita akan menerapkan aturan nomor 1 yaitu 𝐺𝑅𝐸𝐸𝑁 𝑇𝐸𝐴𝐶𝑈𝑃 𝐴𝑁𝐷 → 𝑅𝐸𝐺𝐸𝑁𝐶𝑌 . Dalam penjelasan yang lebih rinci, ini berarti bahwa seorang pelanggan akan cenderung membeli Cangkir dan Piring Roses Regency SETELAH mereka membeli Cangkir Teh dan Piring Green Regency. Tidak sebaliknya. Ini bisa menjadi informasi yang sangat berharga, karena kami sekarang tahu produk mana yang harus kami beri diskon. Kami dapat memberikan potongan harga untuk Roses Regency Teacup and Sauce jika pelanggan membeli Green Regency Teacup and Saucer."
      ]
    },
    {
      "cell_type": "markdown",
      "id": "be3a0d41",
      "metadata": {
        "id": "be3a0d41"
      },
      "source": [
        "### Interpretasi\n",
        "Market Basket Analysis adalah suatu metodologi untuk melakukan analisis buying habit konsumen dengan menemukan asosiasi antar beberapa item yang berbeda, yang diletakkan konsumen dalam shopping basket (keranjang belanja) yang dibeli pada suatu transaksi tertentu. Tujuan dari Market Basket Analysis adalah untuk mengetahui produk-produk mana yang mungkin akan dibeli secara bersamaan. Kita akan menemukan pola yang menunjukkan item mana yang sering dibeli bersama sehingga  dapat diterapkan diskon ke item tertentu dengan lebih akurat. Meskipun sebuah perusahaan telah memperhatikan tingkat kepuasan customer, namun analisis ini tetap diperlukan untuk membantu perusahaan berkembang dengan lebih cepat.\n",
        "\n",
        "Market Basket Analysis adalah suatu analisis atas perilaku konsumen secara spesifik dari suatu golongan/kelompok tertentu.  Market basket analysis umumnya dimanfaatkan sebagai titik awal pencarian pengetahuan dari suatu transaksi data ketika kita tidak mengetahui pola spesifik apa yang kita cari. \n",
        "\n",
        "Proses market basket analysis dimulai dengan transaksi yang terdiri dari satu/lebih penawaran produk/jasa dan beberapa informasi dasar suatu transaksi. Output dari market basket analysis adalah berbentuk aturan assosiasi (Association Rules). Yang dimaksud dengan Association Rules sendiri adalah pola-pola keterkaitan data dalam basis data."
      ]
    },
    {
      "cell_type": "markdown",
      "id": "1eeadd94",
      "metadata": {
        "id": "1eeadd94"
      },
      "source": [
        "# Terima kasih"
      ]
    }
  ],
  "metadata": {
    "kernelspec": {
      "display_name": "Python 3 (ipykernel)",
      "language": "python",
      "name": "python3"
    },
    "language_info": {
      "codemirror_mode": {
        "name": "ipython",
        "version": 3
      },
      "file_extension": ".py",
      "mimetype": "text/x-python",
      "name": "python",
      "nbconvert_exporter": "python",
      "pygments_lexer": "ipython3",
      "version": "3.9.12"
    },
    "colab": {
      "provenance": [],
      "collapsed_sections": [
        "e1224cf3",
        "8f9b2c75",
        "f418efc1",
        "2efcad7e",
        "9f35895a",
        "4c129cd2",
        "12e072dc",
        "94bed472",
        "f3fc2dd7",
        "224a37cf",
        "da4df530",
        "a7946422",
        "4f23fc8f",
        "f863e579",
        "9da82d61",
        "be3a0d41"
      ],
      "include_colab_link": true
    }
  },
  "nbformat": 4,
  "nbformat_minor": 5
}