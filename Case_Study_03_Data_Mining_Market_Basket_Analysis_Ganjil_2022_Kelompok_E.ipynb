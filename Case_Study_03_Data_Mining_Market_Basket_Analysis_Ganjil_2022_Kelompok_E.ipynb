{
  "cells": [
    {
      "cell_type": "markdown",
      "metadata": {
        "id": "view-in-github",
        "colab_type": "text"
      },
      "source": [
        "<a href=\"https://colab.research.google.com/github/michaelbram10/Case-Study-03-Data-Mining-Market-Basket-Analysis-Ganjil-2022-Kelompok-E/blob/main/Case_Study_03_Data_Mining_Market_Basket_Analysis_Ganjil_2022_Kelompok_E.ipynb\" target=\"_parent\"><img src=\"https://colab.research.google.com/assets/colab-badge.svg\" alt=\"Open In Colab\"/></a>"
      ]
    },
    {
      "cell_type": "markdown",
      "id": "4380d15f",
      "metadata": {
        "id": "4380d15f"
      },
      "source": [
        "# Study Case 03 - Data Mining dan Business Intelligence : Market Basket Analysis Toko AlfaIndo Cabang UI Depok\n",
        "\n",
        "**Kelompok E :**\n",
        "1. Nurul Annisa                  (1906377864)\n",
        "2. Athaya Yumna Fathiyah         (1906296192)\n",
        "3. Michael Mario Bramanthyo Adhi (1906299534)\n",
        "4. Teguh Saputra                 (1906)\n",
        "5. Ammar Yazid                   (1906377851)        \n",
        "6. Bintang Anugrah Alam          (2006571173) \n",
        "7. Salsana Siti Hatmanti         (2006571154)"
      ]
    },
    {
      "cell_type": "markdown",
      "id": "a1d0c0a2",
      "metadata": {
        "id": "a1d0c0a2"
      },
      "source": [
        "## Kasus: \n",
        "- *AlfaIndo* adalah sebuah toko waralaba yang memiliki beberapa cabang di kota-kota besar di Indonesia seperti Jakarta, Depok, Surabaya, dan Medan.\n",
        "- Anda adalah seorang Data Analyst yang bekerja di kantor pusat AlfaIndo di Jakarta\n",
        "- Pasca masa pandemi Toko AlfaIndo cabang UI Depok mengalami penurunan laba yang signifikan.\n",
        "- Anda ditugaskan oleh pimpinan untuk membantu toko ALfaIndo cabang UI Depok untuk bangkit dari keterpurukannya."
      ]
    },
    {
      "cell_type": "markdown",
      "id": "0d0ffdd7",
      "metadata": {
        "id": "0d0ffdd7"
      },
      "source": [
        "## Petunjuk\n",
        "*Catatan:*\t\n",
        "0-\t*Warning …* Karena file berbentuk Excel anda harus menyiapkan mekanisme agar file tersebut dapat di load secara automatis ketika Jupyter Notebook and di \"Run-All\" oleh dosen (misal merubah ke csv dan upload ke GitHub). \\\n",
        "1-\tTentukan ketua kelompok, silahkan mulai fikirkan strategi pembagian kerja kelompoknya. \\\n",
        "2-\tSemua menyiapkan Akun GitHub dan aplikasi GitHub Desktop (silahkan latihan menggunakan GitHub). \\\n",
        "3-\tPelajari dengan baik semua materi sebelumnya, latihan dengan data yang ada atau yang baru. \\\n",
        "4-\tGunakan akumulasi semua pengetahuan/skill yang telah dipelajari sebelumnya untuk menjawab kasus saat ini. \\\n",
        "5-\tSaat membuat laporan pengolahan data case study nanti, bayangkan kalian sedang bekerja di sebuah perusahaan sebagai Data Analyst dan membuat laporan ke atasan (bukan dosen). Perhatikan dengan baik narasi/kalimat yang digunakan dalam mengambil kesimpulan dan membuat rekomendasi. \\\n",
        "6-\tYakinkan Code anda dapat di \"Run-All\" oleh dosen di Google colaboratory. \\\n",
        "7-\tYakinkan anda memberikan informasi/insight serta rekomendasi/strategi Non-Trivial sebanyak-banyaknya. \\\n",
        "8-\tYakinkan ada kesimpulan akhir (penutup) di bagian paling bawah \"ipynb\" anda."
      ]
    },
    {
      "cell_type": "markdown",
      "id": "2326ffd6",
      "metadata": {
        "id": "2326ffd6"
      },
      "source": [
        "## Produk\n",
        "![image.png](attachment:image.png)"
      ]
    },
    {
      "cell_type": "markdown",
      "id": "a871b9d4",
      "metadata": {
        "id": "a871b9d4"
      },
      "source": [
        "## 1. Preparation"
      ]
    },
    {
      "cell_type": "markdown",
      "id": "ed7ab155",
      "metadata": {
        "id": "ed7ab155"
      },
      "source": [
        "### 1.1 Libraries and Utilities"
      ]
    },
    {
      "cell_type": "code",
      "execution_count": null,
      "id": "d4eccaa6",
      "metadata": {
        "id": "d4eccaa6"
      },
      "outputs": [],
      "source": [
        "#Data Manipulatiom\n",
        "import pandas as pd\n",
        "import numpy as np\n",
        "import sklearn\n",
        "import scipy\n",
        "\n",
        "#Visualization\n",
        "import seaborn as sns           \n",
        "import matplotlib.pyplot as plt \n",
        "%matplotlib inline \n",
        "sns.set(color_codes=True)\n",
        "\n",
        "#Modelling\n",
        "from mlxtend.frequent_patterns import apriori\n",
        "from mlxtend.frequent_patterns import association_rules"
      ]
    },
    {
      "cell_type": "markdown",
      "id": "19acf464",
      "metadata": {
        "id": "19acf464"
      },
      "source": [
        "### 1.2 Data Loading"
      ]
    },
    {
      "cell_type": "markdown",
      "id": "29f65d87",
      "metadata": {
        "id": "29f65d87"
      },
      "source": [
        "### Import Data"
      ]
    },
    {
      "cell_type": "code",
      "execution_count": null,
      "id": "5448aa7e",
      "metadata": {
        "id": "5448aa7e"
      },
      "outputs": [],
      "source": [
        "# Loading Data:\n",
        "df = pd.read_csv(r\"https://raw.githubusercontent.com/Ammardaffala/ADM-Case-02-Clustering/main/Data%20Market%20Basket%20Analysis.csv\", sep = ';', low_memory = False, encoding='utf8')"
      ]
    },
    {
      "cell_type": "code",
      "execution_count": null,
      "id": "3e3261c1",
      "metadata": {
        "id": "3e3261c1",
        "outputId": "843518c5-133a-407b-d35b-1dcdea7c038e",
        "colab": {
          "base_uri": "https://localhost:8080/",
          "height": 206
        }
      },
      "outputs": [
        {
          "output_type": "execute_result",
          "data": {
            "text/plain": [
              "   ID Transaksi         Tanggal Konsumen  ID Produk Nama Produk     Merek  \\\n",
              "0             1  01/07/22 00.00    Mr. A          1        Roti  Sri Roti   \n",
              "1             1  01/07/22 00.00    Mr. A          2   Air Minum     Aquos   \n",
              "2             1  01/07/22 00.00    Mr. A         11  Mie Instan    Indomi   \n",
              "3             1  01/07/22 00.00    Mr. A         12  Mie Instan  Mi Sedap   \n",
              "4             2  01/07/22 00.00    Mr. B          2   Air Minum     Aquos   \n",
              "\n",
              "   Jumlah  \n",
              "0       2  \n",
              "1       1  \n",
              "2       2  \n",
              "3       1  \n",
              "4       1  "
            ],
            "text/html": [
              "\n",
              "  <div id=\"df-2d3b2cb4-3876-4209-b84e-2353492ce143\">\n",
              "    <div class=\"colab-df-container\">\n",
              "      <div>\n",
              "<style scoped>\n",
              "    .dataframe tbody tr th:only-of-type {\n",
              "        vertical-align: middle;\n",
              "    }\n",
              "\n",
              "    .dataframe tbody tr th {\n",
              "        vertical-align: top;\n",
              "    }\n",
              "\n",
              "    .dataframe thead th {\n",
              "        text-align: right;\n",
              "    }\n",
              "</style>\n",
              "<table border=\"1\" class=\"dataframe\">\n",
              "  <thead>\n",
              "    <tr style=\"text-align: right;\">\n",
              "      <th></th>\n",
              "      <th>ID Transaksi</th>\n",
              "      <th>Tanggal</th>\n",
              "      <th>Konsumen</th>\n",
              "      <th>ID Produk</th>\n",
              "      <th>Nama Produk</th>\n",
              "      <th>Merek</th>\n",
              "      <th>Jumlah</th>\n",
              "    </tr>\n",
              "  </thead>\n",
              "  <tbody>\n",
              "    <tr>\n",
              "      <th>0</th>\n",
              "      <td>1</td>\n",
              "      <td>01/07/22 00.00</td>\n",
              "      <td>Mr. A</td>\n",
              "      <td>1</td>\n",
              "      <td>Roti</td>\n",
              "      <td>Sri Roti</td>\n",
              "      <td>2</td>\n",
              "    </tr>\n",
              "    <tr>\n",
              "      <th>1</th>\n",
              "      <td>1</td>\n",
              "      <td>01/07/22 00.00</td>\n",
              "      <td>Mr. A</td>\n",
              "      <td>2</td>\n",
              "      <td>Air Minum</td>\n",
              "      <td>Aquos</td>\n",
              "      <td>1</td>\n",
              "    </tr>\n",
              "    <tr>\n",
              "      <th>2</th>\n",
              "      <td>1</td>\n",
              "      <td>01/07/22 00.00</td>\n",
              "      <td>Mr. A</td>\n",
              "      <td>11</td>\n",
              "      <td>Mie Instan</td>\n",
              "      <td>Indomi</td>\n",
              "      <td>2</td>\n",
              "    </tr>\n",
              "    <tr>\n",
              "      <th>3</th>\n",
              "      <td>1</td>\n",
              "      <td>01/07/22 00.00</td>\n",
              "      <td>Mr. A</td>\n",
              "      <td>12</td>\n",
              "      <td>Mie Instan</td>\n",
              "      <td>Mi Sedap</td>\n",
              "      <td>1</td>\n",
              "    </tr>\n",
              "    <tr>\n",
              "      <th>4</th>\n",
              "      <td>2</td>\n",
              "      <td>01/07/22 00.00</td>\n",
              "      <td>Mr. B</td>\n",
              "      <td>2</td>\n",
              "      <td>Air Minum</td>\n",
              "      <td>Aquos</td>\n",
              "      <td>1</td>\n",
              "    </tr>\n",
              "  </tbody>\n",
              "</table>\n",
              "</div>\n",
              "      <button class=\"colab-df-convert\" onclick=\"convertToInteractive('df-2d3b2cb4-3876-4209-b84e-2353492ce143')\"\n",
              "              title=\"Convert this dataframe to an interactive table.\"\n",
              "              style=\"display:none;\">\n",
              "        \n",
              "  <svg xmlns=\"http://www.w3.org/2000/svg\" height=\"24px\"viewBox=\"0 0 24 24\"\n",
              "       width=\"24px\">\n",
              "    <path d=\"M0 0h24v24H0V0z\" fill=\"none\"/>\n",
              "    <path d=\"M18.56 5.44l.94 2.06.94-2.06 2.06-.94-2.06-.94-.94-2.06-.94 2.06-2.06.94zm-11 1L8.5 8.5l.94-2.06 2.06-.94-2.06-.94L8.5 2.5l-.94 2.06-2.06.94zm10 10l.94 2.06.94-2.06 2.06-.94-2.06-.94-.94-2.06-.94 2.06-2.06.94z\"/><path d=\"M17.41 7.96l-1.37-1.37c-.4-.4-.92-.59-1.43-.59-.52 0-1.04.2-1.43.59L10.3 9.45l-7.72 7.72c-.78.78-.78 2.05 0 2.83L4 21.41c.39.39.9.59 1.41.59.51 0 1.02-.2 1.41-.59l7.78-7.78 2.81-2.81c.8-.78.8-2.07 0-2.86zM5.41 20L4 18.59l7.72-7.72 1.47 1.35L5.41 20z\"/>\n",
              "  </svg>\n",
              "      </button>\n",
              "      \n",
              "  <style>\n",
              "    .colab-df-container {\n",
              "      display:flex;\n",
              "      flex-wrap:wrap;\n",
              "      gap: 12px;\n",
              "    }\n",
              "\n",
              "    .colab-df-convert {\n",
              "      background-color: #E8F0FE;\n",
              "      border: none;\n",
              "      border-radius: 50%;\n",
              "      cursor: pointer;\n",
              "      display: none;\n",
              "      fill: #1967D2;\n",
              "      height: 32px;\n",
              "      padding: 0 0 0 0;\n",
              "      width: 32px;\n",
              "    }\n",
              "\n",
              "    .colab-df-convert:hover {\n",
              "      background-color: #E2EBFA;\n",
              "      box-shadow: 0px 1px 2px rgba(60, 64, 67, 0.3), 0px 1px 3px 1px rgba(60, 64, 67, 0.15);\n",
              "      fill: #174EA6;\n",
              "    }\n",
              "\n",
              "    [theme=dark] .colab-df-convert {\n",
              "      background-color: #3B4455;\n",
              "      fill: #D2E3FC;\n",
              "    }\n",
              "\n",
              "    [theme=dark] .colab-df-convert:hover {\n",
              "      background-color: #434B5C;\n",
              "      box-shadow: 0px 1px 3px 1px rgba(0, 0, 0, 0.15);\n",
              "      filter: drop-shadow(0px 1px 2px rgba(0, 0, 0, 0.3));\n",
              "      fill: #FFFFFF;\n",
              "    }\n",
              "  </style>\n",
              "\n",
              "      <script>\n",
              "        const buttonEl =\n",
              "          document.querySelector('#df-2d3b2cb4-3876-4209-b84e-2353492ce143 button.colab-df-convert');\n",
              "        buttonEl.style.display =\n",
              "          google.colab.kernel.accessAllowed ? 'block' : 'none';\n",
              "\n",
              "        async function convertToInteractive(key) {\n",
              "          const element = document.querySelector('#df-2d3b2cb4-3876-4209-b84e-2353492ce143');\n",
              "          const dataTable =\n",
              "            await google.colab.kernel.invokeFunction('convertToInteractive',\n",
              "                                                     [key], {});\n",
              "          if (!dataTable) return;\n",
              "\n",
              "          const docLinkHtml = 'Like what you see? Visit the ' +\n",
              "            '<a target=\"_blank\" href=https://colab.research.google.com/notebooks/data_table.ipynb>data table notebook</a>'\n",
              "            + ' to learn more about interactive tables.';\n",
              "          element.innerHTML = '';\n",
              "          dataTable['output_type'] = 'display_data';\n",
              "          await google.colab.output.renderOutput(dataTable, element);\n",
              "          const docLink = document.createElement('div');\n",
              "          docLink.innerHTML = docLinkHtml;\n",
              "          element.appendChild(docLink);\n",
              "        }\n",
              "      </script>\n",
              "    </div>\n",
              "  </div>\n",
              "  "
            ]
          },
          "metadata": {},
          "execution_count": 3
        }
      ],
      "source": [
        "df.head()"
      ]
    },
    {
      "cell_type": "code",
      "execution_count": null,
      "id": "b150fed8",
      "metadata": {
        "id": "b150fed8",
        "outputId": "156716ca-8fc2-4458-fe1c-ef4147657011",
        "colab": {
          "base_uri": "https://localhost:8080/",
          "height": 206
        }
      },
      "outputs": [
        {
          "output_type": "execute_result",
          "data": {
            "text/plain": [
              "    ID Transaksi         Tanggal Konsumen  ID Produk Nama Produk     Merek  \\\n",
              "51            17  05/09/22 00.00    Mr. F          2   Air Minum     Aquos   \n",
              "52            17  05/09/22 00.00    Mr. F          4       Sabun    Lifboy   \n",
              "53            17  05/09/22 00.00    Mr. F          6       Snack     Chiki   \n",
              "54            18  02/10/22 00.00    Mr. B          1        Roti  Sri Roti   \n",
              "55            18  02/10/22 00.00    Mr. B         10   Air Minum     Sprit   \n",
              "\n",
              "    Jumlah  \n",
              "51       1  \n",
              "52       1  \n",
              "53       2  \n",
              "54       2  \n",
              "55       2  "
            ],
            "text/html": [
              "\n",
              "  <div id=\"df-4322a782-c04e-419e-b191-a9f4a24be127\">\n",
              "    <div class=\"colab-df-container\">\n",
              "      <div>\n",
              "<style scoped>\n",
              "    .dataframe tbody tr th:only-of-type {\n",
              "        vertical-align: middle;\n",
              "    }\n",
              "\n",
              "    .dataframe tbody tr th {\n",
              "        vertical-align: top;\n",
              "    }\n",
              "\n",
              "    .dataframe thead th {\n",
              "        text-align: right;\n",
              "    }\n",
              "</style>\n",
              "<table border=\"1\" class=\"dataframe\">\n",
              "  <thead>\n",
              "    <tr style=\"text-align: right;\">\n",
              "      <th></th>\n",
              "      <th>ID Transaksi</th>\n",
              "      <th>Tanggal</th>\n",
              "      <th>Konsumen</th>\n",
              "      <th>ID Produk</th>\n",
              "      <th>Nama Produk</th>\n",
              "      <th>Merek</th>\n",
              "      <th>Jumlah</th>\n",
              "    </tr>\n",
              "  </thead>\n",
              "  <tbody>\n",
              "    <tr>\n",
              "      <th>51</th>\n",
              "      <td>17</td>\n",
              "      <td>05/09/22 00.00</td>\n",
              "      <td>Mr. F</td>\n",
              "      <td>2</td>\n",
              "      <td>Air Minum</td>\n",
              "      <td>Aquos</td>\n",
              "      <td>1</td>\n",
              "    </tr>\n",
              "    <tr>\n",
              "      <th>52</th>\n",
              "      <td>17</td>\n",
              "      <td>05/09/22 00.00</td>\n",
              "      <td>Mr. F</td>\n",
              "      <td>4</td>\n",
              "      <td>Sabun</td>\n",
              "      <td>Lifboy</td>\n",
              "      <td>1</td>\n",
              "    </tr>\n",
              "    <tr>\n",
              "      <th>53</th>\n",
              "      <td>17</td>\n",
              "      <td>05/09/22 00.00</td>\n",
              "      <td>Mr. F</td>\n",
              "      <td>6</td>\n",
              "      <td>Snack</td>\n",
              "      <td>Chiki</td>\n",
              "      <td>2</td>\n",
              "    </tr>\n",
              "    <tr>\n",
              "      <th>54</th>\n",
              "      <td>18</td>\n",
              "      <td>02/10/22 00.00</td>\n",
              "      <td>Mr. B</td>\n",
              "      <td>1</td>\n",
              "      <td>Roti</td>\n",
              "      <td>Sri Roti</td>\n",
              "      <td>2</td>\n",
              "    </tr>\n",
              "    <tr>\n",
              "      <th>55</th>\n",
              "      <td>18</td>\n",
              "      <td>02/10/22 00.00</td>\n",
              "      <td>Mr. B</td>\n",
              "      <td>10</td>\n",
              "      <td>Air Minum</td>\n",
              "      <td>Sprit</td>\n",
              "      <td>2</td>\n",
              "    </tr>\n",
              "  </tbody>\n",
              "</table>\n",
              "</div>\n",
              "      <button class=\"colab-df-convert\" onclick=\"convertToInteractive('df-4322a782-c04e-419e-b191-a9f4a24be127')\"\n",
              "              title=\"Convert this dataframe to an interactive table.\"\n",
              "              style=\"display:none;\">\n",
              "        \n",
              "  <svg xmlns=\"http://www.w3.org/2000/svg\" height=\"24px\"viewBox=\"0 0 24 24\"\n",
              "       width=\"24px\">\n",
              "    <path d=\"M0 0h24v24H0V0z\" fill=\"none\"/>\n",
              "    <path d=\"M18.56 5.44l.94 2.06.94-2.06 2.06-.94-2.06-.94-.94-2.06-.94 2.06-2.06.94zm-11 1L8.5 8.5l.94-2.06 2.06-.94-2.06-.94L8.5 2.5l-.94 2.06-2.06.94zm10 10l.94 2.06.94-2.06 2.06-.94-2.06-.94-.94-2.06-.94 2.06-2.06.94z\"/><path d=\"M17.41 7.96l-1.37-1.37c-.4-.4-.92-.59-1.43-.59-.52 0-1.04.2-1.43.59L10.3 9.45l-7.72 7.72c-.78.78-.78 2.05 0 2.83L4 21.41c.39.39.9.59 1.41.59.51 0 1.02-.2 1.41-.59l7.78-7.78 2.81-2.81c.8-.78.8-2.07 0-2.86zM5.41 20L4 18.59l7.72-7.72 1.47 1.35L5.41 20z\"/>\n",
              "  </svg>\n",
              "      </button>\n",
              "      \n",
              "  <style>\n",
              "    .colab-df-container {\n",
              "      display:flex;\n",
              "      flex-wrap:wrap;\n",
              "      gap: 12px;\n",
              "    }\n",
              "\n",
              "    .colab-df-convert {\n",
              "      background-color: #E8F0FE;\n",
              "      border: none;\n",
              "      border-radius: 50%;\n",
              "      cursor: pointer;\n",
              "      display: none;\n",
              "      fill: #1967D2;\n",
              "      height: 32px;\n",
              "      padding: 0 0 0 0;\n",
              "      width: 32px;\n",
              "    }\n",
              "\n",
              "    .colab-df-convert:hover {\n",
              "      background-color: #E2EBFA;\n",
              "      box-shadow: 0px 1px 2px rgba(60, 64, 67, 0.3), 0px 1px 3px 1px rgba(60, 64, 67, 0.15);\n",
              "      fill: #174EA6;\n",
              "    }\n",
              "\n",
              "    [theme=dark] .colab-df-convert {\n",
              "      background-color: #3B4455;\n",
              "      fill: #D2E3FC;\n",
              "    }\n",
              "\n",
              "    [theme=dark] .colab-df-convert:hover {\n",
              "      background-color: #434B5C;\n",
              "      box-shadow: 0px 1px 3px 1px rgba(0, 0, 0, 0.15);\n",
              "      filter: drop-shadow(0px 1px 2px rgba(0, 0, 0, 0.3));\n",
              "      fill: #FFFFFF;\n",
              "    }\n",
              "  </style>\n",
              "\n",
              "      <script>\n",
              "        const buttonEl =\n",
              "          document.querySelector('#df-4322a782-c04e-419e-b191-a9f4a24be127 button.colab-df-convert');\n",
              "        buttonEl.style.display =\n",
              "          google.colab.kernel.accessAllowed ? 'block' : 'none';\n",
              "\n",
              "        async function convertToInteractive(key) {\n",
              "          const element = document.querySelector('#df-4322a782-c04e-419e-b191-a9f4a24be127');\n",
              "          const dataTable =\n",
              "            await google.colab.kernel.invokeFunction('convertToInteractive',\n",
              "                                                     [key], {});\n",
              "          if (!dataTable) return;\n",
              "\n",
              "          const docLinkHtml = 'Like what you see? Visit the ' +\n",
              "            '<a target=\"_blank\" href=https://colab.research.google.com/notebooks/data_table.ipynb>data table notebook</a>'\n",
              "            + ' to learn more about interactive tables.';\n",
              "          element.innerHTML = '';\n",
              "          dataTable['output_type'] = 'display_data';\n",
              "          await google.colab.output.renderOutput(dataTable, element);\n",
              "          const docLink = document.createElement('div');\n",
              "          docLink.innerHTML = docLinkHtml;\n",
              "          element.appendChild(docLink);\n",
              "        }\n",
              "      </script>\n",
              "    </div>\n",
              "  </div>\n",
              "  "
            ]
          },
          "metadata": {},
          "execution_count": 4
        }
      ],
      "source": [
        "df.tail()"
      ]
    },
    {
      "cell_type": "code",
      "execution_count": null,
      "id": "5eae8c35",
      "metadata": {
        "id": "5eae8c35",
        "outputId": "4f2d50ff-bbe9-4620-f381-6149ac85ec9e",
        "colab": {
          "base_uri": "https://localhost:8080/"
        }
      },
      "outputs": [
        {
          "output_type": "stream",
          "name": "stdout",
          "text": [
            "<class 'pandas.core.frame.DataFrame'>\n",
            "RangeIndex: 56 entries, 0 to 55\n",
            "Data columns (total 7 columns):\n",
            " #   Column        Non-Null Count  Dtype \n",
            "---  ------        --------------  ----- \n",
            " 0   ID Transaksi  56 non-null     int64 \n",
            " 1   Tanggal       56 non-null     object\n",
            " 2   Konsumen      56 non-null     object\n",
            " 3   ID Produk     56 non-null     int64 \n",
            " 4   Nama Produk   56 non-null     object\n",
            " 5   Merek         56 non-null     object\n",
            " 6   Jumlah        56 non-null     int64 \n",
            "dtypes: int64(3), object(4)\n",
            "memory usage: 3.2+ KB\n"
          ]
        }
      ],
      "source": [
        "df.info()"
      ]
    },
    {
      "cell_type": "markdown",
      "id": "0974fd61",
      "metadata": {
        "id": "0974fd61"
      },
      "source": [
        "### 1.3 Data Understanding"
      ]
    },
    {
      "cell_type": "code",
      "execution_count": null,
      "id": "6ced0327",
      "metadata": {
        "id": "6ced0327",
        "outputId": "16412139-7a03-466f-d569-f70034c34e6b",
        "colab": {
          "base_uri": "https://localhost:8080/"
        }
      },
      "outputs": [
        {
          "output_type": "execute_result",
          "data": {
            "text/plain": [
              "['ID Transaksi',\n",
              " 'Tanggal',\n",
              " 'Konsumen',\n",
              " 'ID Produk',\n",
              " 'Nama Produk',\n",
              " 'Merek',\n",
              " 'Jumlah']"
            ]
          },
          "metadata": {},
          "execution_count": 7
        }
      ],
      "source": [
        "list(df.columns)"
      ]
    },
    {
      "cell_type": "code",
      "execution_count": null,
      "id": "65617e58",
      "metadata": {
        "scrolled": true,
        "id": "65617e58",
        "outputId": "14655f64-286e-4f65-8365-a854dbc133b9",
        "colab": {
          "base_uri": "https://localhost:8080/"
        }
      },
      "outputs": [
        {
          "output_type": "execute_result",
          "data": {
            "text/plain": [
              "ID Transaksi     int64\n",
              "Tanggal         object\n",
              "Konsumen        object\n",
              "ID Produk        int64\n",
              "Nama Produk     object\n",
              "Merek           object\n",
              "Jumlah           int64\n",
              "dtype: object"
            ]
          },
          "metadata": {},
          "execution_count": 8
        }
      ],
      "source": [
        "df.dtypes"
      ]
    },
    {
      "cell_type": "code",
      "execution_count": null,
      "id": "f7b66f2b",
      "metadata": {
        "id": "f7b66f2b",
        "colab": {
          "base_uri": "https://localhost:8080/",
          "height": 450
        },
        "outputId": "acb11483-95d4-40f0-beed-22af69e4a9a7"
      },
      "outputs": [
        {
          "output_type": "error",
          "ename": "ParserError",
          "evalue": "ignored",
          "traceback": [
            "\u001b[0;31m---------------------------------------------------------------------------\u001b[0m",
            "\u001b[0;31mTypeError\u001b[0m                                 Traceback (most recent call last)",
            "\u001b[0;32m/usr/local/lib/python3.7/dist-packages/pandas/core/arrays/datetimes.py\u001b[0m in \u001b[0;36mobjects_to_datetime64ns\u001b[0;34m(data, dayfirst, yearfirst, utc, errors, require_iso8601, allow_object, allow_mixed)\u001b[0m\n\u001b[1;32m   2191\u001b[0m         \u001b[0;32mtry\u001b[0m\u001b[0;34m:\u001b[0m\u001b[0;34m\u001b[0m\u001b[0;34m\u001b[0m\u001b[0m\n\u001b[0;32m-> 2192\u001b[0;31m             \u001b[0mvalues\u001b[0m\u001b[0;34m,\u001b[0m \u001b[0mtz_parsed\u001b[0m \u001b[0;34m=\u001b[0m \u001b[0mconversion\u001b[0m\u001b[0;34m.\u001b[0m\u001b[0mdatetime_to_datetime64\u001b[0m\u001b[0;34m(\u001b[0m\u001b[0mdata\u001b[0m\u001b[0;34m.\u001b[0m\u001b[0mravel\u001b[0m\u001b[0;34m(\u001b[0m\u001b[0;34m\"K\"\u001b[0m\u001b[0;34m)\u001b[0m\u001b[0;34m)\u001b[0m\u001b[0;34m\u001b[0m\u001b[0;34m\u001b[0m\u001b[0m\n\u001b[0m\u001b[1;32m   2193\u001b[0m             \u001b[0;31m# If tzaware, these values represent unix timestamps, so we\u001b[0m\u001b[0;34m\u001b[0m\u001b[0;34m\u001b[0m\u001b[0;34m\u001b[0m\u001b[0m\n",
            "\u001b[0;32m/usr/local/lib/python3.7/dist-packages/pandas/_libs/tslibs/conversion.pyx\u001b[0m in \u001b[0;36mpandas._libs.tslibs.conversion.datetime_to_datetime64\u001b[0;34m()\u001b[0m\n",
            "\u001b[0;31mTypeError\u001b[0m: Unrecognized value type: <class 'str'>",
            "\nDuring handling of the above exception, another exception occurred:\n",
            "\u001b[0;31mParserError\u001b[0m                               Traceback (most recent call last)",
            "\u001b[0;32m<ipython-input-10-594ba282f1b8>\u001b[0m in \u001b[0;36m<module>\u001b[0;34m\u001b[0m\n\u001b[1;32m      1\u001b[0m \u001b[0;31m### Change The Data Type of Some Columns ###\u001b[0m\u001b[0;34m\u001b[0m\u001b[0;34m\u001b[0m\u001b[0;34m\u001b[0m\u001b[0m\n\u001b[1;32m      2\u001b[0m \u001b[0;34m\u001b[0m\u001b[0m\n\u001b[0;32m----> 3\u001b[0;31m \u001b[0mdf\u001b[0m\u001b[0;34m[\u001b[0m\u001b[0;34m'Tanggal'\u001b[0m\u001b[0;34m]\u001b[0m \u001b[0;34m=\u001b[0m \u001b[0mpd\u001b[0m\u001b[0;34m.\u001b[0m\u001b[0mto_datetime\u001b[0m\u001b[0;34m(\u001b[0m\u001b[0mdf\u001b[0m\u001b[0;34m[\u001b[0m\u001b[0;34m'Tanggal'\u001b[0m\u001b[0;34m]\u001b[0m\u001b[0;34m)\u001b[0m\u001b[0;34m\u001b[0m\u001b[0;34m\u001b[0m\u001b[0m\n\u001b[0m",
            "\u001b[0;32m/usr/local/lib/python3.7/dist-packages/pandas/core/tools/datetimes.py\u001b[0m in \u001b[0;36mto_datetime\u001b[0;34m(arg, errors, dayfirst, yearfirst, utc, format, exact, unit, infer_datetime_format, origin, cache)\u001b[0m\n\u001b[1;32m    881\u001b[0m                 \u001b[0mresult\u001b[0m \u001b[0;34m=\u001b[0m \u001b[0mresult\u001b[0m\u001b[0;34m.\u001b[0m\u001b[0mtz_localize\u001b[0m\u001b[0;34m(\u001b[0m\u001b[0mtz\u001b[0m\u001b[0;34m)\u001b[0m  \u001b[0;31m# type: ignore[call-arg]\u001b[0m\u001b[0;34m\u001b[0m\u001b[0;34m\u001b[0m\u001b[0m\n\u001b[1;32m    882\u001b[0m     \u001b[0;32melif\u001b[0m \u001b[0misinstance\u001b[0m\u001b[0;34m(\u001b[0m\u001b[0marg\u001b[0m\u001b[0;34m,\u001b[0m \u001b[0mABCSeries\u001b[0m\u001b[0;34m)\u001b[0m\u001b[0;34m:\u001b[0m\u001b[0;34m\u001b[0m\u001b[0;34m\u001b[0m\u001b[0m\n\u001b[0;32m--> 883\u001b[0;31m         \u001b[0mcache_array\u001b[0m \u001b[0;34m=\u001b[0m \u001b[0m_maybe_cache\u001b[0m\u001b[0;34m(\u001b[0m\u001b[0marg\u001b[0m\u001b[0;34m,\u001b[0m \u001b[0mformat\u001b[0m\u001b[0;34m,\u001b[0m \u001b[0mcache\u001b[0m\u001b[0;34m,\u001b[0m \u001b[0mconvert_listlike\u001b[0m\u001b[0;34m)\u001b[0m\u001b[0;34m\u001b[0m\u001b[0;34m\u001b[0m\u001b[0m\n\u001b[0m\u001b[1;32m    884\u001b[0m         \u001b[0;32mif\u001b[0m \u001b[0;32mnot\u001b[0m \u001b[0mcache_array\u001b[0m\u001b[0;34m.\u001b[0m\u001b[0mempty\u001b[0m\u001b[0;34m:\u001b[0m\u001b[0;34m\u001b[0m\u001b[0;34m\u001b[0m\u001b[0m\n\u001b[1;32m    885\u001b[0m             \u001b[0mresult\u001b[0m \u001b[0;34m=\u001b[0m \u001b[0marg\u001b[0m\u001b[0;34m.\u001b[0m\u001b[0mmap\u001b[0m\u001b[0;34m(\u001b[0m\u001b[0mcache_array\u001b[0m\u001b[0;34m)\u001b[0m\u001b[0;34m\u001b[0m\u001b[0;34m\u001b[0m\u001b[0m\n",
            "\u001b[0;32m/usr/local/lib/python3.7/dist-packages/pandas/core/tools/datetimes.py\u001b[0m in \u001b[0;36m_maybe_cache\u001b[0;34m(arg, format, cache, convert_listlike)\u001b[0m\n\u001b[1;32m    193\u001b[0m         \u001b[0munique_dates\u001b[0m \u001b[0;34m=\u001b[0m \u001b[0munique\u001b[0m\u001b[0;34m(\u001b[0m\u001b[0marg\u001b[0m\u001b[0;34m)\u001b[0m\u001b[0;34m\u001b[0m\u001b[0;34m\u001b[0m\u001b[0m\n\u001b[1;32m    194\u001b[0m         \u001b[0;32mif\u001b[0m \u001b[0mlen\u001b[0m\u001b[0;34m(\u001b[0m\u001b[0munique_dates\u001b[0m\u001b[0;34m)\u001b[0m \u001b[0;34m<\u001b[0m \u001b[0mlen\u001b[0m\u001b[0;34m(\u001b[0m\u001b[0marg\u001b[0m\u001b[0;34m)\u001b[0m\u001b[0;34m:\u001b[0m\u001b[0;34m\u001b[0m\u001b[0;34m\u001b[0m\u001b[0m\n\u001b[0;32m--> 195\u001b[0;31m             \u001b[0mcache_dates\u001b[0m \u001b[0;34m=\u001b[0m \u001b[0mconvert_listlike\u001b[0m\u001b[0;34m(\u001b[0m\u001b[0munique_dates\u001b[0m\u001b[0;34m,\u001b[0m \u001b[0mformat\u001b[0m\u001b[0;34m)\u001b[0m\u001b[0;34m\u001b[0m\u001b[0;34m\u001b[0m\u001b[0m\n\u001b[0m\u001b[1;32m    196\u001b[0m             \u001b[0mcache_array\u001b[0m \u001b[0;34m=\u001b[0m \u001b[0mSeries\u001b[0m\u001b[0;34m(\u001b[0m\u001b[0mcache_dates\u001b[0m\u001b[0;34m,\u001b[0m \u001b[0mindex\u001b[0m\u001b[0;34m=\u001b[0m\u001b[0munique_dates\u001b[0m\u001b[0;34m)\u001b[0m\u001b[0;34m\u001b[0m\u001b[0;34m\u001b[0m\u001b[0m\n\u001b[1;32m    197\u001b[0m             \u001b[0;31m# GH#39882 and GH#35888 in case of None and NaT we get duplicates\u001b[0m\u001b[0;34m\u001b[0m\u001b[0;34m\u001b[0m\u001b[0;34m\u001b[0m\u001b[0m\n",
            "\u001b[0;32m/usr/local/lib/python3.7/dist-packages/pandas/core/tools/datetimes.py\u001b[0m in \u001b[0;36m_convert_listlike_datetimes\u001b[0;34m(arg, format, name, tz, unit, errors, infer_datetime_format, dayfirst, yearfirst, exact)\u001b[0m\n\u001b[1;32m    406\u001b[0m         \u001b[0merrors\u001b[0m\u001b[0;34m=\u001b[0m\u001b[0merrors\u001b[0m\u001b[0;34m,\u001b[0m\u001b[0;34m\u001b[0m\u001b[0;34m\u001b[0m\u001b[0m\n\u001b[1;32m    407\u001b[0m         \u001b[0mrequire_iso8601\u001b[0m\u001b[0;34m=\u001b[0m\u001b[0mrequire_iso8601\u001b[0m\u001b[0;34m,\u001b[0m\u001b[0;34m\u001b[0m\u001b[0;34m\u001b[0m\u001b[0m\n\u001b[0;32m--> 408\u001b[0;31m         \u001b[0mallow_object\u001b[0m\u001b[0;34m=\u001b[0m\u001b[0;32mTrue\u001b[0m\u001b[0;34m,\u001b[0m\u001b[0;34m\u001b[0m\u001b[0;34m\u001b[0m\u001b[0m\n\u001b[0m\u001b[1;32m    409\u001b[0m     )\n\u001b[1;32m    410\u001b[0m \u001b[0;34m\u001b[0m\u001b[0m\n",
            "\u001b[0;32m/usr/local/lib/python3.7/dist-packages/pandas/core/arrays/datetimes.py\u001b[0m in \u001b[0;36mobjects_to_datetime64ns\u001b[0;34m(data, dayfirst, yearfirst, utc, errors, require_iso8601, allow_object, allow_mixed)\u001b[0m\n\u001b[1;32m   2196\u001b[0m             \u001b[0;32mreturn\u001b[0m \u001b[0mvalues\u001b[0m\u001b[0;34m.\u001b[0m\u001b[0mview\u001b[0m\u001b[0;34m(\u001b[0m\u001b[0;34m\"i8\"\u001b[0m\u001b[0;34m)\u001b[0m\u001b[0;34m,\u001b[0m \u001b[0mtz_parsed\u001b[0m\u001b[0;34m\u001b[0m\u001b[0;34m\u001b[0m\u001b[0m\n\u001b[1;32m   2197\u001b[0m         \u001b[0;32mexcept\u001b[0m \u001b[0;34m(\u001b[0m\u001b[0mValueError\u001b[0m\u001b[0;34m,\u001b[0m \u001b[0mTypeError\u001b[0m\u001b[0;34m)\u001b[0m\u001b[0;34m:\u001b[0m\u001b[0;34m\u001b[0m\u001b[0;34m\u001b[0m\u001b[0m\n\u001b[0;32m-> 2198\u001b[0;31m             \u001b[0;32mraise\u001b[0m \u001b[0merr\u001b[0m\u001b[0;34m\u001b[0m\u001b[0;34m\u001b[0m\u001b[0m\n\u001b[0m\u001b[1;32m   2199\u001b[0m \u001b[0;34m\u001b[0m\u001b[0m\n\u001b[1;32m   2200\u001b[0m     \u001b[0;32mif\u001b[0m \u001b[0mtz_parsed\u001b[0m \u001b[0;32mis\u001b[0m \u001b[0;32mnot\u001b[0m \u001b[0;32mNone\u001b[0m\u001b[0;34m:\u001b[0m\u001b[0;34m\u001b[0m\u001b[0;34m\u001b[0m\u001b[0m\n",
            "\u001b[0;32m/usr/local/lib/python3.7/dist-packages/pandas/core/arrays/datetimes.py\u001b[0m in \u001b[0;36mobjects_to_datetime64ns\u001b[0;34m(data, dayfirst, yearfirst, utc, errors, require_iso8601, allow_object, allow_mixed)\u001b[0m\n\u001b[1;32m   2185\u001b[0m             \u001b[0myearfirst\u001b[0m\u001b[0;34m=\u001b[0m\u001b[0myearfirst\u001b[0m\u001b[0;34m,\u001b[0m\u001b[0;34m\u001b[0m\u001b[0;34m\u001b[0m\u001b[0m\n\u001b[1;32m   2186\u001b[0m             \u001b[0mrequire_iso8601\u001b[0m\u001b[0;34m=\u001b[0m\u001b[0mrequire_iso8601\u001b[0m\u001b[0;34m,\u001b[0m\u001b[0;34m\u001b[0m\u001b[0;34m\u001b[0m\u001b[0m\n\u001b[0;32m-> 2187\u001b[0;31m             \u001b[0mallow_mixed\u001b[0m\u001b[0;34m=\u001b[0m\u001b[0mallow_mixed\u001b[0m\u001b[0;34m,\u001b[0m\u001b[0;34m\u001b[0m\u001b[0;34m\u001b[0m\u001b[0m\n\u001b[0m\u001b[1;32m   2188\u001b[0m         )\n\u001b[1;32m   2189\u001b[0m         \u001b[0mresult\u001b[0m \u001b[0;34m=\u001b[0m \u001b[0mresult\u001b[0m\u001b[0;34m.\u001b[0m\u001b[0mreshape\u001b[0m\u001b[0;34m(\u001b[0m\u001b[0mdata\u001b[0m\u001b[0;34m.\u001b[0m\u001b[0mshape\u001b[0m\u001b[0;34m,\u001b[0m \u001b[0morder\u001b[0m\u001b[0;34m=\u001b[0m\u001b[0morder\u001b[0m\u001b[0;34m)\u001b[0m\u001b[0;34m\u001b[0m\u001b[0;34m\u001b[0m\u001b[0m\n",
            "\u001b[0;32m/usr/local/lib/python3.7/dist-packages/pandas/_libs/tslib.pyx\u001b[0m in \u001b[0;36mpandas._libs.tslib.array_to_datetime\u001b[0;34m()\u001b[0m\n",
            "\u001b[0;32m/usr/local/lib/python3.7/dist-packages/pandas/_libs/tslib.pyx\u001b[0m in \u001b[0;36mpandas._libs.tslib.array_to_datetime\u001b[0;34m()\u001b[0m\n",
            "\u001b[0;32m/usr/local/lib/python3.7/dist-packages/pandas/_libs/tslib.pyx\u001b[0m in \u001b[0;36mpandas._libs.tslib._array_to_datetime_object\u001b[0;34m()\u001b[0m\n",
            "\u001b[0;32m/usr/local/lib/python3.7/dist-packages/pandas/_libs/tslib.pyx\u001b[0m in \u001b[0;36mpandas._libs.tslib._array_to_datetime_object\u001b[0;34m()\u001b[0m\n",
            "\u001b[0;32m/usr/local/lib/python3.7/dist-packages/pandas/_libs/tslibs/parsing.pyx\u001b[0m in \u001b[0;36mpandas._libs.tslibs.parsing.parse_datetime_string\u001b[0;34m()\u001b[0m\n",
            "\u001b[0;32m/usr/local/lib/python3.7/dist-packages/dateutil/parser/_parser.py\u001b[0m in \u001b[0;36mparse\u001b[0;34m(timestr, parserinfo, **kwargs)\u001b[0m\n\u001b[1;32m   1366\u001b[0m         \u001b[0;32mreturn\u001b[0m \u001b[0mparser\u001b[0m\u001b[0;34m(\u001b[0m\u001b[0mparserinfo\u001b[0m\u001b[0;34m)\u001b[0m\u001b[0;34m.\u001b[0m\u001b[0mparse\u001b[0m\u001b[0;34m(\u001b[0m\u001b[0mtimestr\u001b[0m\u001b[0;34m,\u001b[0m \u001b[0;34m**\u001b[0m\u001b[0mkwargs\u001b[0m\u001b[0;34m)\u001b[0m\u001b[0;34m\u001b[0m\u001b[0;34m\u001b[0m\u001b[0m\n\u001b[1;32m   1367\u001b[0m     \u001b[0;32melse\u001b[0m\u001b[0;34m:\u001b[0m\u001b[0;34m\u001b[0m\u001b[0;34m\u001b[0m\u001b[0m\n\u001b[0;32m-> 1368\u001b[0;31m         \u001b[0;32mreturn\u001b[0m \u001b[0mDEFAULTPARSER\u001b[0m\u001b[0;34m.\u001b[0m\u001b[0mparse\u001b[0m\u001b[0;34m(\u001b[0m\u001b[0mtimestr\u001b[0m\u001b[0;34m,\u001b[0m \u001b[0;34m**\u001b[0m\u001b[0mkwargs\u001b[0m\u001b[0;34m)\u001b[0m\u001b[0;34m\u001b[0m\u001b[0;34m\u001b[0m\u001b[0m\n\u001b[0m\u001b[1;32m   1369\u001b[0m \u001b[0;34m\u001b[0m\u001b[0m\n\u001b[1;32m   1370\u001b[0m \u001b[0;34m\u001b[0m\u001b[0m\n",
            "\u001b[0;32m/usr/local/lib/python3.7/dist-packages/dateutil/parser/_parser.py\u001b[0m in \u001b[0;36mparse\u001b[0;34m(self, timestr, default, ignoretz, tzinfos, **kwargs)\u001b[0m\n\u001b[1;32m    641\u001b[0m \u001b[0;34m\u001b[0m\u001b[0m\n\u001b[1;32m    642\u001b[0m         \u001b[0;32mif\u001b[0m \u001b[0mres\u001b[0m \u001b[0;32mis\u001b[0m \u001b[0;32mNone\u001b[0m\u001b[0;34m:\u001b[0m\u001b[0;34m\u001b[0m\u001b[0;34m\u001b[0m\u001b[0m\n\u001b[0;32m--> 643\u001b[0;31m             \u001b[0;32mraise\u001b[0m \u001b[0mParserError\u001b[0m\u001b[0;34m(\u001b[0m\u001b[0;34m\"Unknown string format: %s\"\u001b[0m\u001b[0;34m,\u001b[0m \u001b[0mtimestr\u001b[0m\u001b[0;34m)\u001b[0m\u001b[0;34m\u001b[0m\u001b[0;34m\u001b[0m\u001b[0m\n\u001b[0m\u001b[1;32m    644\u001b[0m \u001b[0;34m\u001b[0m\u001b[0m\n\u001b[1;32m    645\u001b[0m         \u001b[0;32mif\u001b[0m \u001b[0mlen\u001b[0m\u001b[0;34m(\u001b[0m\u001b[0mres\u001b[0m\u001b[0;34m)\u001b[0m \u001b[0;34m==\u001b[0m \u001b[0;36m0\u001b[0m\u001b[0;34m:\u001b[0m\u001b[0;34m\u001b[0m\u001b[0;34m\u001b[0m\u001b[0m\n",
            "\u001b[0;31mParserError\u001b[0m: Unknown string format: 01/07/22 00.00"
          ]
        }
      ],
      "source": [
        "### Change The Data Type of Some Columns ###\n",
        "\n",
        "df['Tanggal'] = pd.to_datetime(df['Tanggal'])"
      ]
    },
    {
      "cell_type": "code",
      "execution_count": null,
      "id": "4b5b0be3",
      "metadata": {
        "id": "4b5b0be3",
        "outputId": "f311a53b-ed59-4eb1-a4bd-30236a3b24e6"
      },
      "outputs": [
        {
          "data": {
            "text/plain": [
              "2022-05-07    9\n",
              "2022-01-07    8\n",
              "2022-02-07    8\n",
              "2022-04-07    6\n",
              "2022-06-07    6\n",
              "2022-07-07    6\n",
              "2022-03-07    5\n",
              "2022-05-09    4\n",
              "2022-02-10    2\n",
              "2022-08-07    1\n",
              "2022-02-08    1\n",
              "Name: Tanggal, dtype: int64"
            ]
          },
          "execution_count": 9,
          "metadata": {},
          "output_type": "execute_result"
        }
      ],
      "source": [
        "df['Tanggal'].value_counts()"
      ]
    },
    {
      "cell_type": "markdown",
      "id": "e1224cf3",
      "metadata": {
        "id": "e1224cf3"
      },
      "source": [
        "### Pengelompokkan Kolom Berdasarkan Tipe Data"
      ]
    },
    {
      "cell_type": "code",
      "execution_count": null,
      "id": "fd24ebba",
      "metadata": {
        "scrolled": true,
        "id": "fd24ebba",
        "outputId": "7a82f8d7-3203-4521-bd98-5cea486a7599"
      },
      "outputs": [
        {
          "name": "stdout",
          "output_type": "stream",
          "text": [
            "Kolom bertipe Number (Integer/Float):\n",
            "\n",
            " [['ID Transaksi', 'ID Produk', 'Jumlah']] \n",
            "\n",
            "Kolom bertipe Integer               :\n",
            " [['ID Transaksi', 'ID Produk', 'Jumlah']] \n",
            "\n",
            "Kolom bertipe Float                 :\n",
            " [[]] \n",
            "\n",
            "Kolom bertipe Object                :\n",
            "\n",
            " [['Konsumen', 'Nama Produk', 'Merek']]\n"
          ]
        }
      ],
      "source": [
        "# melihat kolom dengan tipe data yang berbeda (number dan object)\n",
        "\n",
        "df_number = []\n",
        "df_int = []\n",
        "df_float = []\n",
        "df_object = []\n",
        "\n",
        "df_number.append(df.select_dtypes('number').columns.tolist()) # menampilkan nama kolom yang berisi data dengan tipe number\n",
        "df_int.append(df.select_dtypes('integer').columns.tolist()) # menampilkan nama kolom yang berisi data dengan tipe number\n",
        "df_float.append(df.select_dtypes('float').columns.tolist()) # menampilkan nama kolom yang berisi data dengan tipe number\n",
        "df_object.append(df.select_dtypes('object').columns.tolist()) # menampilkan nama kolom yang berisi data dengan tipe object\n",
        "\n",
        "print('Kolom bertipe Number (Integer/Float):\\n\\n',df_number,'\\n')\n",
        "print('Kolom bertipe Integer               :\\n',df_int,'\\n')\n",
        "print('Kolom bertipe Float                 :\\n',df_float,'\\n')\n",
        "print('Kolom bertipe Object                :\\n\\n',df_object)"
      ]
    },
    {
      "cell_type": "markdown",
      "id": "8f9b2c75",
      "metadata": {
        "id": "8f9b2c75"
      },
      "source": [
        "### Convert Integer to Float"
      ]
    },
    {
      "cell_type": "code",
      "execution_count": null,
      "id": "030190d5",
      "metadata": {
        "id": "030190d5",
        "outputId": "2d350070-94fd-4839-94e2-eb525e2348ba"
      },
      "outputs": [
        {
          "name": "stdout",
          "output_type": "stream",
          "text": [
            "Index(['ID Transaksi', 'ID Produk', 'Jumlah'], dtype='object')\n"
          ]
        }
      ],
      "source": [
        "#Feature yang data typenya integer\n",
        "df_int = df.select_dtypes(include='int').columns\n",
        "print(df_int)"
      ]
    },
    {
      "cell_type": "code",
      "execution_count": null,
      "id": "f3b37167",
      "metadata": {
        "id": "f3b37167"
      },
      "outputs": [],
      "source": [
        "df[df_int] = df[df_int].astype(float)"
      ]
    },
    {
      "cell_type": "code",
      "execution_count": null,
      "id": "167a67ee",
      "metadata": {
        "id": "167a67ee",
        "outputId": "eb9aaebb-84e2-44d5-d610-007d08966de1"
      },
      "outputs": [
        {
          "name": "stdout",
          "output_type": "stream",
          "text": [
            "Index(['ID Transaksi', 'ID Produk', 'Jumlah'], dtype='object')\n"
          ]
        }
      ],
      "source": [
        "#Feature yang data typenya float\n",
        "df_float = df.select_dtypes(include='float').columns\n",
        "print(df_float)"
      ]
    },
    {
      "cell_type": "markdown",
      "id": "f418efc1",
      "metadata": {
        "id": "f418efc1"
      },
      "source": [
        "### Data Preprocessing"
      ]
    },
    {
      "cell_type": "code",
      "execution_count": null,
      "id": "23cf05a4",
      "metadata": {
        "id": "23cf05a4",
        "outputId": "621b9409-9bdd-4bb5-a296-49f2fe587a51"
      },
      "outputs": [
        {
          "name": "stdout",
          "output_type": "stream",
          "text": [
            "Dimensi data awal : (56, 7)\n"
          ]
        }
      ],
      "source": [
        "# Total number of rows and columns\n",
        "print(\"Dimensi data awal :\", df.shape)\n",
        "# df.shape"
      ]
    },
    {
      "cell_type": "markdown",
      "id": "2efcad7e",
      "metadata": {
        "id": "2efcad7e"
      },
      "source": [
        "### Handling Missing Value"
      ]
    },
    {
      "cell_type": "markdown",
      "id": "2f114d0b",
      "metadata": {
        "id": "2f114d0b"
      },
      "source": [
        "It is used to remove outliers and duplicates from the dataset. Moreover, it is a very common practice to scale the columns on a standard scale, it helps in faster convergence and gives better results."
      ]
    },
    {
      "cell_type": "code",
      "execution_count": null,
      "id": "27c25399",
      "metadata": {
        "id": "27c25399",
        "outputId": "37231e38-2884-4ad4-a4ac-b17a8216b588"
      },
      "outputs": [
        {
          "data": {
            "text/plain": [
              "0"
            ]
          },
          "execution_count": 15,
          "metadata": {},
          "output_type": "execute_result"
        }
      ],
      "source": [
        "sum(df.duplicated())"
      ]
    },
    {
      "cell_type": "code",
      "execution_count": null,
      "id": "e0739637",
      "metadata": {
        "id": "e0739637",
        "outputId": "f195b76e-b47f-4f08-b4ef-5b7d0c41282c"
      },
      "outputs": [
        {
          "name": "stdout",
          "output_type": "stream",
          "text": [
            "0\n",
            "(56, 7)\n"
          ]
        }
      ],
      "source": [
        "#Remove Duplicate\n",
        "df.drop_duplicates(inplace=True)\n",
        "print(df.duplicated().sum()) # no more duplicates\n",
        "print(df.shape) # re-check by printing data size"
      ]
    },
    {
      "cell_type": "markdown",
      "id": "f341e58b",
      "metadata": {
        "id": "f341e58b"
      },
      "source": [
        "tidak terdapat data duplikat di dalam data"
      ]
    },
    {
      "cell_type": "markdown",
      "id": "9f35895a",
      "metadata": {
        "id": "9f35895a"
      },
      "source": [
        "### Memilih data object"
      ]
    },
    {
      "cell_type": "code",
      "execution_count": null,
      "id": "76fbefdc",
      "metadata": {
        "id": "76fbefdc",
        "outputId": "cc0cdf47-4991-444e-e0a8-38a199e4ea53"
      },
      "outputs": [
        {
          "name": "stdout",
          "output_type": "stream",
          "text": [
            "Index(['Konsumen', 'Nama Produk', 'Merek'], dtype='object')\n"
          ]
        }
      ],
      "source": [
        "#Feature yang data typenya object\n",
        "df_object = df.select_dtypes(include='object').columns\n",
        "print(df_object)"
      ]
    },
    {
      "cell_type": "code",
      "execution_count": null,
      "id": "28cc1550",
      "metadata": {
        "scrolled": false,
        "id": "28cc1550",
        "outputId": "33c35106-116f-4afe-b064-3cde1967630c"
      },
      "outputs": [
        {
          "data": {
            "text/plain": [
              "Konsumen       11\n",
              "Nama Produk     7\n",
              "Merek          12\n",
              "dtype: int64"
            ]
          },
          "execution_count": 18,
          "metadata": {},
          "output_type": "execute_result"
        }
      ],
      "source": [
        "obj = list(df_object)\n",
        "df[obj].nunique()"
      ]
    },
    {
      "cell_type": "markdown",
      "id": "4c129cd2",
      "metadata": {
        "id": "4c129cd2"
      },
      "source": [
        "### Memilih data numerik"
      ]
    },
    {
      "cell_type": "code",
      "execution_count": null,
      "id": "14d76a73",
      "metadata": {
        "id": "14d76a73",
        "outputId": "ffeaaa10-c0a6-4a12-82e3-7ba5836b3210"
      },
      "outputs": [
        {
          "name": "stdout",
          "output_type": "stream",
          "text": [
            "Index(['ID Transaksi', 'ID Produk', 'Jumlah'], dtype='object')\n"
          ]
        }
      ],
      "source": [
        "#Setelah menghapus beberapa fitur numerik\n",
        "df_float = df.select_dtypes(include='float').columns\n",
        "print(df_float)"
      ]
    },
    {
      "cell_type": "markdown",
      "id": "12e072dc",
      "metadata": {
        "id": "12e072dc"
      },
      "source": [
        "### Drop Variabel yang Tidak Berguna"
      ]
    },
    {
      "cell_type": "code",
      "execution_count": null,
      "id": "78cb00d1",
      "metadata": {
        "id": "78cb00d1"
      },
      "outputs": [],
      "source": [
        "del df['ID Transaksi']"
      ]
    },
    {
      "cell_type": "markdown",
      "id": "45eff950",
      "metadata": {
        "id": "45eff950"
      },
      "source": [
        "variabel 'ID Transaksi' tidak berguna sehingga variabel 'ID Transaksi'akan dihapus"
      ]
    },
    {
      "cell_type": "code",
      "execution_count": null,
      "id": "e4dd917c",
      "metadata": {
        "id": "e4dd917c",
        "outputId": "09ca95eb-a3b5-40ea-8553-1e909042dd56"
      },
      "outputs": [
        {
          "name": "stdout",
          "output_type": "stream",
          "text": [
            "Index(['ID Produk', 'Jumlah'], dtype='object')\n"
          ]
        }
      ],
      "source": [
        "#Setelah menghapus variabel\n",
        "df_float = df.select_dtypes(include='float').columns\n",
        "print(df_float)"
      ]
    },
    {
      "cell_type": "markdown",
      "id": "94bed472",
      "metadata": {
        "id": "94bed472"
      },
      "source": [
        "### Cek Missing Value"
      ]
    },
    {
      "cell_type": "code",
      "execution_count": null,
      "id": "3418b51a",
      "metadata": {
        "id": "3418b51a",
        "outputId": "3aa03b81-792b-452a-a316-47b84e3d1361"
      },
      "outputs": [
        {
          "name": "stdout",
          "output_type": "stream",
          "text": [
            "Data Missing Value:\n",
            "\n",
            "       Kolom  Jumlah Missing Value  Persentase Missing Value\n",
            "5     Jumlah                     0                       0.0\n",
            "0    Tanggal                     0                       0.0\n",
            "1   Konsumen                     0                       0.0\n",
            "2  ID Produk                     0                       0.0\n",
            "4      Merek                     0                       0.0 \n",
            "\n",
            "Persentase Missing Value Terbesar                  :  0.0\n",
            "Persentase Missing Value Keseluruhan               :  0.0\n",
            "Data Duplikat:\n",
            "\n",
            "Jumlah terdapat data duplikat pada data df         :  0 ( 0.0 % )\n"
          ]
        }
      ],
      "source": [
        "# Informasi Jumlah dan Persentase Missing Value\n",
        "\n",
        "## general\n",
        "\n",
        "df_mv = df.isnull().sum()                      # menampilkan jumlah total missing value per kolom\n",
        "df_pmv = (df.isnull().sum()/len(df))*100     # menampilkan persentase missing value per kolom\n",
        "\n",
        "df_missing = pd.concat([df_mv,df_pmv],axis = 1).reset_index() # menampilkan data dalam bentuk data frame\n",
        "\n",
        "df_missing.columns = ['Kolom','Jumlah Missing Value','Persentase Missing Value']\n",
        "missing_value = df_missing\n",
        "\n",
        "print('Data Missing Value:\\n')\n",
        "print(missing_value.sample(5),'\\n')\n",
        "print('Persentase Missing Value Terbesar                  : ',missing_value['Persentase Missing Value'].max())\n",
        "print('Persentase Missing Value Keseluruhan               : ',missing_value['Persentase Missing Value'].sum())\n",
        "\n",
        "\n",
        "print('Data Duplikat:\\n')\n",
        "print('Jumlah terdapat data duplikat pada data df         : ',df.duplicated().sum(), '(',(df.duplicated().sum()/len(df))*100,'%',')')"
      ]
    },
    {
      "cell_type": "markdown",
      "id": "b783de6a",
      "metadata": {
        "id": "b783de6a"
      },
      "source": [
        "Pada data tidak terdapat data yang duplikat sehingga tidak perlu dilakukan penghapusan data duplikat"
      ]
    },
    {
      "cell_type": "code",
      "execution_count": null,
      "id": "96de969a",
      "metadata": {
        "id": "96de969a",
        "outputId": "d2daea22-c035-44bf-c3f3-3b65ad30e678"
      },
      "outputs": [
        {
          "name": "stdout",
          "output_type": "stream",
          "text": [
            "Jumlah Data Missing Value:\n",
            "\n",
            "Tanggal        0\n",
            "Konsumen       0\n",
            "ID Produk      0\n",
            "Nama Produk    0\n",
            "Merek          0\n",
            "Jumlah         0\n",
            "dtype: int64\n"
          ]
        }
      ],
      "source": [
        "print('Jumlah Data Missing Value:\\n')\n",
        "print(df.isnull().sum())"
      ]
    },
    {
      "cell_type": "markdown",
      "id": "eca12ee0",
      "metadata": {
        "id": "eca12ee0"
      },
      "source": [
        "## Hasil data setelah di cleansing"
      ]
    },
    {
      "cell_type": "code",
      "execution_count": null,
      "id": "695a7abf",
      "metadata": {
        "id": "695a7abf",
        "outputId": "8f0c034d-032b-4c29-9d9a-130d2e1a4afa"
      },
      "outputs": [
        {
          "data": {
            "text/html": [
              "<div>\n",
              "<style scoped>\n",
              "    .dataframe tbody tr th:only-of-type {\n",
              "        vertical-align: middle;\n",
              "    }\n",
              "\n",
              "    .dataframe tbody tr th {\n",
              "        vertical-align: top;\n",
              "    }\n",
              "\n",
              "    .dataframe thead th {\n",
              "        text-align: right;\n",
              "    }\n",
              "</style>\n",
              "<table border=\"1\" class=\"dataframe\">\n",
              "  <thead>\n",
              "    <tr style=\"text-align: right;\">\n",
              "      <th></th>\n",
              "      <th>Tanggal</th>\n",
              "      <th>Konsumen</th>\n",
              "      <th>ID Produk</th>\n",
              "      <th>Nama Produk</th>\n",
              "      <th>Merek</th>\n",
              "      <th>Jumlah</th>\n",
              "    </tr>\n",
              "  </thead>\n",
              "  <tbody>\n",
              "    <tr>\n",
              "      <th>0</th>\n",
              "      <td>2022-01-07</td>\n",
              "      <td>Mr. A</td>\n",
              "      <td>1.0</td>\n",
              "      <td>Roti</td>\n",
              "      <td>Sri Roti</td>\n",
              "      <td>2.0</td>\n",
              "    </tr>\n",
              "    <tr>\n",
              "      <th>1</th>\n",
              "      <td>2022-01-07</td>\n",
              "      <td>Mr. A</td>\n",
              "      <td>2.0</td>\n",
              "      <td>Air Minum</td>\n",
              "      <td>Aquos</td>\n",
              "      <td>1.0</td>\n",
              "    </tr>\n",
              "    <tr>\n",
              "      <th>2</th>\n",
              "      <td>2022-01-07</td>\n",
              "      <td>Mr. A</td>\n",
              "      <td>11.0</td>\n",
              "      <td>Mie Instan</td>\n",
              "      <td>Indomi</td>\n",
              "      <td>2.0</td>\n",
              "    </tr>\n",
              "    <tr>\n",
              "      <th>3</th>\n",
              "      <td>2022-01-07</td>\n",
              "      <td>Mr. A</td>\n",
              "      <td>12.0</td>\n",
              "      <td>Mie Instan</td>\n",
              "      <td>Mi Sedap</td>\n",
              "      <td>1.0</td>\n",
              "    </tr>\n",
              "    <tr>\n",
              "      <th>4</th>\n",
              "      <td>2022-01-07</td>\n",
              "      <td>Mr. B</td>\n",
              "      <td>2.0</td>\n",
              "      <td>Air Minum</td>\n",
              "      <td>Aquos</td>\n",
              "      <td>1.0</td>\n",
              "    </tr>\n",
              "  </tbody>\n",
              "</table>\n",
              "</div>"
            ],
            "text/plain": [
              "     Tanggal Konsumen  ID Produk Nama Produk     Merek  Jumlah\n",
              "0 2022-01-07    Mr. A        1.0        Roti  Sri Roti     2.0\n",
              "1 2022-01-07    Mr. A        2.0   Air Minum     Aquos     1.0\n",
              "2 2022-01-07    Mr. A       11.0  Mie Instan    Indomi     2.0\n",
              "3 2022-01-07    Mr. A       12.0  Mie Instan  Mi Sedap     1.0\n",
              "4 2022-01-07    Mr. B        2.0   Air Minum     Aquos     1.0"
            ]
          },
          "execution_count": 27,
          "metadata": {},
          "output_type": "execute_result"
        }
      ],
      "source": [
        "df.head()"
      ]
    },
    {
      "cell_type": "markdown",
      "id": "39c0367e",
      "metadata": {
        "id": "39c0367e"
      },
      "source": [
        "## Statistika Deskriptif"
      ]
    },
    {
      "cell_type": "code",
      "execution_count": null,
      "id": "27be589d",
      "metadata": {
        "id": "27be589d",
        "outputId": "b149de7d-a1fc-44ad-ddea-305dd39adac7"
      },
      "outputs": [
        {
          "data": {
            "text/html": [
              "<div>\n",
              "<style scoped>\n",
              "    .dataframe tbody tr th:only-of-type {\n",
              "        vertical-align: middle;\n",
              "    }\n",
              "\n",
              "    .dataframe tbody tr th {\n",
              "        vertical-align: top;\n",
              "    }\n",
              "\n",
              "    .dataframe thead th {\n",
              "        text-align: right;\n",
              "    }\n",
              "</style>\n",
              "<table border=\"1\" class=\"dataframe\">\n",
              "  <thead>\n",
              "    <tr style=\"text-align: right;\">\n",
              "      <th></th>\n",
              "      <th>ID Produk</th>\n",
              "      <th>Jumlah</th>\n",
              "    </tr>\n",
              "  </thead>\n",
              "  <tbody>\n",
              "    <tr>\n",
              "      <th>count</th>\n",
              "      <td>56.000000</td>\n",
              "      <td>56.000000</td>\n",
              "    </tr>\n",
              "    <tr>\n",
              "      <th>mean</th>\n",
              "      <td>6.250000</td>\n",
              "      <td>1.500000</td>\n",
              "    </tr>\n",
              "    <tr>\n",
              "      <th>std</th>\n",
              "      <td>3.475891</td>\n",
              "      <td>0.572078</td>\n",
              "    </tr>\n",
              "    <tr>\n",
              "      <th>min</th>\n",
              "      <td>1.000000</td>\n",
              "      <td>1.000000</td>\n",
              "    </tr>\n",
              "    <tr>\n",
              "      <th>25%</th>\n",
              "      <td>3.750000</td>\n",
              "      <td>1.000000</td>\n",
              "    </tr>\n",
              "    <tr>\n",
              "      <th>50%</th>\n",
              "      <td>6.000000</td>\n",
              "      <td>1.000000</td>\n",
              "    </tr>\n",
              "    <tr>\n",
              "      <th>75%</th>\n",
              "      <td>9.250000</td>\n",
              "      <td>2.000000</td>\n",
              "    </tr>\n",
              "    <tr>\n",
              "      <th>max</th>\n",
              "      <td>12.000000</td>\n",
              "      <td>3.000000</td>\n",
              "    </tr>\n",
              "  </tbody>\n",
              "</table>\n",
              "</div>"
            ],
            "text/plain": [
              "       ID Produk     Jumlah\n",
              "count  56.000000  56.000000\n",
              "mean    6.250000   1.500000\n",
              "std     3.475891   0.572078\n",
              "min     1.000000   1.000000\n",
              "25%     3.750000   1.000000\n",
              "50%     6.000000   1.000000\n",
              "75%     9.250000   2.000000\n",
              "max    12.000000   3.000000"
            ]
          },
          "execution_count": 28,
          "metadata": {},
          "output_type": "execute_result"
        }
      ],
      "source": [
        "### Summary Statistics ###\n",
        "df.describe()"
      ]
    },
    {
      "cell_type": "markdown",
      "id": "f3fc2dd7",
      "metadata": {
        "id": "f3fc2dd7"
      },
      "source": [
        "### Export Hasil Data Cleansing to csv file"
      ]
    },
    {
      "cell_type": "code",
      "execution_count": null,
      "id": "cf58b024",
      "metadata": {
        "id": "cf58b024"
      },
      "outputs": [],
      "source": [
        "df.to_csv(\"C://Users/USER/SEMESTER 7/Data Mining/Study Case 03 - Market Basket Analysis/Data Market Basket Analysis.csv\")"
      ]
    },
    {
      "cell_type": "markdown",
      "id": "2beac277",
      "metadata": {
        "id": "2beac277"
      },
      "source": [
        "## Menggunakan Nilai Kuantitas yang Positif"
      ]
    },
    {
      "cell_type": "code",
      "execution_count": null,
      "id": "c7b418ab",
      "metadata": {
        "id": "c7b418ab"
      },
      "outputs": [],
      "source": [
        "df_plus = df[df['Jumlah']>=0]\n",
        "df_plus.info"
      ]
    },
    {
      "cell_type": "markdown",
      "id": "4b5e7fd2",
      "metadata": {
        "id": "4b5e7fd2"
      },
      "source": [
        "Dalam dataset ini, kolom 'Jumlah' menunjukkan kepada  jumlah barang yang dibeli dalam setiap transaksi. Terkadang transaksi dibatalkan, karena ini adalah toko online. Apabila terjadi pembatalan pada transaksi tertentu, maka akan didatifikasi pada kolom 'Jumlah' sebagai nilai negatif. Karena kami melakukan Market Basket Analysis, pada dasarnya kami ingin menganalisis apa yang ada di dalam keranjang yang sebenarnya dibeli oleh pelanggan kami. Nilai negatif ini tidak termasuk. Oleh karena itu, kami tidak akan menggunakannya. Seperti yang Anda lihat pada gambar di atas, hanya ada '397924' entri yang tidak dibatalkan."
      ]
    },
    {
      "cell_type": "markdown",
      "id": "0bb46b26",
      "metadata": {
        "id": "0bb46b26"
      },
      "source": [
        "## EDA (Exploratory Data Analysis)"
      ]
    },
    {
      "cell_type": "code",
      "execution_count": null,
      "id": "cc5ebae2",
      "metadata": {
        "id": "cc5ebae2"
      },
      "outputs": [],
      "source": [
        "color = plt.cm.rainbow(np.linspace(0, 1, 40))\n",
        "df[0].value_counts().head(40).plot.bar(color = color, figsize=(13,5))\n",
        "plt.title('frequency of most popular items', fontsize = 20)\n",
        "plt.xticks(rotation = 90 )\n",
        "plt.grid()\n",
        "plt.show()"
      ]
    },
    {
      "cell_type": "code",
      "execution_count": null,
      "id": "46e23fea",
      "metadata": {
        "id": "46e23fea"
      },
      "outputs": [],
      "source": [
        "import networkx as nx\n",
        "df['food'] = 'Food'\n",
        "food = df.truncate(before = -1, after = 15)\n",
        "food = nx.from_pandas_edgelist(food, source = 'food', target = 0, edge_attr = True)"
      ]
    },
    {
      "cell_type": "code",
      "execution_count": null,
      "id": "6f46296f",
      "metadata": {
        "id": "6f46296f"
      },
      "outputs": [],
      "source": [
        "import warnings\n",
        "warnings.filterwarnings('ignore')\n",
        "\n",
        "plt.rcParams['figure.figsize'] = (13, 13)\n",
        "pos = nx.spring_layout(food)\n",
        "color = plt.cm.Set1(np.linspace(0, 15, 1))\n",
        "nx.draw_networkx_nodes(food, pos, node_size = 15000, node_color = color)\n",
        "nx.draw_networkx_edges(food, pos, width = 3, alpha = 0.6, edge_color = 'black')\n",
        "nx.draw_networkx_labels(food, pos, font_size = 20, font_family = 'sans-serif')\n",
        "plt.axis('off')\n",
        "plt.grid()\n",
        "plt.title('Top 15 First Choices', fontsize = 20)\n",
        "plt.show()"
      ]
    },
    {
      "cell_type": "code",
      "execution_count": null,
      "id": "78dcf1b5",
      "metadata": {
        "id": "78dcf1b5"
      },
      "outputs": [],
      "source": [
        "transactions[:1]"
      ]
    },
    {
      "cell_type": "markdown",
      "id": "224a37cf",
      "metadata": {
        "id": "224a37cf"
      },
      "source": [
        "### Mendapatkan daftar data transaksi"
      ]
    },
    {
      "cell_type": "code",
      "execution_count": null,
      "id": "51715d50",
      "metadata": {
        "id": "51715d50"
      },
      "outputs": [],
      "source": [
        "# Getting the list of transactions from the dataset\n",
        "transactions = []\n",
        "for i in range(0, len(df)):\n",
        "    transactions.append([str(df.values[i,j]) for j in range(0, len(df.columns))])"
      ]
    },
    {
      "cell_type": "markdown",
      "id": "1aeba93b",
      "metadata": {
        "id": "1aeba93b"
      },
      "source": [
        "![image.png](attachment:image.png)"
      ]
    },
    {
      "cell_type": "code",
      "execution_count": null,
      "id": "b725fdc9",
      "metadata": {
        "id": "b725fdc9"
      },
      "outputs": [],
      "source": [
        "from itertools import permutations\n",
        "\n",
        "# Extract unique items.\n",
        "flattened = [item for transaction in transactions for item in transaction]\n",
        "items = list(set(flattened))\n",
        "print('# of items:',len(items))\n",
        "print(list(items))"
      ]
    },
    {
      "cell_type": "code",
      "execution_count": null,
      "id": "91eb223d",
      "metadata": {
        "id": "91eb223d"
      },
      "outputs": [],
      "source": [
        "if 'nan' in items: items.remove('nan')\n",
        "print(list(items))"
      ]
    },
    {
      "cell_type": "code",
      "execution_count": null,
      "id": "1dbc7e0e",
      "metadata": {
        "id": "1dbc7e0e"
      },
      "outputs": [],
      "source": [
        "# Compute and print rules.\n",
        "rules = list(permutations(items, 2))\n",
        "print('# of rules:',len(rules))\n",
        "print(rules[:5])"
      ]
    },
    {
      "cell_type": "markdown",
      "id": "3edbabbf",
      "metadata": {
        "id": "3edbabbf"
      },
      "source": [
        "## One-hot encoding Data Transaksi\n",
        "Untuk mengetahui apakah suatu item termasuk dalam transaksi di mana setiap kolom terdiri dari nilai TRUE dan FALSE"
      ]
    },
    {
      "cell_type": "code",
      "execution_count": null,
      "id": "7a799df0",
      "metadata": {
        "id": "7a799df0"
      },
      "outputs": [],
      "source": [
        "# Import the transaction encoder function from mlxtend\n",
        "from mlxtend.preprocessing import TransactionEncoder\n",
        "\n",
        "# Instantiate transaction encoder and identify unique items\n",
        "encoder = TransactionEncoder().fit(transactions)\n",
        "\n",
        "# One-hot encode transactions\n",
        "onehot = encoder.transform(transactions)\n",
        "\n",
        "# Convert one-hot encoded data to DataFrame\n",
        "onehot = pd.DataFrame(onehot, columns = encoder.columns_).drop('nan', axis=1)\n",
        "\n",
        "# Print the one-hot encoded transaction dataset\n",
        "onehot.head()"
      ]
    },
    {
      "cell_type": "markdown",
      "id": "04d98435",
      "metadata": {
        "id": "04d98435"
      },
      "source": [
        "## Metric and Pruning\n",
        "![image.png](attachment:image.png)"
      ]
    },
    {
      "cell_type": "code",
      "execution_count": null,
      "id": "40562533",
      "metadata": {
        "id": "40562533"
      },
      "outputs": [],
      "source": [
        "# Compute the support\n",
        "support = onehot.mean()\n",
        "support = pd.DataFrame(support, columns=['support']).sort_values('support',ascending=False)\n",
        "\n",
        "# Print the support\n",
        "support.head()"
      ]
    },
    {
      "cell_type": "code",
      "execution_count": null,
      "id": "9fcf3484",
      "metadata": {
        "id": "9fcf3484"
      },
      "outputs": [],
      "source": [
        "support.describe()"
      ]
    },
    {
      "cell_type": "markdown",
      "id": "da4df530",
      "metadata": {
        "id": "da4df530"
      },
      "source": [
        "### Recommending food with support\n",
        "Kita ingin membantu Toko Alfaindo ingin untuk bangkit dari keterpurukannya dan telah memutuskan untuk menggunakan Market Basket Analysis untuk mencari tahu caranya. (liat dari EDA)"
      ]
    },
    {
      "cell_type": "code",
      "execution_count": null,
      "id": "475b90be",
      "metadata": {
        "id": "475b90be"
      },
      "outputs": [],
      "source": [
        "# Compute support for burgers and french fries\n",
        "supportBF = np.logical_and(onehot['burgers'], onehot['french fries']).mean()\n",
        "\n",
        "# Compute support for burgers and mineral water\n",
        "supportBM = np.logical_and(onehot['burgers'], onehot['mineral water']).mean()\n",
        "\n",
        "# Compute support for french fries and mineral water\n",
        "supportFM = np.logical_and(onehot['french fries'], onehot['mineral water']).mean()\n",
        "\n",
        "# Print support values\n",
        "print(\"burgers and french fries: %.2f\" % supportBF)\n",
        "print(\"burgers and mineral water: %.2f\" % supportBM)\n",
        "print(\"french fries and mineral water: %.2f\" % supportFM)"
      ]
    },
    {
      "cell_type": "markdown",
      "id": "a7946422",
      "metadata": {
        "id": "a7946422"
      },
      "source": [
        "### Computing the support metric\n",
        "Ingin memeriksa apakah aturan {air mineral} → {kentang goreng} memiliki dukungan lebih dari 0,05 ."
      ]
    },
    {
      "cell_type": "code",
      "execution_count": null,
      "id": "dcfff400",
      "metadata": {
        "id": "dcfff400"
      },
      "outputs": [],
      "source": [
        "# Add a mineral water+french fries column to the DataFrame onehot\n",
        "onehot['mineral water+french fries'] = np.logical_and(onehot['mineral water'], onehot['french fries'])\n",
        "\n",
        "# Compute the support\n",
        "support = onehot.mean()\n",
        "val = support.loc['mineral water+french fries']\n",
        "\n",
        "# Print the support values\n",
        "print(f'mineral water+french fries support = {val}')"
      ]
    },
    {
      "cell_type": "markdown",
      "id": "4f23fc8f",
      "metadata": {
        "id": "4f23fc8f"
      },
      "source": [
        "### Computing association and dissociation\n",
        "Kami menggunakan metrik Zhang, yang mengukur asosiasi dan disosiasi secara terus menerus. Asosiasi adalah positif dan disosiasi adalah negatif."
      ]
    },
    {
      "cell_type": "code",
      "execution_count": null,
      "id": "8f5759a6",
      "metadata": {
        "id": "8f5759a6"
      },
      "outputs": [],
      "source": [
        "# Compute the support of burgers and french fries\n",
        "supportT = onehot['burgers'].mean()\n",
        "supportP = onehot['french fries'].mean()\n",
        "\n",
        "# Compute the support of both food items\n",
        "supportTP = np.logical_and(onehot['burgers'], onehot['french fries']).mean()\n",
        "\n",
        "# Complete the expressions for the numerator and denominator\n",
        "numerator = supportTP - supportT*supportP\n",
        "denominator = max(supportTP*(1-supportT), supportT*(supportP-supportTP))\n",
        "\n",
        "# Compute and print Zhang's metric\n",
        "zhang = numerator / denominator\n",
        "print(zhang)"
      ]
    },
    {
      "cell_type": "markdown",
      "id": "ea5c3a5a",
      "metadata": {
        "id": "ea5c3a5a"
      },
      "source": [
        "## The Apriori Algorithm\n",
        "![image.png](attachment:image.png)"
      ]
    },
    {
      "cell_type": "code",
      "execution_count": null,
      "id": "cb20c52e",
      "metadata": {
        "id": "cb20c52e"
      },
      "outputs": [],
      "source": [
        "# Import apriori from mlxtend\n",
        "from mlxtend.frequent_patterns import apriori\n",
        "\n",
        "# Compute frequent itemsets using the Apriori algorithm\n",
        "frequent_itemsets = apriori(onehot, \n",
        "                            min_support = 0.05, \n",
        "                            max_len = 3, \n",
        "                            use_colnames = True)\n",
        "\n",
        "# Print a preview of the frequent itemsets\n",
        "frequent_itemsets.head()"
      ]
    },
    {
      "cell_type": "markdown",
      "id": "f863e579",
      "metadata": {
        "id": "f863e579"
      },
      "source": [
        "### Selecting a support threshold"
      ]
    },
    {
      "cell_type": "code",
      "execution_count": null,
      "id": "2918b16e",
      "metadata": {
        "id": "2918b16e"
      },
      "outputs": [],
      "source": [
        "# Import apriori from mlxtend\n",
        "from mlxtend.frequent_patterns import apriori\n",
        "\n",
        "# Compute frequent itemsets using a support of 0.04 and length of 3\n",
        "frequent_itemsets_1 = apriori(onehot, min_support = 0.04, \n",
        "                            max_len = 3, use_colnames = True)\n",
        "\n",
        "# Compute frequent itemsets using a support of 0.05 and length of 3\n",
        "frequent_itemsets_2 = apriori(onehot, min_support = 0.05, \n",
        "                            max_len = 3, use_colnames = True)\n",
        "\n",
        "# Print the number of freqeuent itemsets\n",
        "print(len(frequent_itemsets_1), len(frequent_itemsets_2))"
      ]
    },
    {
      "cell_type": "markdown",
      "id": "9da82d61",
      "metadata": {
        "id": "9da82d61"
      },
      "source": [
        "### Generating association rules\n",
        "Sebelumnya kami menghitung itemset untuk Toko Alfaindo baru menggunakan algoritma Apriori. Kita memperoleh informasi untuk meningkatkan jumlah set item dari (dari data selecting suport threshold) menjadi (...). \n",
        "\n",
        "Tujuannya adalah untuk menentukan aturan asosiasi apa yang dapat ditambang dari kumpulan item ini"
      ]
    },
    {
      "cell_type": "code",
      "execution_count": null,
      "id": "54574077",
      "metadata": {
        "id": "54574077"
      },
      "outputs": [],
      "source": [
        "# Import the association rule function from mlxtend\n",
        "from mlxtend.frequent_patterns import association_rules\n",
        "\n",
        "# Compute all association rules for frequent_itemsets_1\n",
        "rules_1 = association_rules(frequent_itemsets_1, \n",
        "                            metric = \"support\", \n",
        "                            min_threshold = 0.001)\n",
        "\n",
        "# Compute all association rules for frequent_itemsets_2\n",
        "rules_2 = association_rules(frequent_itemsets_2, \n",
        "                            metric = \"support\", \n",
        "                            min_threshold = 0.002)\n",
        "\n",
        "# Print the number of association rules generated\n",
        "print(len(rules_1), len(rules_2))"
      ]
    },
    {
      "cell_type": "code",
      "execution_count": null,
      "id": "60432ce3",
      "metadata": {
        "id": "60432ce3"
      },
      "outputs": [],
      "source": [
        "# Import the association rules function\n",
        "from mlxtend.frequent_patterns import association_rules\n",
        "\n",
        "# Compute frequent itemsets using the Apriori algorithm\n",
        "frequent_itemsets = apriori(onehot, min_support = 0.03, \n",
        "                            max_len = 2, use_colnames = True)\n",
        "\n",
        "# Compute all association rules for frequent_itemsets\n",
        "rules = association_rules(frequent_itemsets, \n",
        "                            metric = \"lift\", \n",
        "                            min_threshold = 1.0)\n",
        "\n",
        "# Print association rules\n",
        "rules.info()"
      ]
    },
    {
      "cell_type": "code",
      "execution_count": null,
      "id": "bd43d32f",
      "metadata": {
        "id": "bd43d32f"
      },
      "outputs": [],
      "source": [
        "rules.head()"
      ]
    },
    {
      "cell_type": "markdown",
      "id": "96075e3a",
      "metadata": {
        "id": "96075e3a"
      },
      "source": [
        "## Interpretasi\n",
        "Dari hasil association_rules di atas, kita dapat melihat bahwa ROSES REGENCY TEACUP AND SAUCER dan GREEN REGENCY TEACUP AND SAUCER adalah item yang memiliki asosiasi tertinggi satu sama lain karena kedua item ini memiliki nilai “lift” tertinggi. Semakin tinggi nilai lift maka semakin tinggi pula asosiasi antar item. Jika nilai lift lebih dari 1, cukup kita katakan bahwa kedua item tersebut saling terkait. Dalam hal ini, nilai lift tertinggi adalah 17,717 yang sangat tinggi. Artinya 2 item ini sangat bagus untuk dijual bersama.\n",
        "\n",
        "Selain itu, kita juga bisa melihat nilai support ROSES REGENCY TEACUP AND SAUCER dan GREEN REGENCY TEACUP AND SAUCER adalah 0,0309% yang berarti ada 3,09% dari total transaksi bahwa 2 item ini dijual bersama. Jumlahnya adalah 476 kali.\n",
        "\n",
        "Dari kepercayaan diri, kami bahkan dapat mengekstrak lebih banyak informasi. Ingat bahwa nilai kepercayaan dipengaruhi oleh anteseden dan konsekuen. Jika antecedent lebih tinggi dari consequent, maka rule yang akan diterapkan adalah rule nomor 1 (bukan nomor 2). dan sebaliknya. Dalam hal ini, nilai antecedent lebih tinggi dari nilai consequent. Artinya kita akan menerapkan aturan nomor 1 yaitu 𝐺𝑅𝐸𝐸𝑁 𝑇𝐸𝐴𝐶𝑈𝑃 𝐴𝑁𝐷 → 𝑅𝐸𝐺𝐸𝑁𝐶𝑌 . Dalam penjelasan yang lebih rinci, ini berarti bahwa seorang pelanggan akan cenderung membeli Cangkir dan Piring Roses Regency SETELAH mereka membeli Cangkir Teh dan Piring Green Regency. Tidak sebaliknya. Ini bisa menjadi informasi yang sangat berharga, karena kami sekarang tahu produk mana yang harus kami beri diskon. Kami dapat memberikan potongan harga untuk Roses Regency Teacup and Sauce jika pelanggan membeli Green Regency Teacup and Saucer."
      ]
    },
    {
      "cell_type": "markdown",
      "id": "be3a0d41",
      "metadata": {
        "id": "be3a0d41"
      },
      "source": [
        "### Interpretasi\n",
        "Market Basket Analysis adalah suatu metodologi untuk melakukan analisis buying habit konsumen dengan menemukan asosiasi antar beberapa item yang berbeda, yang diletakkan konsumen dalam shopping basket (keranjang belanja) yang dibeli pada suatu transaksi tertentu. Tujuan dari Market Basket Analysis adalah untuk mengetahui produk-produk mana yang mungkin akan dibeli secara bersamaan. Kita akan menemukan pola yang menunjukkan item mana yang sering dibeli bersama sehingga  dapat diterapkan diskon ke item tertentu dengan lebih akurat. Meskipun sebuah perusahaan telah memperhatikan tingkat kepuasan customer, namun analisis ini tetap diperlukan untuk membantu perusahaan berkembang dengan lebih cepat.\n",
        "\n",
        "Market Basket Analysis adalah suatu analisis atas perilaku konsumen secara spesifik dari suatu golongan/kelompok tertentu.  Market basket analysis umumnya dimanfaatkan sebagai titik awal pencarian pengetahuan dari suatu transaksi data ketika kita tidak mengetahui pola spesifik apa yang kita cari. \n",
        "\n",
        "Proses market basket analysis dimulai dengan transaksi yang terdiri dari satu/lebih penawaran produk/jasa dan beberapa informasi dasar suatu transaksi. Output dari market basket analysis adalah berbentuk aturan assosiasi (Association Rules). Yang dimaksud dengan Association Rules sendiri adalah pola-pola keterkaitan data dalam basis data."
      ]
    },
    {
      "cell_type": "markdown",
      "id": "1eeadd94",
      "metadata": {
        "id": "1eeadd94"
      },
      "source": [
        "# Terima kasih"
      ]
    }
  ],
  "metadata": {
    "kernelspec": {
      "display_name": "Python 3 (ipykernel)",
      "language": "python",
      "name": "python3"
    },
    "language_info": {
      "codemirror_mode": {
        "name": "ipython",
        "version": 3
      },
      "file_extension": ".py",
      "mimetype": "text/x-python",
      "name": "python",
      "nbconvert_exporter": "python",
      "pygments_lexer": "ipython3",
      "version": "3.9.12"
    },
    "colab": {
      "provenance": [],
      "include_colab_link": true
    }
  },
  "nbformat": 4,
  "nbformat_minor": 5
}